{
 "cells": [
  {
   "cell_type": "markdown",
   "metadata": {},
   "source": [
    "## This notebook will be used to run all codes"
   ]
  },
  {
   "cell_type": "markdown",
   "metadata": {},
   "source": [
    "### Extraction "
   ]
  },
  {
   "cell_type": "code",
   "execution_count": null,
   "metadata": {},
   "outputs": [],
   "source": [
    "%run \"Extraction Subfiles\\CA_webscrape.ipynb\" #Canadian Jobs\n",
    "%run \"Extraction Subfiles\\US_webscrape.ipynb\"   #United States Jobs\n",
    "%run \"Extraction Subfiles\\SG_webscrape.ipynb\"   #Singaporean Jobs\n",
    "%run \"Extraction Subfiles\\AU_webscrape.ipynb\" #Australian Jobs\n",
    "%run \"Extraction Subfiles\\CSV_loading.ipynb\" #University and Mental Health Data "
   ]
  },
  {
   "cell_type": "markdown",
   "metadata": {},
   "source": [
    "### Transformation "
   ]
  },
  {
   "cell_type": "code",
   "execution_count": null,
   "metadata": {},
   "outputs": [],
   "source": [
    "%run \"Transformation Subfiles\\data_transformation.ipynb\" #clean up of all data \n",
    "%run \"Transformation Subfiles\\index_table_creation.ipynb\" #creating country and job title index tables\n",
    "%run \"Transformation Subfiles\\city_location_API.ipynb\" #consolidating all locations into one table (city and state)\n"
   ]
  },
  {
   "cell_type": "markdown",
   "metadata": {},
   "source": [
    "### Loading "
   ]
  },
  {
   "cell_type": "code",
   "execution_count": null,
   "metadata": {},
   "outputs": [],
   "source": [
    "%run \"Load.ipynb\" # database connection and loading of data into db"
   ]
  }
 ],
 "metadata": {
  "kernelspec": {
   "display_name": "Python 3",
   "language": "python",
   "name": "python3"
  },
  "language_info": {
   "codemirror_mode": {
    "name": "ipython",
    "version": 3
   },
   "file_extension": ".py",
   "mimetype": "text/x-python",
   "name": "python",
   "nbconvert_exporter": "python",
   "pygments_lexer": "ipython3",
   "version": "3.8.3"
  }
 },
 "nbformat": 4,
 "nbformat_minor": 4
}
