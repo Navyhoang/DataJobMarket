{
 "cells": [
  {
   "cell_type": "markdown",
   "metadata": {},
   "source": [
    "## Extraction of CSV files\n",
    "----\n",
    "Extraction of University Ranking Data and Mental Health Survey data "
   ]
  },
  {
   "cell_type": "code",
   "execution_count": null,
   "metadata": {},
   "outputs": [],
   "source": [
    "# Dependencies \n",
    "import os \n",
    "import pandas as pd"
   ]
  },
  {
   "cell_type": "code",
   "execution_count": 3,
   "metadata": {},
   "outputs": [],
   "source": [
    "university_filepath = \"../Raw Data/UniversityData.csv\"\n",
    "mentalhealth_filepath = \"../Raw Data/MentalHealthSurvey.csv\"\n",
    "\n",
    "uni_data = pd.read_csv(university_filepath)   \n",
    "uni_df = pd.DataFrame(uni_data)\n",
    "\n",
    "mh_data = pd.read_csv(mentalhealth_filepath)   \n",
    "mh_df = pd.DataFrame(mh_data)"
   ]
  },
  {
   "cell_type": "code",
   "execution_count": 5,
   "metadata": {},
   "outputs": [],
   "source": [
    "#Export to csv \n",
    "uni_df.to_csv(\"../Clean Data/UniversityData.csv\")\n",
    "mh_df.to_csv(\"../Clean Data/MentalHealthSurvey.csv\")"
   ]
  },
  {
   "cell_type": "code",
   "execution_count": null,
   "metadata": {},
   "outputs": [],
   "source": []
  }
 ],
 "metadata": {
  "kernelspec": {
   "display_name": "Python 3",
   "language": "python",
   "name": "python3"
  },
  "language_info": {
   "codemirror_mode": {
    "name": "ipython",
    "version": 3
   },
   "file_extension": ".py",
   "mimetype": "text/x-python",
   "name": "python",
   "nbconvert_exporter": "python",
   "pygments_lexer": "ipython3",
   "version": "3.8.3"
  }
 },
 "nbformat": 4,
 "nbformat_minor": 4
}
