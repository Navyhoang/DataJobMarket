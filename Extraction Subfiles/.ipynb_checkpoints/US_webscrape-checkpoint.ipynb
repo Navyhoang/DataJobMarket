{
 "cells": [
  {
   "cell_type": "markdown",
   "metadata": {},
   "source": [
    "Need to remove duplicates (by job_id) \n",
    "max 500 pages (150 data)"
   ]
  },
  {
   "cell_type": "code",
   "execution_count": 1,
   "metadata": {},
   "outputs": [],
   "source": [
    "# Dependencies\n",
    "from bs4 import BeautifulSoup\n",
    "import requests\n",
    "import pymongo\n",
    "import pandas as pd\n",
    "import time "
   ]
  },
  {
   "cell_type": "code",
   "execution_count": 2,
   "metadata": {},
   "outputs": [],
   "source": [
    "# URL of page to be scraped\n",
    "\n",
    "job_title_list = []\n",
    "job_title_index = []\n",
    "company_list = []\n",
    "job_id_list = []\n",
    "location_list = []"
   ]
  },
  {
   "cell_type": "markdown",
   "metadata": {},
   "source": [
    "## Data Analyst (index = 1)"
   ]
  },
  {
   "cell_type": "code",
   "execution_count": 3,
   "metadata": {},
   "outputs": [
    {
     "name": "stdout",
     "output_type": "stream",
     "text": [
      "https://www.indeed.com/jobs?q=data+analyst&l=\n",
      "Page 1 of 16,748 jobs\n"
     ]
    }
   ],
   "source": [
    "# search query for Data Analyst roles\n",
    "url = f\"https://www.indeed.com/jobs?q=data+analyst&l=\"\n",
    "print(url)\n",
    "\n",
    "# Retrieve page with the requests module\n",
    "response = requests.get(url)\n",
    "\n",
    "# Create BeautifulSoup object; parse with 'html.parser'\n",
    "soup = BeautifulSoup(response.text, 'lxml')\n",
    "results = soup.find('div', id='searchCountPages').text.strip()\n",
    "\n",
    "print(results)"
   ]
  },
  {
   "cell_type": "code",
   "execution_count": 4,
   "metadata": {},
   "outputs": [
    {
     "name": "stdout",
     "output_type": "stream",
     "text": [
      "https://www.indeed.com/jobs?q=data+analyst&start=0\n",
      "https://www.indeed.com/jobs?q=data+analyst&start=10\n",
      "https://www.indeed.com/jobs?q=data+analyst&start=20\n",
      "https://www.indeed.com/jobs?q=data+analyst&start=30\n",
      "https://www.indeed.com/jobs?q=data+analyst&start=40\n",
      "https://www.indeed.com/jobs?q=data+analyst&start=50\n",
      "https://www.indeed.com/jobs?q=data+analyst&start=60\n",
      "https://www.indeed.com/jobs?q=data+analyst&start=70\n",
      "https://www.indeed.com/jobs?q=data+analyst&start=80\n",
      "https://www.indeed.com/jobs?q=data+analyst&start=90\n",
      "https://www.indeed.com/jobs?q=data+analyst&start=100\n",
      "https://www.indeed.com/jobs?q=data+analyst&start=110\n",
      "https://www.indeed.com/jobs?q=data+analyst&start=120\n",
      "https://www.indeed.com/jobs?q=data+analyst&start=130\n",
      "https://www.indeed.com/jobs?q=data+analyst&start=140\n",
      "https://www.indeed.com/jobs?q=data+analyst&start=150\n",
      "https://www.indeed.com/jobs?q=data+analyst&start=160\n",
      "https://www.indeed.com/jobs?q=data+analyst&start=170\n",
      "https://www.indeed.com/jobs?q=data+analyst&start=180\n",
      "https://www.indeed.com/jobs?q=data+analyst&start=190\n",
      "https://www.indeed.com/jobs?q=data+analyst&start=200\n",
      "https://www.indeed.com/jobs?q=data+analyst&start=210\n",
      "https://www.indeed.com/jobs?q=data+analyst&start=220\n",
      "https://www.indeed.com/jobs?q=data+analyst&start=230\n",
      "https://www.indeed.com/jobs?q=data+analyst&start=240\n",
      "https://www.indeed.com/jobs?q=data+analyst&start=250\n",
      "https://www.indeed.com/jobs?q=data+analyst&start=260\n",
      "https://www.indeed.com/jobs?q=data+analyst&start=270\n",
      "https://www.indeed.com/jobs?q=data+analyst&start=280\n",
      "https://www.indeed.com/jobs?q=data+analyst&start=290\n",
      "https://www.indeed.com/jobs?q=data+analyst&start=300\n",
      "https://www.indeed.com/jobs?q=data+analyst&start=310\n",
      "https://www.indeed.com/jobs?q=data+analyst&start=320\n",
      "https://www.indeed.com/jobs?q=data+analyst&start=330\n",
      "https://www.indeed.com/jobs?q=data+analyst&start=340\n",
      "https://www.indeed.com/jobs?q=data+analyst&start=350\n",
      "https://www.indeed.com/jobs?q=data+analyst&start=360\n",
      "https://www.indeed.com/jobs?q=data+analyst&start=370\n",
      "https://www.indeed.com/jobs?q=data+analyst&start=380\n",
      "https://www.indeed.com/jobs?q=data+analyst&start=390\n",
      "https://www.indeed.com/jobs?q=data+analyst&start=400\n",
      "https://www.indeed.com/jobs?q=data+analyst&start=410\n",
      "https://www.indeed.com/jobs?q=data+analyst&start=420\n",
      "https://www.indeed.com/jobs?q=data+analyst&start=430\n",
      "https://www.indeed.com/jobs?q=data+analyst&start=440\n",
      "https://www.indeed.com/jobs?q=data+analyst&start=450\n",
      "https://www.indeed.com/jobs?q=data+analyst&start=460\n",
      "https://www.indeed.com/jobs?q=data+analyst&start=470\n",
      "https://www.indeed.com/jobs?q=data+analyst&start=480\n",
      "https://www.indeed.com/jobs?q=data+analyst&start=490\n",
      "https://www.indeed.com/jobs?q=data+analyst&start=500\n",
      "https://www.indeed.com/jobs?q=data+analyst&start=510\n",
      "https://www.indeed.com/jobs?q=data+analyst&start=520\n",
      "https://www.indeed.com/jobs?q=data+analyst&start=530\n",
      "https://www.indeed.com/jobs?q=data+analyst&start=540\n",
      "https://www.indeed.com/jobs?q=data+analyst&start=550\n",
      "https://www.indeed.com/jobs?q=data+analyst&start=560\n",
      "https://www.indeed.com/jobs?q=data+analyst&start=570\n",
      "https://www.indeed.com/jobs?q=data+analyst&start=580\n",
      "https://www.indeed.com/jobs?q=data+analyst&start=590\n",
      "https://www.indeed.com/jobs?q=data+analyst&start=600\n",
      "https://www.indeed.com/jobs?q=data+analyst&start=610\n",
      "https://www.indeed.com/jobs?q=data+analyst&start=620\n",
      "https://www.indeed.com/jobs?q=data+analyst&start=630\n",
      "https://www.indeed.com/jobs?q=data+analyst&start=640\n",
      "https://www.indeed.com/jobs?q=data+analyst&start=650\n",
      "https://www.indeed.com/jobs?q=data+analyst&start=660\n",
      "https://www.indeed.com/jobs?q=data+analyst&start=670\n",
      "https://www.indeed.com/jobs?q=data+analyst&start=680\n",
      "https://www.indeed.com/jobs?q=data+analyst&start=690\n",
      "https://www.indeed.com/jobs?q=data+analyst&start=700\n"
     ]
    }
   ],
   "source": [
    "# manually checked how many pages there are (859 pages)\n",
    "page = range(0,710,10)\n",
    "\n",
    "page_string = map(str, page) \n",
    "\n",
    "for page in list(page_string): \n",
    "    url = f\"https://www.indeed.com/jobs?q=data+analyst&start={page}\"\n",
    "    print(url)\n",
    "    time.sleep(5)\n",
    "    \n",
    "    # Retrieve page with the requests module\n",
    "    response = requests.get(url)\n",
    "    # Create BeautifulSoup object; parse with 'html.parser'\n",
    "    soup = BeautifulSoup(response.text, 'lxml')\n",
    "    \n",
    "    # Retrieve the parent divs for all articles\n",
    "    results = soup.find_all('div', class_='result')\n",
    "    \n",
    "    # loop over results to get article data\n",
    "    for result in results:\n",
    "        try:\n",
    "            # scrape the article header \n",
    "            job_title = result.find('a', class_='jobtitle').text.strip()\n",
    "            job_index = 1\n",
    "            company = result.find('span', class_='company').text.strip()\n",
    "            job_id = result.get('id')\n",
    "            location = result.find(class_='location').text\n",
    "\n",
    "            job_title_list.append(job_title)\n",
    "            job_title_index.append(job_index)\n",
    "            company_list.append(company)\n",
    "            location_list.append(location)\n",
    "            job_id_list.append(job_id)\n",
    "            \n",
    "        except:\n",
    "            pass"
   ]
  },
  {
   "cell_type": "code",
   "execution_count": 5,
   "metadata": {},
   "outputs": [
    {
     "data": {
      "text/plain": [
       "906"
      ]
     },
     "execution_count": 5,
     "metadata": {},
     "output_type": "execute_result"
    }
   ],
   "source": [
    "unique = set(job_id_list)\n",
    "len(unique)"
   ]
  },
  {
   "cell_type": "markdown",
   "metadata": {},
   "source": [
    "## Data Scientist (index = 2)"
   ]
  },
  {
   "cell_type": "code",
   "execution_count": 6,
   "metadata": {},
   "outputs": [
    {
     "name": "stdout",
     "output_type": "stream",
     "text": [
      "Page 1 of 11,236 jobs\n"
     ]
    }
   ],
   "source": [
    "# search query for Data Scientist roles\n",
    "url = f\"https://www.indeed.com/jobs?q=data+scientist&l=\"\n",
    "\n",
    "# Retrieve page with the requests module\n",
    "response = requests.get(url)\n",
    "\n",
    "# Create BeautifulSoup object; parse with 'html.parser'\n",
    "soup = BeautifulSoup(response.text, 'lxml')\n",
    "results = soup.find(id='searchCountPages').text.strip()\n",
    "\n",
    "print(results) "
   ]
  },
  {
   "cell_type": "code",
   "execution_count": 7,
   "metadata": {},
   "outputs": [
    {
     "name": "stdout",
     "output_type": "stream",
     "text": [
      "https://www.indeed.com/jobs?q=data+scientist&start=0\n",
      "https://www.indeed.com/jobs?q=data+scientist&start=10\n",
      "https://www.indeed.com/jobs?q=data+scientist&start=20\n",
      "https://www.indeed.com/jobs?q=data+scientist&start=30\n",
      "https://www.indeed.com/jobs?q=data+scientist&start=40\n",
      "https://www.indeed.com/jobs?q=data+scientist&start=50\n",
      "https://www.indeed.com/jobs?q=data+scientist&start=60\n",
      "https://www.indeed.com/jobs?q=data+scientist&start=70\n",
      "https://www.indeed.com/jobs?q=data+scientist&start=80\n",
      "https://www.indeed.com/jobs?q=data+scientist&start=90\n",
      "https://www.indeed.com/jobs?q=data+scientist&start=100\n",
      "https://www.indeed.com/jobs?q=data+scientist&start=110\n",
      "https://www.indeed.com/jobs?q=data+scientist&start=120\n",
      "https://www.indeed.com/jobs?q=data+scientist&start=130\n",
      "https://www.indeed.com/jobs?q=data+scientist&start=140\n",
      "https://www.indeed.com/jobs?q=data+scientist&start=150\n",
      "https://www.indeed.com/jobs?q=data+scientist&start=160\n",
      "https://www.indeed.com/jobs?q=data+scientist&start=170\n",
      "https://www.indeed.com/jobs?q=data+scientist&start=180\n",
      "https://www.indeed.com/jobs?q=data+scientist&start=190\n",
      "https://www.indeed.com/jobs?q=data+scientist&start=200\n",
      "https://www.indeed.com/jobs?q=data+scientist&start=210\n",
      "https://www.indeed.com/jobs?q=data+scientist&start=220\n",
      "https://www.indeed.com/jobs?q=data+scientist&start=230\n",
      "https://www.indeed.com/jobs?q=data+scientist&start=240\n",
      "https://www.indeed.com/jobs?q=data+scientist&start=250\n",
      "https://www.indeed.com/jobs?q=data+scientist&start=260\n",
      "https://www.indeed.com/jobs?q=data+scientist&start=270\n",
      "https://www.indeed.com/jobs?q=data+scientist&start=280\n",
      "https://www.indeed.com/jobs?q=data+scientist&start=290\n",
      "https://www.indeed.com/jobs?q=data+scientist&start=300\n",
      "https://www.indeed.com/jobs?q=data+scientist&start=310\n",
      "https://www.indeed.com/jobs?q=data+scientist&start=320\n",
      "https://www.indeed.com/jobs?q=data+scientist&start=330\n",
      "https://www.indeed.com/jobs?q=data+scientist&start=340\n",
      "https://www.indeed.com/jobs?q=data+scientist&start=350\n",
      "https://www.indeed.com/jobs?q=data+scientist&start=360\n",
      "https://www.indeed.com/jobs?q=data+scientist&start=370\n",
      "https://www.indeed.com/jobs?q=data+scientist&start=380\n",
      "https://www.indeed.com/jobs?q=data+scientist&start=390\n",
      "https://www.indeed.com/jobs?q=data+scientist&start=400\n",
      "https://www.indeed.com/jobs?q=data+scientist&start=410\n",
      "https://www.indeed.com/jobs?q=data+scientist&start=420\n",
      "https://www.indeed.com/jobs?q=data+scientist&start=430\n",
      "https://www.indeed.com/jobs?q=data+scientist&start=440\n",
      "https://www.indeed.com/jobs?q=data+scientist&start=450\n",
      "https://www.indeed.com/jobs?q=data+scientist&start=460\n",
      "https://www.indeed.com/jobs?q=data+scientist&start=470\n",
      "https://www.indeed.com/jobs?q=data+scientist&start=480\n",
      "https://www.indeed.com/jobs?q=data+scientist&start=490\n",
      "https://www.indeed.com/jobs?q=data+scientist&start=500\n",
      "https://www.indeed.com/jobs?q=data+scientist&start=510\n",
      "https://www.indeed.com/jobs?q=data+scientist&start=520\n",
      "https://www.indeed.com/jobs?q=data+scientist&start=530\n",
      "https://www.indeed.com/jobs?q=data+scientist&start=540\n",
      "https://www.indeed.com/jobs?q=data+scientist&start=550\n",
      "https://www.indeed.com/jobs?q=data+scientist&start=560\n",
      "https://www.indeed.com/jobs?q=data+scientist&start=570\n",
      "https://www.indeed.com/jobs?q=data+scientist&start=580\n",
      "https://www.indeed.com/jobs?q=data+scientist&start=590\n",
      "https://www.indeed.com/jobs?q=data+scientist&start=600\n",
      "https://www.indeed.com/jobs?q=data+scientist&start=610\n",
      "https://www.indeed.com/jobs?q=data+scientist&start=620\n",
      "https://www.indeed.com/jobs?q=data+scientist&start=630\n",
      "https://www.indeed.com/jobs?q=data+scientist&start=640\n",
      "https://www.indeed.com/jobs?q=data+scientist&start=650\n",
      "https://www.indeed.com/jobs?q=data+scientist&start=660\n",
      "https://www.indeed.com/jobs?q=data+scientist&start=670\n",
      "https://www.indeed.com/jobs?q=data+scientist&start=680\n",
      "https://www.indeed.com/jobs?q=data+scientist&start=690\n",
      "https://www.indeed.com/jobs?q=data+scientist&start=700\n"
     ]
    }
   ],
   "source": [
    "# manually checked how many pages there are (770 pages)\n",
    "page = range(0,710,10)\n",
    "\n",
    "page_string = map(str, page) \n",
    "\n",
    "for page in list(page_string): \n",
    "    url = f\"https://www.indeed.com/jobs?q=data+scientist&start={page}\"\n",
    "    print(url)\n",
    "    time.sleep(5)\n",
    "    \n",
    "    # Retrieve page with the requests module\n",
    "    response = requests.get(url)\n",
    "    # Create BeautifulSoup object; parse with 'html.parser'\n",
    "    soup = BeautifulSoup(response.text, 'lxml')\n",
    "    \n",
    "    # Retrieve the parent divs for all articles\n",
    "    results = soup.find_all('div', class_='result')\n",
    "    \n",
    "    # loop over results to get article data\n",
    "    for result in results:\n",
    "        try:\n",
    "            # scrape the article header \n",
    "            job_title = result.find('a', class_='jobtitle').text.strip()\n",
    "            job_index = 2\n",
    "            company = result.find('span', class_='company').text.strip()\n",
    "            job_id = result.get('id')\n",
    "            location = result.find(class_='location').text\n",
    "\n",
    "            job_title_list.append(job_title)\n",
    "            job_title_index.append(job_index)\n",
    "            company_list.append(company)\n",
    "            location_list.append(location)\n",
    "            job_id_list.append(job_id)\n",
    "            \n",
    "        except:\n",
    "            pass"
   ]
  },
  {
   "cell_type": "code",
   "execution_count": 8,
   "metadata": {},
   "outputs": [
    {
     "data": {
      "text/plain": [
       "1742"
      ]
     },
     "execution_count": 8,
     "metadata": {},
     "output_type": "execute_result"
    }
   ],
   "source": [
    "unique = set(job_id_list)\n",
    "len(unique)"
   ]
  },
  {
   "cell_type": "markdown",
   "metadata": {},
   "source": [
    "## Data Engineer (index = 3)"
   ]
  },
  {
   "cell_type": "code",
   "execution_count": 9,
   "metadata": {},
   "outputs": [
    {
     "name": "stdout",
     "output_type": "stream",
     "text": [
      "Page 1 of 117,997 jobs\n"
     ]
    }
   ],
   "source": [
    "# search query for Data Engineer roles\n",
    "url = f\"https://www.indeed.com/jobs?q=data+engineer&l=\"\n",
    "\n",
    "# Retrieve page with the requests module\n",
    "response = requests.get(url)\n",
    "\n",
    "# Create BeautifulSoup object; parse with 'html.parser'\n",
    "soup = BeautifulSoup(response.text, 'lxml')\n",
    "results = soup.find(id='searchCountPages').text.strip()\n",
    "\n",
    "print(results) "
   ]
  },
  {
   "cell_type": "code",
   "execution_count": 10,
   "metadata": {},
   "outputs": [
    {
     "name": "stdout",
     "output_type": "stream",
     "text": [
      "https://www.indeed.com/jobs?q=data+engineer&start=0\n",
      "https://www.indeed.com/jobs?q=data+engineer&start=10\n",
      "https://www.indeed.com/jobs?q=data+engineer&start=20\n",
      "https://www.indeed.com/jobs?q=data+engineer&start=30\n",
      "https://www.indeed.com/jobs?q=data+engineer&start=40\n",
      "https://www.indeed.com/jobs?q=data+engineer&start=50\n",
      "https://www.indeed.com/jobs?q=data+engineer&start=60\n",
      "https://www.indeed.com/jobs?q=data+engineer&start=70\n",
      "https://www.indeed.com/jobs?q=data+engineer&start=80\n",
      "https://www.indeed.com/jobs?q=data+engineer&start=90\n",
      "https://www.indeed.com/jobs?q=data+engineer&start=100\n",
      "https://www.indeed.com/jobs?q=data+engineer&start=110\n",
      "https://www.indeed.com/jobs?q=data+engineer&start=120\n",
      "https://www.indeed.com/jobs?q=data+engineer&start=130\n",
      "https://www.indeed.com/jobs?q=data+engineer&start=140\n",
      "https://www.indeed.com/jobs?q=data+engineer&start=150\n",
      "https://www.indeed.com/jobs?q=data+engineer&start=160\n",
      "https://www.indeed.com/jobs?q=data+engineer&start=170\n",
      "https://www.indeed.com/jobs?q=data+engineer&start=180\n",
      "https://www.indeed.com/jobs?q=data+engineer&start=190\n",
      "https://www.indeed.com/jobs?q=data+engineer&start=200\n",
      "https://www.indeed.com/jobs?q=data+engineer&start=210\n",
      "https://www.indeed.com/jobs?q=data+engineer&start=220\n",
      "https://www.indeed.com/jobs?q=data+engineer&start=230\n",
      "https://www.indeed.com/jobs?q=data+engineer&start=240\n",
      "https://www.indeed.com/jobs?q=data+engineer&start=250\n",
      "https://www.indeed.com/jobs?q=data+engineer&start=260\n",
      "https://www.indeed.com/jobs?q=data+engineer&start=270\n",
      "https://www.indeed.com/jobs?q=data+engineer&start=280\n",
      "https://www.indeed.com/jobs?q=data+engineer&start=290\n",
      "https://www.indeed.com/jobs?q=data+engineer&start=300\n",
      "https://www.indeed.com/jobs?q=data+engineer&start=310\n",
      "https://www.indeed.com/jobs?q=data+engineer&start=320\n",
      "https://www.indeed.com/jobs?q=data+engineer&start=330\n",
      "https://www.indeed.com/jobs?q=data+engineer&start=340\n",
      "https://www.indeed.com/jobs?q=data+engineer&start=350\n",
      "https://www.indeed.com/jobs?q=data+engineer&start=360\n",
      "https://www.indeed.com/jobs?q=data+engineer&start=370\n",
      "https://www.indeed.com/jobs?q=data+engineer&start=380\n",
      "https://www.indeed.com/jobs?q=data+engineer&start=390\n",
      "https://www.indeed.com/jobs?q=data+engineer&start=400\n",
      "https://www.indeed.com/jobs?q=data+engineer&start=410\n",
      "https://www.indeed.com/jobs?q=data+engineer&start=420\n",
      "https://www.indeed.com/jobs?q=data+engineer&start=430\n",
      "https://www.indeed.com/jobs?q=data+engineer&start=440\n",
      "https://www.indeed.com/jobs?q=data+engineer&start=450\n",
      "https://www.indeed.com/jobs?q=data+engineer&start=460\n",
      "https://www.indeed.com/jobs?q=data+engineer&start=470\n",
      "https://www.indeed.com/jobs?q=data+engineer&start=480\n",
      "https://www.indeed.com/jobs?q=data+engineer&start=490\n",
      "https://www.indeed.com/jobs?q=data+engineer&start=500\n",
      "https://www.indeed.com/jobs?q=data+engineer&start=510\n",
      "https://www.indeed.com/jobs?q=data+engineer&start=520\n",
      "https://www.indeed.com/jobs?q=data+engineer&start=530\n",
      "https://www.indeed.com/jobs?q=data+engineer&start=540\n",
      "https://www.indeed.com/jobs?q=data+engineer&start=550\n",
      "https://www.indeed.com/jobs?q=data+engineer&start=560\n",
      "https://www.indeed.com/jobs?q=data+engineer&start=570\n",
      "https://www.indeed.com/jobs?q=data+engineer&start=580\n",
      "https://www.indeed.com/jobs?q=data+engineer&start=590\n",
      "https://www.indeed.com/jobs?q=data+engineer&start=600\n",
      "https://www.indeed.com/jobs?q=data+engineer&start=610\n",
      "https://www.indeed.com/jobs?q=data+engineer&start=620\n",
      "https://www.indeed.com/jobs?q=data+engineer&start=630\n",
      "https://www.indeed.com/jobs?q=data+engineer&start=640\n",
      "https://www.indeed.com/jobs?q=data+engineer&start=650\n",
      "https://www.indeed.com/jobs?q=data+engineer&start=660\n",
      "https://www.indeed.com/jobs?q=data+engineer&start=670\n",
      "https://www.indeed.com/jobs?q=data+engineer&start=680\n",
      "https://www.indeed.com/jobs?q=data+engineer&start=690\n",
      "https://www.indeed.com/jobs?q=data+engineer&start=700\n"
     ]
    }
   ],
   "source": [
    "# manually checked how many pages there are (770 pages)\n",
    "page = range(0,710,10)\n",
    "\n",
    "page_string = map(str, page) \n",
    "\n",
    "for page in list(page_string): \n",
    "    url = f\"https://www.indeed.com/jobs?q=data+engineer&start={page}\"\n",
    "    print(url)\n",
    "    time.sleep(5)\n",
    "    \n",
    "    # Retrieve page with the requests module\n",
    "    response = requests.get(url)\n",
    "    # Create BeautifulSoup object; parse with 'html.parser'\n",
    "    soup = BeautifulSoup(response.text, 'lxml')\n",
    "    \n",
    "    # Retrieve the parent divs for all articles\n",
    "    results = soup.find_all('div', class_='result')\n",
    "    \n",
    "    # loop over results to get article data\n",
    "    for result in results:\n",
    "        try:\n",
    "            # scrape the article header \n",
    "            job_title = result.find('a', class_='jobtitle').text.strip()\n",
    "            job_index = 2\n",
    "            company = result.find('span', class_='company').text.strip()\n",
    "            job_id = result.get('id')\n",
    "            location = result.find(class_='location').text\n",
    "\n",
    "            job_title_list.append(job_title)\n",
    "            job_title_index.append(job_index)\n",
    "            company_list.append(company)\n",
    "            location_list.append(location)\n",
    "            job_id_list.append(job_id)\n",
    "            \n",
    "        except:\n",
    "            pass"
   ]
  },
  {
   "cell_type": "code",
   "execution_count": 11,
   "metadata": {},
   "outputs": [
    {
     "data": {
      "text/plain": [
       "2576"
      ]
     },
     "execution_count": 11,
     "metadata": {},
     "output_type": "execute_result"
    }
   ],
   "source": [
    "unique = set(job_id_list)\n",
    "len(unique)"
   ]
  },
  {
   "cell_type": "markdown",
   "metadata": {},
   "source": [
    "## Machine Learning (index = 4)"
   ]
  },
  {
   "cell_type": "code",
   "execution_count": 12,
   "metadata": {},
   "outputs": [
    {
     "name": "stdout",
     "output_type": "stream",
     "text": [
      "Page 1 of 30,303 jobs\n"
     ]
    }
   ],
   "source": [
    "# search query for Machine Learning roles\n",
    "url = f\"https://www.indeed.com/jobs?q=machine+learning&l=\"\n",
    "\n",
    "# Retrieve page with the requests module\n",
    "response = requests.get(url)\n",
    "\n",
    "# Create BeautifulSoup object; parse with 'html.parser'\n",
    "soup = BeautifulSoup(response.text, 'lxml')\n",
    "results = soup.find(id='searchCountPages').text.strip()\n",
    "\n",
    "print(results) "
   ]
  },
  {
   "cell_type": "code",
   "execution_count": 13,
   "metadata": {},
   "outputs": [
    {
     "name": "stdout",
     "output_type": "stream",
     "text": [
      "https://www.indeed.com/jobs?q=machine+learning&start=0\n",
      "https://www.indeed.com/jobs?q=machine+learning&start=10\n",
      "https://www.indeed.com/jobs?q=machine+learning&start=20\n",
      "https://www.indeed.com/jobs?q=machine+learning&start=30\n",
      "https://www.indeed.com/jobs?q=machine+learning&start=40\n",
      "https://www.indeed.com/jobs?q=machine+learning&start=50\n",
      "https://www.indeed.com/jobs?q=machine+learning&start=60\n",
      "https://www.indeed.com/jobs?q=machine+learning&start=70\n",
      "https://www.indeed.com/jobs?q=machine+learning&start=80\n",
      "https://www.indeed.com/jobs?q=machine+learning&start=90\n",
      "https://www.indeed.com/jobs?q=machine+learning&start=100\n",
      "https://www.indeed.com/jobs?q=machine+learning&start=110\n",
      "https://www.indeed.com/jobs?q=machine+learning&start=120\n",
      "https://www.indeed.com/jobs?q=machine+learning&start=130\n",
      "https://www.indeed.com/jobs?q=machine+learning&start=140\n",
      "https://www.indeed.com/jobs?q=machine+learning&start=150\n",
      "https://www.indeed.com/jobs?q=machine+learning&start=160\n",
      "https://www.indeed.com/jobs?q=machine+learning&start=170\n",
      "https://www.indeed.com/jobs?q=machine+learning&start=180\n",
      "https://www.indeed.com/jobs?q=machine+learning&start=190\n",
      "https://www.indeed.com/jobs?q=machine+learning&start=200\n",
      "https://www.indeed.com/jobs?q=machine+learning&start=210\n",
      "https://www.indeed.com/jobs?q=machine+learning&start=220\n",
      "https://www.indeed.com/jobs?q=machine+learning&start=230\n",
      "https://www.indeed.com/jobs?q=machine+learning&start=240\n",
      "https://www.indeed.com/jobs?q=machine+learning&start=250\n",
      "https://www.indeed.com/jobs?q=machine+learning&start=260\n",
      "https://www.indeed.com/jobs?q=machine+learning&start=270\n",
      "https://www.indeed.com/jobs?q=machine+learning&start=280\n",
      "https://www.indeed.com/jobs?q=machine+learning&start=290\n",
      "https://www.indeed.com/jobs?q=machine+learning&start=300\n",
      "https://www.indeed.com/jobs?q=machine+learning&start=310\n",
      "https://www.indeed.com/jobs?q=machine+learning&start=320\n",
      "https://www.indeed.com/jobs?q=machine+learning&start=330\n",
      "https://www.indeed.com/jobs?q=machine+learning&start=340\n",
      "https://www.indeed.com/jobs?q=machine+learning&start=350\n",
      "https://www.indeed.com/jobs?q=machine+learning&start=360\n",
      "https://www.indeed.com/jobs?q=machine+learning&start=370\n",
      "https://www.indeed.com/jobs?q=machine+learning&start=380\n",
      "https://www.indeed.com/jobs?q=machine+learning&start=390\n",
      "https://www.indeed.com/jobs?q=machine+learning&start=400\n",
      "https://www.indeed.com/jobs?q=machine+learning&start=410\n",
      "https://www.indeed.com/jobs?q=machine+learning&start=420\n",
      "https://www.indeed.com/jobs?q=machine+learning&start=430\n",
      "https://www.indeed.com/jobs?q=machine+learning&start=440\n",
      "https://www.indeed.com/jobs?q=machine+learning&start=450\n",
      "https://www.indeed.com/jobs?q=machine+learning&start=460\n",
      "https://www.indeed.com/jobs?q=machine+learning&start=470\n",
      "https://www.indeed.com/jobs?q=machine+learning&start=480\n",
      "https://www.indeed.com/jobs?q=machine+learning&start=490\n",
      "https://www.indeed.com/jobs?q=machine+learning&start=500\n",
      "https://www.indeed.com/jobs?q=machine+learning&start=510\n",
      "https://www.indeed.com/jobs?q=machine+learning&start=520\n",
      "https://www.indeed.com/jobs?q=machine+learning&start=530\n",
      "https://www.indeed.com/jobs?q=machine+learning&start=540\n",
      "https://www.indeed.com/jobs?q=machine+learning&start=550\n",
      "https://www.indeed.com/jobs?q=machine+learning&start=560\n",
      "https://www.indeed.com/jobs?q=machine+learning&start=570\n",
      "https://www.indeed.com/jobs?q=machine+learning&start=580\n",
      "https://www.indeed.com/jobs?q=machine+learning&start=590\n",
      "https://www.indeed.com/jobs?q=machine+learning&start=600\n",
      "https://www.indeed.com/jobs?q=machine+learning&start=610\n",
      "https://www.indeed.com/jobs?q=machine+learning&start=620\n",
      "https://www.indeed.com/jobs?q=machine+learning&start=630\n",
      "https://www.indeed.com/jobs?q=machine+learning&start=640\n",
      "https://www.indeed.com/jobs?q=machine+learning&start=650\n",
      "https://www.indeed.com/jobs?q=machine+learning&start=660\n",
      "https://www.indeed.com/jobs?q=machine+learning&start=670\n",
      "https://www.indeed.com/jobs?q=machine+learning&start=680\n",
      "https://www.indeed.com/jobs?q=machine+learning&start=690\n",
      "https://www.indeed.com/jobs?q=machine+learning&start=700\n"
     ]
    }
   ],
   "source": [
    "# manually checked how many pages there are\n",
    "page = range(0,710,10)\n",
    "\n",
    "page_string = map(str, page) \n",
    "\n",
    "for page in list(page_string): \n",
    "    url = f\"https://www.indeed.com/jobs?q=machine+learning&start={page}\"\n",
    "    print(url)\n",
    "    \n",
    "    # Retrieve page with the requests module\n",
    "    response = requests.get(url)\n",
    "    # Create BeautifulSoup object; parse with 'html.parser'\n",
    "    soup = BeautifulSoup(response.text, 'lxml')\n",
    "    \n",
    "    # Retrieve the parent divs for all articles\n",
    "    results = soup.find_all('div', class_='result')\n",
    "    \n",
    "    # loop over results to get article data\n",
    "    for result in results:\n",
    "        try:\n",
    "            # scrape the article header \n",
    "            job_title = result.find('a', class_='jobtitle').text.strip()\n",
    "            job_index = 4\n",
    "            company = result.find('span', class_='company').text.strip()\n",
    "            job_id = result.get('id')\n",
    "            location = result.find(class_='location').text\n",
    "\n",
    "            job_title_list.append(job_title)\n",
    "            job_title_index.append(job_index)\n",
    "            company_list.append(company)\n",
    "            location_list.append(location)\n",
    "            job_id_list.append(job_id)\n",
    "            \n",
    "        except:\n",
    "            pass"
   ]
  },
  {
   "cell_type": "code",
   "execution_count": 14,
   "metadata": {},
   "outputs": [
    {
     "data": {
      "text/plain": [
       "3348"
      ]
     },
     "execution_count": 14,
     "metadata": {},
     "output_type": "execute_result"
    }
   ],
   "source": [
    "unique = set(job_id_list)\n",
    "len(unique)"
   ]
  },
  {
   "cell_type": "markdown",
   "metadata": {},
   "source": [
    "## Data Compilation into one table "
   ]
  },
  {
   "cell_type": "code",
   "execution_count": 15,
   "metadata": {},
   "outputs": [],
   "source": [
    "#putting list into dataframe\n",
    "\n",
    "US_jobmarket = {\"Job ID\" : job_id_list,\n",
    "                \"Job Title Index\" : job_title_index,\n",
    "                \"Job Title\" : job_title_list, \n",
    "                \"Company Name\" : company_list, \n",
    "                \"Company Location\" : location_list}"
   ]
  },
  {
   "cell_type": "code",
   "execution_count": 17,
   "metadata": {},
   "outputs": [],
   "source": [
    "US_jobmarket_df = pd.DataFrame(US_jobmarket)"
   ]
  },
  {
   "cell_type": "code",
   "execution_count": 18,
   "metadata": {},
   "outputs": [
    {
     "data": {
      "text/html": [
       "<div>\n",
       "<style scoped>\n",
       "    .dataframe tbody tr th:only-of-type {\n",
       "        vertical-align: middle;\n",
       "    }\n",
       "\n",
       "    .dataframe tbody tr th {\n",
       "        vertical-align: top;\n",
       "    }\n",
       "\n",
       "    .dataframe thead th {\n",
       "        text-align: right;\n",
       "    }\n",
       "</style>\n",
       "<table border=\"1\" class=\"dataframe\">\n",
       "  <thead>\n",
       "    <tr style=\"text-align: right;\">\n",
       "      <th></th>\n",
       "      <th>Job ID</th>\n",
       "      <th>Job Title Index</th>\n",
       "      <th>Job Title</th>\n",
       "      <th>Company Name</th>\n",
       "      <th>Company Location</th>\n",
       "    </tr>\n",
       "  </thead>\n",
       "  <tbody>\n",
       "    <tr>\n",
       "      <th>0</th>\n",
       "      <td>pj_b4f158c723946d35</td>\n",
       "      <td>1</td>\n",
       "      <td>Junior Data Analyst</td>\n",
       "      <td>SolarWinds</td>\n",
       "      <td>Morrisville, NC 27560 (Perimeter Park area)</td>\n",
       "    </tr>\n",
       "    <tr>\n",
       "      <th>1</th>\n",
       "      <td>pj_8865e3b74164f9b4</td>\n",
       "      <td>1</td>\n",
       "      <td>Data Analyst - $18-$22/hr</td>\n",
       "      <td>Buffalo Biodiesel, Inc.</td>\n",
       "      <td>Tonawanda, NY 14150</td>\n",
       "    </tr>\n",
       "    <tr>\n",
       "      <th>2</th>\n",
       "      <td>pj_85b7548ad2d4d651</td>\n",
       "      <td>1</td>\n",
       "      <td>Data Analyst</td>\n",
       "      <td>Sunlighten (435/Metcalf)</td>\n",
       "      <td>Overland Park, KS 66210</td>\n",
       "    </tr>\n",
       "    <tr>\n",
       "      <th>3</th>\n",
       "      <td>p_4978853c04390cd1</td>\n",
       "      <td>1</td>\n",
       "      <td>Data Analyst Intern (Spring 2021)</td>\n",
       "      <td>Showwcase</td>\n",
       "      <td>San Francisco, CA 94117 (Haight-Ashbury area)</td>\n",
       "    </tr>\n",
       "    <tr>\n",
       "      <th>4</th>\n",
       "      <td>p_00fc5854f5aee4ce</td>\n",
       "      <td>1</td>\n",
       "      <td>Data Analyst</td>\n",
       "      <td>Digital HD Films</td>\n",
       "      <td>Calabasas, CA</td>\n",
       "    </tr>\n",
       "  </tbody>\n",
       "</table>\n",
       "</div>"
      ],
      "text/plain": [
       "                Job ID  Job Title Index                          Job Title  \\\n",
       "0  pj_b4f158c723946d35                1                Junior Data Analyst   \n",
       "1  pj_8865e3b74164f9b4                1          Data Analyst - $18-$22/hr   \n",
       "2  pj_85b7548ad2d4d651                1                       Data Analyst   \n",
       "3   p_4978853c04390cd1                1  Data Analyst Intern (Spring 2021)   \n",
       "4   p_00fc5854f5aee4ce                1                       Data Analyst   \n",
       "\n",
       "               Company Name                               Company Location  \n",
       "0                SolarWinds    Morrisville, NC 27560 (Perimeter Park area)  \n",
       "1   Buffalo Biodiesel, Inc.                            Tonawanda, NY 14150  \n",
       "2  Sunlighten (435/Metcalf)                        Overland Park, KS 66210  \n",
       "3                 Showwcase  San Francisco, CA 94117 (Haight-Ashbury area)  \n",
       "4          Digital HD Films                                  Calabasas, CA  "
      ]
     },
     "execution_count": 18,
     "metadata": {},
     "output_type": "execute_result"
    }
   ],
   "source": [
    "US_jobmarket_df.head()"
   ]
  },
  {
   "cell_type": "code",
   "execution_count": 19,
   "metadata": {},
   "outputs": [],
   "source": [
    "US_jobmarket_df.to_csv(\"../Clean Data/US-JobMarket.csv\")"
   ]
  },
  {
   "cell_type": "code",
   "execution_count": null,
   "metadata": {},
   "outputs": [],
   "source": []
  }
 ],
 "metadata": {
  "kernelspec": {
   "display_name": "Python 3",
   "language": "python",
   "name": "python3"
  },
  "language_info": {
   "codemirror_mode": {
    "name": "ipython",
    "version": 3
   },
   "file_extension": ".py",
   "mimetype": "text/x-python",
   "name": "python",
   "nbconvert_exporter": "python",
   "pygments_lexer": "ipython3",
   "version": "3.8.3"
  }
 },
 "nbformat": 4,
 "nbformat_minor": 4
}
