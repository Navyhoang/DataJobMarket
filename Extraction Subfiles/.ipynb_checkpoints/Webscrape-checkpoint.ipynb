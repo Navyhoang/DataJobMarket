{
 "cells": [
  {
   "cell_type": "code",
   "execution_count": 1,
   "metadata": {},
   "outputs": [],
   "source": [
    "# Dependencies\n",
    "from bs4 import BeautifulSoup\n",
    "import requests\n",
    "import pymongo"
   ]
  },
  {
   "cell_type": "code",
   "execution_count": 2,
   "metadata": {},
   "outputs": [],
   "source": [
    "# URL of page to be scraped\n",
    "country = \"ca\"\n",
    "\n",
    "job_title_list = []\n",
    "company_list = []\n",
    "industry_list = []\n",
    "location_list = []"
   ]
  },
  {
   "cell_type": "code",
   "execution_count": 3,
   "metadata": {},
   "outputs": [
    {
     "name": "stdout",
     "output_type": "stream",
     "text": [
      "Page 1 of 94 jobs\n"
     ]
    }
   ],
   "source": [
    "#search query for Data Analyst in the Banking Sector\n",
    "url = f\"https://ca.indeed.com/jobs?q=Data+Analyst+bank&start=0\"\n",
    "\n",
    "# Retrieve page with the requests module\n",
    "response = requests.get(url)\n",
    "# Create BeautifulSoup object; parse with 'html.parser'\n",
    "soup = BeautifulSoup(response.text, 'lxml')\n",
    "results = soup.find(id='searchCountPages').text.strip()\n",
    "\n",
    "print(results) "
   ]
  },
  {
   "cell_type": "code",
   "execution_count": 4,
   "metadata": {},
   "outputs": [
    {
     "name": "stdout",
     "output_type": "stream",
     "text": [
      "https://ca.indeed.com/jobs?q=Data+Analyst+bank&start=0\n",
      "https://ca.indeed.com/jobs?q=Data+Analyst+bank&start=10\n",
      "https://ca.indeed.com/jobs?q=Data+Analyst+bank&start=20\n",
      "https://ca.indeed.com/jobs?q=Data+Analyst+bank&start=30\n",
      "https://ca.indeed.com/jobs?q=Data+Analyst+bank&start=40\n",
      "https://ca.indeed.com/jobs?q=Data+Analyst+bank&start=50\n",
      "https://ca.indeed.com/jobs?q=Data+Analyst+bank&start=60\n"
     ]
    }
   ],
   "source": [
    "#each page has 15 postings\n",
    "\n",
    "pages = [\"0\", \"10\", \"20\", \"30\", \"40\", \"50\", \"60\"]# \"70\", \"80\", \"90\", \"100\"\n",
    "\n",
    "for page in pages: \n",
    "    url = f\"https://{country}.indeed.com/jobs?q=Data+Analyst+bank&start={page}\"\n",
    "    print(url)\n",
    "\n",
    "    # Retrieve page with the requests module\n",
    "    response = requests.get(url)\n",
    "    # Create BeautifulSoup object; parse with 'html.parser'\n",
    "    soup = BeautifulSoup(response.text, 'lxml')\n",
    "    \n",
    "    # Retrieve the parent divs for all articles\n",
    "    results = soup.find_all('div', class_='result')\n",
    "    \n",
    "    # loop over results to get article data\n",
    "    for result in results:\n",
    "        try:\n",
    "            # scrape the article header \n",
    "            job_title = result.find('a', class_='jobtitle').text.strip()\n",
    "            company = result.find('span', class_='company').text.strip()\n",
    "            #industry\n",
    "            location = result.find(class_='location').text\n",
    "\n",
    "            job_title_list.append(job_title)\n",
    "            company_list.append(company)\n",
    "            location_list.append(location)\n",
    "        except:\n",
    "            pass"
   ]
  },
  {
   "cell_type": "code",
   "execution_count": 8,
   "metadata": {},
   "outputs": [
    {
     "data": {
      "text/plain": [
       "95"
      ]
     },
     "execution_count": 8,
     "metadata": {},
     "output_type": "execute_result"
    }
   ],
   "source": [
    "len(job_title_list)"
   ]
  },
  {
   "cell_type": "code",
   "execution_count": null,
   "metadata": {},
   "outputs": [],
   "source": []
  }
 ],
 "metadata": {
  "kernelspec": {
   "display_name": "Python 3",
   "language": "python",
   "name": "python3"
  },
  "language_info": {
   "codemirror_mode": {
    "name": "ipython",
    "version": 3
   },
   "file_extension": ".py",
   "mimetype": "text/x-python",
   "name": "python",
   "nbconvert_exporter": "python",
   "pygments_lexer": "ipython3",
   "version": "3.8.3"
  }
 },
 "nbformat": 4,
 "nbformat_minor": 4
}
