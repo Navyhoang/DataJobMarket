{
 "cells": [
  {
   "cell_type": "markdown",
   "metadata": {},
   "source": [
    "# Transformation of Data\n",
    "----\n",
    "For web-scraping data, clean up includes: \n",
    "1. removing duplicates \n",
    "2. adding country index numbers \n",
    "3. normalizing company locations to city and state\n",
    "\n",
    "For University ranking data, clean up includes: \n",
    "1. removing all other country's university \n",
    "2. keeping latest data (removing all other year)\n",
    "3. adding country index numbers\n",
    "\n",
    "For mental health data, clean up includes: \n",
    "1. normalizing all data (Gender and blanks) \n",
    "2. adding country index\n",
    "3. removing all other country's data"
   ]
  },
  {
   "cell_type": "code",
   "execution_count": 1,
   "metadata": {},
   "outputs": [],
   "source": [
    "# Dependencies\n",
    "import pandas as pd \n",
    "import os \n",
    "import numpy as np"
   ]
  },
  {
   "cell_type": "markdown",
   "metadata": {},
   "source": [
    "## Job Market Data - CA, US, SG, AU"
   ]
  },
  {
   "cell_type": "code",
   "execution_count": 2,
   "metadata": {},
   "outputs": [],
   "source": [
    "country = [\"SG\", \"CA\", \"US\", \"AU\"]\n",
    "# Country Index = [1, 2, 3, 4]"
   ]
  },
  {
   "cell_type": "code",
   "execution_count": 3,
   "metadata": {},
   "outputs": [],
   "source": [
    "for index_num, x in enumerate(country): \n",
    "    #import loaded csv\n",
    "    filepath = f\"../Clean Data/{x}-JobMarket.csv\"\n",
    "    df = pd.read_csv(filepath, index_col=0)\n",
    "    \n",
    "    #Cleaning:\n",
    "    \n",
    "    #removing jobs that have more than one unique job title index \n",
    "    #lots of data with duplicates - will remove duplicates but will keep the last entry\n",
    "    #i.e. if one job is labeled as both Machine Learning and Data Analyst, the Machine Learning label entry will be kept\n",
    "    #ranking will be Machine Learning(index=4), Data Engineer(index=3), Data Scientist(index=2), and then Data Analyst(index=1) \n",
    "    #(ranking is based on how specific each name is)\n",
    "    df = df.drop_duplicates(subset=['Job ID'], keep='last')\n",
    "    \n",
    "    #set job id as index (now unique)\n",
    "    df = df.set_index(\"Job ID\")\n",
    "    \n",
    "    #creating country index \n",
    "    df[\"Country\"] = index_num + 1\n",
    "    \n",
    "    #df to csv \n",
    "    df.to_csv(f\"../Transformed Data/{x}-JobMarket-Transformed.csv\")\n"
   ]
  },
  {
   "cell_type": "code",
   "execution_count": 4,
   "metadata": {},
   "outputs": [],
   "source": [
    "#Combining all the data into one csv\n",
    "\n",
    "filepathCA = \"../Transformed Data/CA-JobMarket-Transformed.csv\"\n",
    "dfCA = pd.read_csv(filepathCA, index_col=0)\n",
    "\n",
    "filepathAU = \"../Transformed Data/AU-JobMarket-Transformed.csv\"\n",
    "dfAU = pd.read_csv(filepathAU, index_col=0)\n",
    "\n",
    "filepathUS = \"../Transformed Data/US-JobMarket-Transformed.csv\"\n",
    "dfUS = pd.read_csv(filepathUS, index_col=0)\n",
    "\n",
    "filepathSG = \"../Transformed Data/SG-JobMarket-Transformed.csv\"\n",
    "dfSG = pd.read_csv(filepathSG, index_col=0)"
   ]
  },
  {
   "cell_type": "markdown",
   "metadata": {},
   "source": [
    "## Normalizing location into City and State "
   ]
  },
  {
   "cell_type": "code",
   "execution_count": 5,
   "metadata": {},
   "outputs": [],
   "source": [
    "# Spliting Canada company location into City and Province/State\n",
    "dfCA[\"City\"], dfCA[\"State\"] = dfCA[\"Company Location\"].str.split(\", \", 1).str\n",
    "\n",
    "# Spliting Australia company location into City and Province/State\n",
    "dfAU[\"City\"], dfAU[\"State\"] = dfAU[\"Company Location\"].str.rsplit(\" \", 1).str\n",
    "\n",
    "# Spliting USA company location into City, State and others (Like zip code)\n",
    "dfUS[\"City\"], dfUS[\"State\"] = dfUS[\"Company Location\"].str.split(\", \", 1).str\n",
    "dfUS[\"State\"], dfUS[\"Zip Code\"] = dfUS[\"State\"].str.split(\" \", 1).str\n",
    "\n",
    "# Defining Singapore location info from company location and country \n",
    "dfSG[\"City\"] = dfSG[\"Company Location\"]\n",
    "dfSG[\"State\"] = \"Singapore\"\n"
   ]
  },
  {
   "cell_type": "code",
   "execution_count": 6,
   "metadata": {},
   "outputs": [
    {
     "output_type": "execute_result",
     "data": {
      "text/plain": [
       "                     Job Title Index  \\\n",
       "Job ID                                 \n",
       "p_ecae2dcad8f17d8b                 1   \n",
       "pj_12dccdfbb8ef0da5                1   \n",
       "pj_7837ad55c28258ea                1   \n",
       "p_05719d87a0059bf7                 1   \n",
       "p_bf4bd5f13d04a674                 1   \n",
       "...                              ...   \n",
       "p_c9a71595fbad1ebd                 4   \n",
       "p_ae6a40daf0546a81                 4   \n",
       "p_1693547ea84bdc32                 4   \n",
       "p_81eb5501dcf512e5                 4   \n",
       "p_6692e89a1083804e                 4   \n",
       "\n",
       "                                                             Job Title  \\\n",
       "Job ID                                                                   \n",
       "p_ecae2dcad8f17d8b                              Data & Systems Analyst   \n",
       "pj_12dccdfbb8ef0da5                  Junior Data Analyst - LOCAL | MTL   \n",
       "pj_7837ad55c28258ea  Pipeline Inline-Inspection Data Analyst (ILI L...   \n",
       "p_05719d87a0059bf7                          Data and Reporting Analyst   \n",
       "p_bf4bd5f13d04a674                       Specialist-Data Visualization   \n",
       "...                                                                ...   \n",
       "p_c9a71595fbad1ebd                                  CRO - Digital Bank   \n",
       "p_ae6a40daf0546a81   Senior Data Scientist - Image Processing & Com...   \n",
       "p_1693547ea84bdc32                      Principal Data Scientist (NLP)   \n",
       "p_81eb5501dcf512e5    Materials Specialist #SGUnitedTraineeships #SGUP   \n",
       "p_6692e89a1083804e                                  Software Developer   \n",
       "\n",
       "                                                   Company Name  \\\n",
       "Job ID                                                            \n",
       "p_ecae2dcad8f17d8b                    Protein Industries Canada   \n",
       "pj_12dccdfbb8ef0da5                             BDP CALL CENTER   \n",
       "pj_7837ad55c28258ea  Onstream Pipeline Inspection Services Inc.   \n",
       "p_05719d87a0059bf7                           Nunavut Government   \n",
       "p_bf4bd5f13d04a674                           Canadian Red Cross   \n",
       "...                                                         ...   \n",
       "p_c9a71595fbad1ebd                               Pure Hong Kong   \n",
       "p_ae6a40daf0546a81               BIOFOURMIS SINGAPORE PTE. LTD.   \n",
       "p_1693547ea84bdc32                                     Randstad   \n",
       "p_81eb5501dcf512e5         BECTON DICKINSON MEDICAL (S) PTE LTD   \n",
       "p_6692e89a1083804e                            G. TECH PTE. LTD.   \n",
       "\n",
       "                         Company Location  Country              City  \\\n",
       "Job ID                                                                 \n",
       "p_ecae2dcad8f17d8b             Regina, SK        2            Regina   \n",
       "pj_12dccdfbb8ef0da5  Vaudreuil-Dorion, QC        2  Vaudreuil-Dorion   \n",
       "pj_7837ad55c28258ea           Calgary, AB        2           Calgary   \n",
       "p_05719d87a0059bf7            Iqaluit, NU        2           Iqaluit   \n",
       "p_bf4bd5f13d04a674                 Canada        2            Canada   \n",
       "...                                   ...      ...               ...   \n",
       "p_c9a71595fbad1ebd              Singapore        1         Singapore   \n",
       "p_ae6a40daf0546a81          Jurong Island        1     Jurong Island   \n",
       "p_1693547ea84bdc32              Singapore        1         Singapore   \n",
       "p_81eb5501dcf512e5          Jurong Island        1     Jurong Island   \n",
       "p_6692e89a1083804e                Hougang        1           Hougang   \n",
       "\n",
       "                         State Zip Code  \n",
       "Job ID                                   \n",
       "p_ecae2dcad8f17d8b          SK      NaN  \n",
       "pj_12dccdfbb8ef0da5         QC      NaN  \n",
       "pj_7837ad55c28258ea         AB      NaN  \n",
       "p_05719d87a0059bf7          NU      NaN  \n",
       "p_bf4bd5f13d04a674         NaN      NaN  \n",
       "...                        ...      ...  \n",
       "p_c9a71595fbad1ebd   Singapore      NaN  \n",
       "p_ae6a40daf0546a81   Singapore      NaN  \n",
       "p_1693547ea84bdc32   Singapore      NaN  \n",
       "p_81eb5501dcf512e5   Singapore      NaN  \n",
       "p_6692e89a1083804e   Singapore      NaN  \n",
       "\n",
       "[9871 rows x 8 columns]"
      ],
      "text/html": "<div>\n<style scoped>\n    .dataframe tbody tr th:only-of-type {\n        vertical-align: middle;\n    }\n\n    .dataframe tbody tr th {\n        vertical-align: top;\n    }\n\n    .dataframe thead th {\n        text-align: right;\n    }\n</style>\n<table border=\"1\" class=\"dataframe\">\n  <thead>\n    <tr style=\"text-align: right;\">\n      <th></th>\n      <th>Job Title Index</th>\n      <th>Job Title</th>\n      <th>Company Name</th>\n      <th>Company Location</th>\n      <th>Country</th>\n      <th>City</th>\n      <th>State</th>\n      <th>Zip Code</th>\n    </tr>\n    <tr>\n      <th>Job ID</th>\n      <th></th>\n      <th></th>\n      <th></th>\n      <th></th>\n      <th></th>\n      <th></th>\n      <th></th>\n      <th></th>\n    </tr>\n  </thead>\n  <tbody>\n    <tr>\n      <th>p_ecae2dcad8f17d8b</th>\n      <td>1</td>\n      <td>Data &amp; Systems Analyst</td>\n      <td>Protein Industries Canada</td>\n      <td>Regina, SK</td>\n      <td>2</td>\n      <td>Regina</td>\n      <td>SK</td>\n      <td>NaN</td>\n    </tr>\n    <tr>\n      <th>pj_12dccdfbb8ef0da5</th>\n      <td>1</td>\n      <td>Junior Data Analyst - LOCAL | MTL</td>\n      <td>BDP CALL CENTER</td>\n      <td>Vaudreuil-Dorion, QC</td>\n      <td>2</td>\n      <td>Vaudreuil-Dorion</td>\n      <td>QC</td>\n      <td>NaN</td>\n    </tr>\n    <tr>\n      <th>pj_7837ad55c28258ea</th>\n      <td>1</td>\n      <td>Pipeline Inline-Inspection Data Analyst (ILI L...</td>\n      <td>Onstream Pipeline Inspection Services Inc.</td>\n      <td>Calgary, AB</td>\n      <td>2</td>\n      <td>Calgary</td>\n      <td>AB</td>\n      <td>NaN</td>\n    </tr>\n    <tr>\n      <th>p_05719d87a0059bf7</th>\n      <td>1</td>\n      <td>Data and Reporting Analyst</td>\n      <td>Nunavut Government</td>\n      <td>Iqaluit, NU</td>\n      <td>2</td>\n      <td>Iqaluit</td>\n      <td>NU</td>\n      <td>NaN</td>\n    </tr>\n    <tr>\n      <th>p_bf4bd5f13d04a674</th>\n      <td>1</td>\n      <td>Specialist-Data Visualization</td>\n      <td>Canadian Red Cross</td>\n      <td>Canada</td>\n      <td>2</td>\n      <td>Canada</td>\n      <td>NaN</td>\n      <td>NaN</td>\n    </tr>\n    <tr>\n      <th>...</th>\n      <td>...</td>\n      <td>...</td>\n      <td>...</td>\n      <td>...</td>\n      <td>...</td>\n      <td>...</td>\n      <td>...</td>\n      <td>...</td>\n    </tr>\n    <tr>\n      <th>p_c9a71595fbad1ebd</th>\n      <td>4</td>\n      <td>CRO - Digital Bank</td>\n      <td>Pure Hong Kong</td>\n      <td>Singapore</td>\n      <td>1</td>\n      <td>Singapore</td>\n      <td>Singapore</td>\n      <td>NaN</td>\n    </tr>\n    <tr>\n      <th>p_ae6a40daf0546a81</th>\n      <td>4</td>\n      <td>Senior Data Scientist - Image Processing &amp; Com...</td>\n      <td>BIOFOURMIS SINGAPORE PTE. LTD.</td>\n      <td>Jurong Island</td>\n      <td>1</td>\n      <td>Jurong Island</td>\n      <td>Singapore</td>\n      <td>NaN</td>\n    </tr>\n    <tr>\n      <th>p_1693547ea84bdc32</th>\n      <td>4</td>\n      <td>Principal Data Scientist (NLP)</td>\n      <td>Randstad</td>\n      <td>Singapore</td>\n      <td>1</td>\n      <td>Singapore</td>\n      <td>Singapore</td>\n      <td>NaN</td>\n    </tr>\n    <tr>\n      <th>p_81eb5501dcf512e5</th>\n      <td>4</td>\n      <td>Materials Specialist #SGUnitedTraineeships #SGUP</td>\n      <td>BECTON DICKINSON MEDICAL (S) PTE LTD</td>\n      <td>Jurong Island</td>\n      <td>1</td>\n      <td>Jurong Island</td>\n      <td>Singapore</td>\n      <td>NaN</td>\n    </tr>\n    <tr>\n      <th>p_6692e89a1083804e</th>\n      <td>4</td>\n      <td>Software Developer</td>\n      <td>G. TECH PTE. LTD.</td>\n      <td>Hougang</td>\n      <td>1</td>\n      <td>Hougang</td>\n      <td>Singapore</td>\n      <td>NaN</td>\n    </tr>\n  </tbody>\n</table>\n<p>9871 rows × 8 columns</p>\n</div>"
     },
     "metadata": {},
     "execution_count": 6
    }
   ],
   "source": [
    "# Concatenate four df into one\n",
    "df_all = pd.concat([dfCA, dfAU, dfUS, dfSG])\n",
    "df_all"
   ]
  },
  {
   "cell_type": "code",
   "execution_count": 7,
   "metadata": {},
   "outputs": [
    {
     "output_type": "execute_result",
     "data": {
      "text/plain": [
       "                     job_title_id  country_id  \\\n",
       "job_id                                          \n",
       "p_ecae2dcad8f17d8b              1           2   \n",
       "pj_12dccdfbb8ef0da5             1           2   \n",
       "pj_7837ad55c28258ea             1           2   \n",
       "p_05719d87a0059bf7              1           2   \n",
       "p_bf4bd5f13d04a674              1           2   \n",
       "...                           ...         ...   \n",
       "p_c9a71595fbad1ebd              4           1   \n",
       "p_ae6a40daf0546a81              4           1   \n",
       "p_1693547ea84bdc32              4           1   \n",
       "p_81eb5501dcf512e5              4           1   \n",
       "p_6692e89a1083804e              4           1   \n",
       "\n",
       "                                                             job_title  \\\n",
       "job_id                                                                   \n",
       "p_ecae2dcad8f17d8b                              Data & Systems Analyst   \n",
       "pj_12dccdfbb8ef0da5                  Junior Data Analyst - LOCAL | MTL   \n",
       "pj_7837ad55c28258ea  Pipeline Inline-Inspection Data Analyst (ILI L...   \n",
       "p_05719d87a0059bf7                          Data and Reporting Analyst   \n",
       "p_bf4bd5f13d04a674                       Specialist-Data Visualization   \n",
       "...                                                                ...   \n",
       "p_c9a71595fbad1ebd                                  CRO - Digital Bank   \n",
       "p_ae6a40daf0546a81   Senior Data Scientist - Image Processing & Com...   \n",
       "p_1693547ea84bdc32                      Principal Data Scientist (NLP)   \n",
       "p_81eb5501dcf512e5    Materials Specialist #SGUnitedTraineeships #SGUP   \n",
       "p_6692e89a1083804e                                  Software Developer   \n",
       "\n",
       "                                                   company_name  \\\n",
       "job_id                                                            \n",
       "p_ecae2dcad8f17d8b                    Protein Industries Canada   \n",
       "pj_12dccdfbb8ef0da5                             BDP CALL CENTER   \n",
       "pj_7837ad55c28258ea  Onstream Pipeline Inspection Services Inc.   \n",
       "p_05719d87a0059bf7                           Nunavut Government   \n",
       "p_bf4bd5f13d04a674                           Canadian Red Cross   \n",
       "...                                                         ...   \n",
       "p_c9a71595fbad1ebd                               Pure Hong Kong   \n",
       "p_ae6a40daf0546a81               BIOFOURMIS SINGAPORE PTE. LTD.   \n",
       "p_1693547ea84bdc32                                     Randstad   \n",
       "p_81eb5501dcf512e5         BECTON DICKINSON MEDICAL (S) PTE LTD   \n",
       "p_6692e89a1083804e                            G. TECH PTE. LTD.   \n",
       "\n",
       "                         company_location              city      state  \n",
       "job_id                                                                  \n",
       "p_ecae2dcad8f17d8b             Regina, SK            Regina         SK  \n",
       "pj_12dccdfbb8ef0da5  Vaudreuil-Dorion, QC  Vaudreuil-Dorion         QC  \n",
       "pj_7837ad55c28258ea           Calgary, AB           Calgary         AB  \n",
       "p_05719d87a0059bf7            Iqaluit, NU           Iqaluit         NU  \n",
       "p_bf4bd5f13d04a674                 Canada            Canada        NaN  \n",
       "...                                   ...               ...        ...  \n",
       "p_c9a71595fbad1ebd              Singapore         Singapore  Singapore  \n",
       "p_ae6a40daf0546a81          Jurong Island     Jurong Island  Singapore  \n",
       "p_1693547ea84bdc32              Singapore         Singapore  Singapore  \n",
       "p_81eb5501dcf512e5          Jurong Island     Jurong Island  Singapore  \n",
       "p_6692e89a1083804e                Hougang           Hougang  Singapore  \n",
       "\n",
       "[9871 rows x 7 columns]"
      ],
      "text/html": "<div>\n<style scoped>\n    .dataframe tbody tr th:only-of-type {\n        vertical-align: middle;\n    }\n\n    .dataframe tbody tr th {\n        vertical-align: top;\n    }\n\n    .dataframe thead th {\n        text-align: right;\n    }\n</style>\n<table border=\"1\" class=\"dataframe\">\n  <thead>\n    <tr style=\"text-align: right;\">\n      <th></th>\n      <th>job_title_id</th>\n      <th>country_id</th>\n      <th>job_title</th>\n      <th>company_name</th>\n      <th>company_location</th>\n      <th>city</th>\n      <th>state</th>\n    </tr>\n    <tr>\n      <th>job_id</th>\n      <th></th>\n      <th></th>\n      <th></th>\n      <th></th>\n      <th></th>\n      <th></th>\n      <th></th>\n    </tr>\n  </thead>\n  <tbody>\n    <tr>\n      <th>p_ecae2dcad8f17d8b</th>\n      <td>1</td>\n      <td>2</td>\n      <td>Data &amp; Systems Analyst</td>\n      <td>Protein Industries Canada</td>\n      <td>Regina, SK</td>\n      <td>Regina</td>\n      <td>SK</td>\n    </tr>\n    <tr>\n      <th>pj_12dccdfbb8ef0da5</th>\n      <td>1</td>\n      <td>2</td>\n      <td>Junior Data Analyst - LOCAL | MTL</td>\n      <td>BDP CALL CENTER</td>\n      <td>Vaudreuil-Dorion, QC</td>\n      <td>Vaudreuil-Dorion</td>\n      <td>QC</td>\n    </tr>\n    <tr>\n      <th>pj_7837ad55c28258ea</th>\n      <td>1</td>\n      <td>2</td>\n      <td>Pipeline Inline-Inspection Data Analyst (ILI L...</td>\n      <td>Onstream Pipeline Inspection Services Inc.</td>\n      <td>Calgary, AB</td>\n      <td>Calgary</td>\n      <td>AB</td>\n    </tr>\n    <tr>\n      <th>p_05719d87a0059bf7</th>\n      <td>1</td>\n      <td>2</td>\n      <td>Data and Reporting Analyst</td>\n      <td>Nunavut Government</td>\n      <td>Iqaluit, NU</td>\n      <td>Iqaluit</td>\n      <td>NU</td>\n    </tr>\n    <tr>\n      <th>p_bf4bd5f13d04a674</th>\n      <td>1</td>\n      <td>2</td>\n      <td>Specialist-Data Visualization</td>\n      <td>Canadian Red Cross</td>\n      <td>Canada</td>\n      <td>Canada</td>\n      <td>NaN</td>\n    </tr>\n    <tr>\n      <th>...</th>\n      <td>...</td>\n      <td>...</td>\n      <td>...</td>\n      <td>...</td>\n      <td>...</td>\n      <td>...</td>\n      <td>...</td>\n    </tr>\n    <tr>\n      <th>p_c9a71595fbad1ebd</th>\n      <td>4</td>\n      <td>1</td>\n      <td>CRO - Digital Bank</td>\n      <td>Pure Hong Kong</td>\n      <td>Singapore</td>\n      <td>Singapore</td>\n      <td>Singapore</td>\n    </tr>\n    <tr>\n      <th>p_ae6a40daf0546a81</th>\n      <td>4</td>\n      <td>1</td>\n      <td>Senior Data Scientist - Image Processing &amp; Com...</td>\n      <td>BIOFOURMIS SINGAPORE PTE. LTD.</td>\n      <td>Jurong Island</td>\n      <td>Jurong Island</td>\n      <td>Singapore</td>\n    </tr>\n    <tr>\n      <th>p_1693547ea84bdc32</th>\n      <td>4</td>\n      <td>1</td>\n      <td>Principal Data Scientist (NLP)</td>\n      <td>Randstad</td>\n      <td>Singapore</td>\n      <td>Singapore</td>\n      <td>Singapore</td>\n    </tr>\n    <tr>\n      <th>p_81eb5501dcf512e5</th>\n      <td>4</td>\n      <td>1</td>\n      <td>Materials Specialist #SGUnitedTraineeships #SGUP</td>\n      <td>BECTON DICKINSON MEDICAL (S) PTE LTD</td>\n      <td>Jurong Island</td>\n      <td>Jurong Island</td>\n      <td>Singapore</td>\n    </tr>\n    <tr>\n      <th>p_6692e89a1083804e</th>\n      <td>4</td>\n      <td>1</td>\n      <td>Software Developer</td>\n      <td>G. TECH PTE. LTD.</td>\n      <td>Hougang</td>\n      <td>Hougang</td>\n      <td>Singapore</td>\n    </tr>\n  </tbody>\n</table>\n<p>9871 rows × 7 columns</p>\n</div>"
     },
     "metadata": {},
     "execution_count": 7
    }
   ],
   "source": [
    "# Formatting column names \n",
    "df_all.columns = ['job_title_id','job_title','company_name','company_location','country_id','city','state','zip_code']\n",
    "\n",
    "# Keep required columns only\n",
    "df_all = df_all[['job_title_id','country_id','job_title','company_name', 'company_location','city','state']]\n",
    "\n",
    "# Set df index name\n",
    "df_all.index.names=[\"job_id\"]\n",
    "\n",
    "df_all"
   ]
  },
  {
   "cell_type": "code",
   "execution_count": 8,
   "metadata": {},
   "outputs": [
    {
     "output_type": "execute_result",
     "data": {
      "text/plain": [
       "                     job_title_id  country_id  \\\n",
       "job_id                                          \n",
       "p_ecae2dcad8f17d8b              1           2   \n",
       "pj_12dccdfbb8ef0da5             1           2   \n",
       "pj_7837ad55c28258ea             1           2   \n",
       "p_05719d87a0059bf7              1           2   \n",
       "p_bf4bd5f13d04a674              1           2   \n",
       "...                           ...         ...   \n",
       "p_c9a71595fbad1ebd              4           1   \n",
       "p_ae6a40daf0546a81              4           1   \n",
       "p_1693547ea84bdc32              4           1   \n",
       "p_81eb5501dcf512e5              4           1   \n",
       "p_6692e89a1083804e              4           1   \n",
       "\n",
       "                                                             job_title  \\\n",
       "job_id                                                                   \n",
       "p_ecae2dcad8f17d8b                              Data & Systems Analyst   \n",
       "pj_12dccdfbb8ef0da5                  Junior Data Analyst - LOCAL | MTL   \n",
       "pj_7837ad55c28258ea  Pipeline Inline-Inspection Data Analyst (ILI L...   \n",
       "p_05719d87a0059bf7                          Data and Reporting Analyst   \n",
       "p_bf4bd5f13d04a674                       Specialist-Data Visualization   \n",
       "...                                                                ...   \n",
       "p_c9a71595fbad1ebd                                  CRO - Digital Bank   \n",
       "p_ae6a40daf0546a81   Senior Data Scientist - Image Processing & Com...   \n",
       "p_1693547ea84bdc32                      Principal Data Scientist (NLP)   \n",
       "p_81eb5501dcf512e5    Materials Specialist #SGUnitedTraineeships #SGUP   \n",
       "p_6692e89a1083804e                                  Software Developer   \n",
       "\n",
       "                                                   company_name  \\\n",
       "job_id                                                            \n",
       "p_ecae2dcad8f17d8b                    Protein Industries Canada   \n",
       "pj_12dccdfbb8ef0da5                             BDP CALL CENTER   \n",
       "pj_7837ad55c28258ea  Onstream Pipeline Inspection Services Inc.   \n",
       "p_05719d87a0059bf7                           Nunavut Government   \n",
       "p_bf4bd5f13d04a674                           Canadian Red Cross   \n",
       "...                                                         ...   \n",
       "p_c9a71595fbad1ebd                               Pure Hong Kong   \n",
       "p_ae6a40daf0546a81               BIOFOURMIS SINGAPORE PTE. LTD.   \n",
       "p_1693547ea84bdc32                                     Randstad   \n",
       "p_81eb5501dcf512e5         BECTON DICKINSON MEDICAL (S) PTE LTD   \n",
       "p_6692e89a1083804e                            G. TECH PTE. LTD.   \n",
       "\n",
       "                         company_location              city      state  \n",
       "job_id                                                                  \n",
       "p_ecae2dcad8f17d8b             Regina, SK            Regina         SK  \n",
       "pj_12dccdfbb8ef0da5  Vaudreuil-Dorion, QC  Vaudreuil-Dorion         QC  \n",
       "pj_7837ad55c28258ea           Calgary, AB           Calgary         AB  \n",
       "p_05719d87a0059bf7            Iqaluit, NU           Iqaluit         NU  \n",
       "p_bf4bd5f13d04a674                 Canada            Canada     Canada  \n",
       "...                                   ...               ...        ...  \n",
       "p_c9a71595fbad1ebd              Singapore         Singapore  Singapore  \n",
       "p_ae6a40daf0546a81          Jurong Island     Jurong Island  Singapore  \n",
       "p_1693547ea84bdc32              Singapore         Singapore  Singapore  \n",
       "p_81eb5501dcf512e5          Jurong Island     Jurong Island  Singapore  \n",
       "p_6692e89a1083804e                Hougang           Hougang  Singapore  \n",
       "\n",
       "[9871 rows x 7 columns]"
      ],
      "text/html": "<div>\n<style scoped>\n    .dataframe tbody tr th:only-of-type {\n        vertical-align: middle;\n    }\n\n    .dataframe tbody tr th {\n        vertical-align: top;\n    }\n\n    .dataframe thead th {\n        text-align: right;\n    }\n</style>\n<table border=\"1\" class=\"dataframe\">\n  <thead>\n    <tr style=\"text-align: right;\">\n      <th></th>\n      <th>job_title_id</th>\n      <th>country_id</th>\n      <th>job_title</th>\n      <th>company_name</th>\n      <th>company_location</th>\n      <th>city</th>\n      <th>state</th>\n    </tr>\n    <tr>\n      <th>job_id</th>\n      <th></th>\n      <th></th>\n      <th></th>\n      <th></th>\n      <th></th>\n      <th></th>\n      <th></th>\n    </tr>\n  </thead>\n  <tbody>\n    <tr>\n      <th>p_ecae2dcad8f17d8b</th>\n      <td>1</td>\n      <td>2</td>\n      <td>Data &amp; Systems Analyst</td>\n      <td>Protein Industries Canada</td>\n      <td>Regina, SK</td>\n      <td>Regina</td>\n      <td>SK</td>\n    </tr>\n    <tr>\n      <th>pj_12dccdfbb8ef0da5</th>\n      <td>1</td>\n      <td>2</td>\n      <td>Junior Data Analyst - LOCAL | MTL</td>\n      <td>BDP CALL CENTER</td>\n      <td>Vaudreuil-Dorion, QC</td>\n      <td>Vaudreuil-Dorion</td>\n      <td>QC</td>\n    </tr>\n    <tr>\n      <th>pj_7837ad55c28258ea</th>\n      <td>1</td>\n      <td>2</td>\n      <td>Pipeline Inline-Inspection Data Analyst (ILI L...</td>\n      <td>Onstream Pipeline Inspection Services Inc.</td>\n      <td>Calgary, AB</td>\n      <td>Calgary</td>\n      <td>AB</td>\n    </tr>\n    <tr>\n      <th>p_05719d87a0059bf7</th>\n      <td>1</td>\n      <td>2</td>\n      <td>Data and Reporting Analyst</td>\n      <td>Nunavut Government</td>\n      <td>Iqaluit, NU</td>\n      <td>Iqaluit</td>\n      <td>NU</td>\n    </tr>\n    <tr>\n      <th>p_bf4bd5f13d04a674</th>\n      <td>1</td>\n      <td>2</td>\n      <td>Specialist-Data Visualization</td>\n      <td>Canadian Red Cross</td>\n      <td>Canada</td>\n      <td>Canada</td>\n      <td>Canada</td>\n    </tr>\n    <tr>\n      <th>...</th>\n      <td>...</td>\n      <td>...</td>\n      <td>...</td>\n      <td>...</td>\n      <td>...</td>\n      <td>...</td>\n      <td>...</td>\n    </tr>\n    <tr>\n      <th>p_c9a71595fbad1ebd</th>\n      <td>4</td>\n      <td>1</td>\n      <td>CRO - Digital Bank</td>\n      <td>Pure Hong Kong</td>\n      <td>Singapore</td>\n      <td>Singapore</td>\n      <td>Singapore</td>\n    </tr>\n    <tr>\n      <th>p_ae6a40daf0546a81</th>\n      <td>4</td>\n      <td>1</td>\n      <td>Senior Data Scientist - Image Processing &amp; Com...</td>\n      <td>BIOFOURMIS SINGAPORE PTE. LTD.</td>\n      <td>Jurong Island</td>\n      <td>Jurong Island</td>\n      <td>Singapore</td>\n    </tr>\n    <tr>\n      <th>p_1693547ea84bdc32</th>\n      <td>4</td>\n      <td>1</td>\n      <td>Principal Data Scientist (NLP)</td>\n      <td>Randstad</td>\n      <td>Singapore</td>\n      <td>Singapore</td>\n      <td>Singapore</td>\n    </tr>\n    <tr>\n      <th>p_81eb5501dcf512e5</th>\n      <td>4</td>\n      <td>1</td>\n      <td>Materials Specialist #SGUnitedTraineeships #SGUP</td>\n      <td>BECTON DICKINSON MEDICAL (S) PTE LTD</td>\n      <td>Jurong Island</td>\n      <td>Jurong Island</td>\n      <td>Singapore</td>\n    </tr>\n    <tr>\n      <th>p_6692e89a1083804e</th>\n      <td>4</td>\n      <td>1</td>\n      <td>Software Developer</td>\n      <td>G. TECH PTE. LTD.</td>\n      <td>Hougang</td>\n      <td>Hougang</td>\n      <td>Singapore</td>\n    </tr>\n  </tbody>\n</table>\n<p>9871 rows × 7 columns</p>\n</div>"
     },
     "metadata": {},
     "execution_count": 8
    }
   ],
   "source": [
    "# For all remote location job postings, fill state as Remote\n",
    "df_all.loc[(df_all[\"city\"].str.contains(\"remote\", case=False)), \"state\"] = \"Remote\"\n",
    "\n",
    "# Fill other NA state values with its own city (like Ontario, California, Canada, etc)\n",
    "df_all[\"state\"].fillna(df_all[\"city\"], inplace=True)\n",
    "df_all"
   ]
  },
  {
   "cell_type": "code",
   "execution_count": 9,
   "metadata": {},
   "outputs": [
    {
     "output_type": "execute_result",
     "data": {
      "text/plain": [
       "job_title_id        0\n",
       "country_id          0\n",
       "job_title           0\n",
       "company_name        0\n",
       "company_location    0\n",
       "city                0\n",
       "state               0\n",
       "dtype: int64"
      ]
     },
     "metadata": {},
     "execution_count": 9
    }
   ],
   "source": [
    "# Check if there is any is null in the dataframe\n",
    "df_all.isnull().sum()"
   ]
  },
  {
   "cell_type": "code",
   "execution_count": 29,
   "metadata": {},
   "outputs": [
    {
     "output_type": "execute_result",
     "data": {
      "text/plain": [
       "                     job_title_id  country_id  \\\n",
       "job_id                                          \n",
       "p_ecae2dcad8f17d8b              1           2   \n",
       "pj_12dccdfbb8ef0da5             1           2   \n",
       "pj_7837ad55c28258ea             1           2   \n",
       "p_05719d87a0059bf7              1           2   \n",
       "p_bf4bd5f13d04a674              1           2   \n",
       "...                           ...         ...   \n",
       "p_c9a71595fbad1ebd              4           1   \n",
       "p_ae6a40daf0546a81              4           1   \n",
       "p_1693547ea84bdc32              4           1   \n",
       "p_81eb5501dcf512e5              4           1   \n",
       "p_6692e89a1083804e              4           1   \n",
       "\n",
       "                                                             job_title  \\\n",
       "job_id                                                                   \n",
       "p_ecae2dcad8f17d8b                              Data & Systems Analyst   \n",
       "pj_12dccdfbb8ef0da5                  Junior Data Analyst - LOCAL | MTL   \n",
       "pj_7837ad55c28258ea  Pipeline Inline-Inspection Data Analyst (ILI L...   \n",
       "p_05719d87a0059bf7                          Data and Reporting Analyst   \n",
       "p_bf4bd5f13d04a674                       Specialist-Data Visualization   \n",
       "...                                                                ...   \n",
       "p_c9a71595fbad1ebd                                  CRO - Digital Bank   \n",
       "p_ae6a40daf0546a81   Senior Data Scientist - Image Processing & Com...   \n",
       "p_1693547ea84bdc32                      Principal Data Scientist (NLP)   \n",
       "p_81eb5501dcf512e5    Materials Specialist #SGUnitedTraineeships #SGUP   \n",
       "p_6692e89a1083804e                                  Software Developer   \n",
       "\n",
       "                                                   company_name  \\\n",
       "job_id                                                            \n",
       "p_ecae2dcad8f17d8b                    Protein Industries Canada   \n",
       "pj_12dccdfbb8ef0da5                             BDP CALL CENTER   \n",
       "pj_7837ad55c28258ea  Onstream Pipeline Inspection Services Inc.   \n",
       "p_05719d87a0059bf7                           Nunavut Government   \n",
       "p_bf4bd5f13d04a674                           Canadian Red Cross   \n",
       "...                                                         ...   \n",
       "p_c9a71595fbad1ebd                               Pure Hong Kong   \n",
       "p_ae6a40daf0546a81               BIOFOURMIS SINGAPORE PTE. LTD.   \n",
       "p_1693547ea84bdc32                                     Randstad   \n",
       "p_81eb5501dcf512e5         BECTON DICKINSON MEDICAL (S) PTE LTD   \n",
       "p_6692e89a1083804e                            G. TECH PTE. LTD.   \n",
       "\n",
       "                         company_location              city      state  \\\n",
       "job_id                                                                   \n",
       "p_ecae2dcad8f17d8b             Regina, SK            Regina         SK   \n",
       "pj_12dccdfbb8ef0da5  Vaudreuil-Dorion, QC  Vaudreuil-Dorion         QC   \n",
       "pj_7837ad55c28258ea           Calgary, AB           Calgary         AB   \n",
       "p_05719d87a0059bf7            Iqaluit, NU           Iqaluit         NU   \n",
       "p_bf4bd5f13d04a674                 Canada            Canada     Canada   \n",
       "...                                   ...               ...        ...   \n",
       "p_c9a71595fbad1ebd              Singapore         Singapore  Singapore   \n",
       "p_ae6a40daf0546a81          Jurong Island     Jurong Island  Singapore   \n",
       "p_1693547ea84bdc32              Singapore         Singapore  Singapore   \n",
       "p_81eb5501dcf512e5          Jurong Island     Jurong Island  Singapore   \n",
       "p_6692e89a1083804e                Hougang           Hougang  Singapore   \n",
       "\n",
       "                     location_id  \n",
       "job_id                            \n",
       "p_ecae2dcad8f17d8b           160  \n",
       "pj_12dccdfbb8ef0da5          208  \n",
       "pj_7837ad55c28258ea           68  \n",
       "p_05719d87a0059bf7           105  \n",
       "p_bf4bd5f13d04a674            71  \n",
       "...                          ...  \n",
       "p_c9a71595fbad1ebd            30  \n",
       "p_ae6a40daf0546a81            15  \n",
       "p_1693547ea84bdc32            30  \n",
       "p_81eb5501dcf512e5            15  \n",
       "p_6692e89a1083804e            13  \n",
       "\n",
       "[9871 rows x 8 columns]"
      ],
      "text/html": "<div>\n<style scoped>\n    .dataframe tbody tr th:only-of-type {\n        vertical-align: middle;\n    }\n\n    .dataframe tbody tr th {\n        vertical-align: top;\n    }\n\n    .dataframe thead th {\n        text-align: right;\n    }\n</style>\n<table border=\"1\" class=\"dataframe\">\n  <thead>\n    <tr style=\"text-align: right;\">\n      <th></th>\n      <th>job_title_id</th>\n      <th>country_id</th>\n      <th>job_title</th>\n      <th>company_name</th>\n      <th>company_location</th>\n      <th>city</th>\n      <th>state</th>\n      <th>location_id</th>\n    </tr>\n    <tr>\n      <th>job_id</th>\n      <th></th>\n      <th></th>\n      <th></th>\n      <th></th>\n      <th></th>\n      <th></th>\n      <th></th>\n      <th></th>\n    </tr>\n  </thead>\n  <tbody>\n    <tr>\n      <th>p_ecae2dcad8f17d8b</th>\n      <td>1</td>\n      <td>2</td>\n      <td>Data &amp; Systems Analyst</td>\n      <td>Protein Industries Canada</td>\n      <td>Regina, SK</td>\n      <td>Regina</td>\n      <td>SK</td>\n      <td>160</td>\n    </tr>\n    <tr>\n      <th>pj_12dccdfbb8ef0da5</th>\n      <td>1</td>\n      <td>2</td>\n      <td>Junior Data Analyst - LOCAL | MTL</td>\n      <td>BDP CALL CENTER</td>\n      <td>Vaudreuil-Dorion, QC</td>\n      <td>Vaudreuil-Dorion</td>\n      <td>QC</td>\n      <td>208</td>\n    </tr>\n    <tr>\n      <th>pj_7837ad55c28258ea</th>\n      <td>1</td>\n      <td>2</td>\n      <td>Pipeline Inline-Inspection Data Analyst (ILI L...</td>\n      <td>Onstream Pipeline Inspection Services Inc.</td>\n      <td>Calgary, AB</td>\n      <td>Calgary</td>\n      <td>AB</td>\n      <td>68</td>\n    </tr>\n    <tr>\n      <th>p_05719d87a0059bf7</th>\n      <td>1</td>\n      <td>2</td>\n      <td>Data and Reporting Analyst</td>\n      <td>Nunavut Government</td>\n      <td>Iqaluit, NU</td>\n      <td>Iqaluit</td>\n      <td>NU</td>\n      <td>105</td>\n    </tr>\n    <tr>\n      <th>p_bf4bd5f13d04a674</th>\n      <td>1</td>\n      <td>2</td>\n      <td>Specialist-Data Visualization</td>\n      <td>Canadian Red Cross</td>\n      <td>Canada</td>\n      <td>Canada</td>\n      <td>Canada</td>\n      <td>71</td>\n    </tr>\n    <tr>\n      <th>...</th>\n      <td>...</td>\n      <td>...</td>\n      <td>...</td>\n      <td>...</td>\n      <td>...</td>\n      <td>...</td>\n      <td>...</td>\n      <td>...</td>\n    </tr>\n    <tr>\n      <th>p_c9a71595fbad1ebd</th>\n      <td>4</td>\n      <td>1</td>\n      <td>CRO - Digital Bank</td>\n      <td>Pure Hong Kong</td>\n      <td>Singapore</td>\n      <td>Singapore</td>\n      <td>Singapore</td>\n      <td>30</td>\n    </tr>\n    <tr>\n      <th>p_ae6a40daf0546a81</th>\n      <td>4</td>\n      <td>1</td>\n      <td>Senior Data Scientist - Image Processing &amp; Com...</td>\n      <td>BIOFOURMIS SINGAPORE PTE. LTD.</td>\n      <td>Jurong Island</td>\n      <td>Jurong Island</td>\n      <td>Singapore</td>\n      <td>15</td>\n    </tr>\n    <tr>\n      <th>p_1693547ea84bdc32</th>\n      <td>4</td>\n      <td>1</td>\n      <td>Principal Data Scientist (NLP)</td>\n      <td>Randstad</td>\n      <td>Singapore</td>\n      <td>Singapore</td>\n      <td>Singapore</td>\n      <td>30</td>\n    </tr>\n    <tr>\n      <th>p_81eb5501dcf512e5</th>\n      <td>4</td>\n      <td>1</td>\n      <td>Materials Specialist #SGUnitedTraineeships #SGUP</td>\n      <td>BECTON DICKINSON MEDICAL (S) PTE LTD</td>\n      <td>Jurong Island</td>\n      <td>Jurong Island</td>\n      <td>Singapore</td>\n      <td>15</td>\n    </tr>\n    <tr>\n      <th>p_6692e89a1083804e</th>\n      <td>4</td>\n      <td>1</td>\n      <td>Software Developer</td>\n      <td>G. TECH PTE. LTD.</td>\n      <td>Hougang</td>\n      <td>Hougang</td>\n      <td>Singapore</td>\n      <td>13</td>\n    </tr>\n  </tbody>\n</table>\n<p>9871 rows × 8 columns</p>\n</div>"
     },
     "metadata": {},
     "execution_count": 29
    }
   ],
   "source": [
    "# For the same city&state location, assign unique ID to them\n",
    "df_all['location_id'] = df_all.groupby(['country_id', 'city', 'state']).ngroup()\n",
    "df_all"
   ]
  },
  {
   "cell_type": "code",
   "execution_count": 30,
   "metadata": {},
   "outputs": [
    {
     "output_type": "execute_result",
     "data": {
      "text/plain": [
       "                     job_title_id  country_id  \\\n",
       "job_id                                          \n",
       "p_ecae2dcad8f17d8b              1           2   \n",
       "pj_12dccdfbb8ef0da5             1           2   \n",
       "pj_7837ad55c28258ea             1           2   \n",
       "p_05719d87a0059bf7              1           2   \n",
       "p_bf4bd5f13d04a674              1           2   \n",
       "...                           ...         ...   \n",
       "p_c9a71595fbad1ebd              4           1   \n",
       "p_ae6a40daf0546a81              4           1   \n",
       "p_1693547ea84bdc32              4           1   \n",
       "p_81eb5501dcf512e5              4           1   \n",
       "p_6692e89a1083804e              4           1   \n",
       "\n",
       "                                                             job_title  \\\n",
       "job_id                                                                   \n",
       "p_ecae2dcad8f17d8b                              Data & Systems Analyst   \n",
       "pj_12dccdfbb8ef0da5                  Junior Data Analyst - LOCAL | MTL   \n",
       "pj_7837ad55c28258ea  Pipeline Inline-Inspection Data Analyst (ILI L...   \n",
       "p_05719d87a0059bf7                          Data and Reporting Analyst   \n",
       "p_bf4bd5f13d04a674                       Specialist-Data Visualization   \n",
       "...                                                                ...   \n",
       "p_c9a71595fbad1ebd                                  CRO - Digital Bank   \n",
       "p_ae6a40daf0546a81   Senior Data Scientist - Image Processing & Com...   \n",
       "p_1693547ea84bdc32                      Principal Data Scientist (NLP)   \n",
       "p_81eb5501dcf512e5    Materials Specialist #SGUnitedTraineeships #SGUP   \n",
       "p_6692e89a1083804e                                  Software Developer   \n",
       "\n",
       "                                                   company_name  location_id  \n",
       "job_id                                                                        \n",
       "p_ecae2dcad8f17d8b                    Protein Industries Canada          161  \n",
       "pj_12dccdfbb8ef0da5                             BDP CALL CENTER          209  \n",
       "pj_7837ad55c28258ea  Onstream Pipeline Inspection Services Inc.           69  \n",
       "p_05719d87a0059bf7                           Nunavut Government          106  \n",
       "p_bf4bd5f13d04a674                           Canadian Red Cross           72  \n",
       "...                                                         ...          ...  \n",
       "p_c9a71595fbad1ebd                               Pure Hong Kong           31  \n",
       "p_ae6a40daf0546a81               BIOFOURMIS SINGAPORE PTE. LTD.           16  \n",
       "p_1693547ea84bdc32                                     Randstad           31  \n",
       "p_81eb5501dcf512e5         BECTON DICKINSON MEDICAL (S) PTE LTD           16  \n",
       "p_6692e89a1083804e                            G. TECH PTE. LTD.           14  \n",
       "\n",
       "[9871 rows x 5 columns]"
      ],
      "text/html": "<div>\n<style scoped>\n    .dataframe tbody tr th:only-of-type {\n        vertical-align: middle;\n    }\n\n    .dataframe tbody tr th {\n        vertical-align: top;\n    }\n\n    .dataframe thead th {\n        text-align: right;\n    }\n</style>\n<table border=\"1\" class=\"dataframe\">\n  <thead>\n    <tr style=\"text-align: right;\">\n      <th></th>\n      <th>job_title_id</th>\n      <th>country_id</th>\n      <th>job_title</th>\n      <th>company_name</th>\n      <th>location_id</th>\n    </tr>\n    <tr>\n      <th>job_id</th>\n      <th></th>\n      <th></th>\n      <th></th>\n      <th></th>\n      <th></th>\n    </tr>\n  </thead>\n  <tbody>\n    <tr>\n      <th>p_ecae2dcad8f17d8b</th>\n      <td>1</td>\n      <td>2</td>\n      <td>Data &amp; Systems Analyst</td>\n      <td>Protein Industries Canada</td>\n      <td>161</td>\n    </tr>\n    <tr>\n      <th>pj_12dccdfbb8ef0da5</th>\n      <td>1</td>\n      <td>2</td>\n      <td>Junior Data Analyst - LOCAL | MTL</td>\n      <td>BDP CALL CENTER</td>\n      <td>209</td>\n    </tr>\n    <tr>\n      <th>pj_7837ad55c28258ea</th>\n      <td>1</td>\n      <td>2</td>\n      <td>Pipeline Inline-Inspection Data Analyst (ILI L...</td>\n      <td>Onstream Pipeline Inspection Services Inc.</td>\n      <td>69</td>\n    </tr>\n    <tr>\n      <th>p_05719d87a0059bf7</th>\n      <td>1</td>\n      <td>2</td>\n      <td>Data and Reporting Analyst</td>\n      <td>Nunavut Government</td>\n      <td>106</td>\n    </tr>\n    <tr>\n      <th>p_bf4bd5f13d04a674</th>\n      <td>1</td>\n      <td>2</td>\n      <td>Specialist-Data Visualization</td>\n      <td>Canadian Red Cross</td>\n      <td>72</td>\n    </tr>\n    <tr>\n      <th>...</th>\n      <td>...</td>\n      <td>...</td>\n      <td>...</td>\n      <td>...</td>\n      <td>...</td>\n    </tr>\n    <tr>\n      <th>p_c9a71595fbad1ebd</th>\n      <td>4</td>\n      <td>1</td>\n      <td>CRO - Digital Bank</td>\n      <td>Pure Hong Kong</td>\n      <td>31</td>\n    </tr>\n    <tr>\n      <th>p_ae6a40daf0546a81</th>\n      <td>4</td>\n      <td>1</td>\n      <td>Senior Data Scientist - Image Processing &amp; Com...</td>\n      <td>BIOFOURMIS SINGAPORE PTE. LTD.</td>\n      <td>16</td>\n    </tr>\n    <tr>\n      <th>p_1693547ea84bdc32</th>\n      <td>4</td>\n      <td>1</td>\n      <td>Principal Data Scientist (NLP)</td>\n      <td>Randstad</td>\n      <td>31</td>\n    </tr>\n    <tr>\n      <th>p_81eb5501dcf512e5</th>\n      <td>4</td>\n      <td>1</td>\n      <td>Materials Specialist #SGUnitedTraineeships #SGUP</td>\n      <td>BECTON DICKINSON MEDICAL (S) PTE LTD</td>\n      <td>16</td>\n    </tr>\n    <tr>\n      <th>p_6692e89a1083804e</th>\n      <td>4</td>\n      <td>1</td>\n      <td>Software Developer</td>\n      <td>G. TECH PTE. LTD.</td>\n      <td>14</td>\n    </tr>\n  </tbody>\n</table>\n<p>9871 rows × 5 columns</p>\n</div>"
     },
     "metadata": {},
     "execution_count": 30
    }
   ],
   "source": [
    "# Sort by location ID\n",
    "df_all[\"location_id\"] = df_all[\"location_id\"] + 1\n",
    "df_all_export = df_all[[\"job_title_id\", \"country_id\", \"job_title\", \"company_name\", \"location_id\"]]\n",
    "df_all_export"
   ]
  },
  {
   "cell_type": "code",
   "execution_count": 31,
   "metadata": {},
   "outputs": [],
   "source": [
    "# Export to csv\n",
    "df_all_export.to_csv(f\"../Transformed Data/AllJobMarket-Transformed.csv\")"
   ]
  },
  {
   "cell_type": "markdown",
   "metadata": {},
   "source": [
    "## Creation of Location Table for Location API import"
   ]
  },
  {
   "cell_type": "code",
   "execution_count": 32,
   "metadata": {},
   "outputs": [
    {
     "output_type": "execute_result",
     "data": {
      "text/plain": [
       "location_id    0\n",
       "country_id     0\n",
       "city           0\n",
       "state          0\n",
       "dtype: int64"
      ]
     },
     "metadata": {},
     "execution_count": 32
    }
   ],
   "source": [
    "# Preparing a dataframe with unique city, state information\n",
    "location_df = df_all[[\"location_id\", \"country_id\", \"city\", \"state\"]]\n",
    "location_df.drop_duplicates(inplace=True, ignore_index=True)\n",
    "\n",
    "# Check the number of null values in State column\n",
    "location_df.isnull().sum()"
   ]
  },
  {
   "cell_type": "code",
   "execution_count": 33,
   "metadata": {},
   "outputs": [],
   "source": [
    "# Reset index. Export to csv\n",
    "location_df.reset_index(inplace=True, drop=True)\n",
    "location_df.to_csv(\"../Transformed Data/location-summary.csv\", index=False)"
   ]
  },
  {
   "cell_type": "markdown",
   "metadata": {},
   "source": [
    "## Mental Health Data Clean Up"
   ]
  },
  {
   "cell_type": "code",
   "execution_count": 15,
   "metadata": {},
   "outputs": [
    {
     "output_type": "execute_result",
     "data": {
      "text/plain": [
       "                Timestamp  Age  Gender         Country state self_employed  \\\n",
       "0     2014-08-27 11:29:31   37  Female   United States    IL           NaN   \n",
       "1     2014-08-27 11:29:37   44       M   United States    IN           NaN   \n",
       "2     2014-08-27 11:29:44   32    Male          Canada   NaN           NaN   \n",
       "3     2014-08-27 11:29:46   31    Male  United Kingdom   NaN           NaN   \n",
       "4     2014-08-27 11:30:22   31    Male   United States    TX           NaN   \n",
       "...                   ...  ...     ...             ...   ...           ...   \n",
       "1254  2015-09-12 11:17:21   26    male  United Kingdom   NaN            No   \n",
       "1255  2015-09-26 01:07:35   32    Male   United States    IL            No   \n",
       "1256  2015-11-07 12:36:58   34    male   United States    CA            No   \n",
       "1257  2015-11-30 21:25:06   46       f   United States    NC            No   \n",
       "1258  2016-02-01 23:04:31   25    Male   United States    IL            No   \n",
       "\n",
       "     family_history treatment work_interfere    no_employees  ...  \\\n",
       "0                No       Yes          Often            6-25  ...   \n",
       "1                No        No         Rarely  More than 1000  ...   \n",
       "2                No        No         Rarely            6-25  ...   \n",
       "3               Yes       Yes          Often          26-100  ...   \n",
       "4                No        No          Never         100-500  ...   \n",
       "...             ...       ...            ...             ...  ...   \n",
       "1254             No       Yes            NaN          26-100  ...   \n",
       "1255            Yes       Yes          Often          26-100  ...   \n",
       "1256            Yes       Yes      Sometimes  More than 1000  ...   \n",
       "1257             No        No            NaN         100-500  ...   \n",
       "1258            Yes       Yes      Sometimes          26-100  ...   \n",
       "\n",
       "                   leave mental_health_consequence phys_health_consequence  \\\n",
       "0          Somewhat easy                        No                      No   \n",
       "1             Don't know                     Maybe                      No   \n",
       "2     Somewhat difficult                        No                      No   \n",
       "3     Somewhat difficult                       Yes                     Yes   \n",
       "4             Don't know                        No                      No   \n",
       "...                  ...                       ...                     ...   \n",
       "1254       Somewhat easy                        No                      No   \n",
       "1255  Somewhat difficult                        No                      No   \n",
       "1256  Somewhat difficult                       Yes                     Yes   \n",
       "1257          Don't know                       Yes                      No   \n",
       "1258          Don't know                     Maybe                      No   \n",
       "\n",
       "         coworkers    supervisor mental_health_interview  \\\n",
       "0     Some of them           Yes                      No   \n",
       "1               No            No                      No   \n",
       "2              Yes           Yes                     Yes   \n",
       "3     Some of them            No                   Maybe   \n",
       "4     Some of them           Yes                     Yes   \n",
       "...            ...           ...                     ...   \n",
       "1254  Some of them  Some of them                      No   \n",
       "1255  Some of them           Yes                      No   \n",
       "1256            No            No                      No   \n",
       "1257            No            No                      No   \n",
       "1258  Some of them            No                      No   \n",
       "\n",
       "     phys_health_interview mental_vs_physical obs_consequence comments  \n",
       "0                    Maybe                Yes              No      NaN  \n",
       "1                       No         Don't know              No      NaN  \n",
       "2                      Yes                 No              No      NaN  \n",
       "3                    Maybe                 No             Yes      NaN  \n",
       "4                      Yes         Don't know              No      NaN  \n",
       "...                    ...                ...             ...      ...  \n",
       "1254                    No         Don't know              No      NaN  \n",
       "1255                    No                Yes              No      NaN  \n",
       "1256                    No                 No              No      NaN  \n",
       "1257                    No                 No              No      NaN  \n",
       "1258                    No         Don't know              No      NaN  \n",
       "\n",
       "[1259 rows x 27 columns]"
      ],
      "text/html": "<div>\n<style scoped>\n    .dataframe tbody tr th:only-of-type {\n        vertical-align: middle;\n    }\n\n    .dataframe tbody tr th {\n        vertical-align: top;\n    }\n\n    .dataframe thead th {\n        text-align: right;\n    }\n</style>\n<table border=\"1\" class=\"dataframe\">\n  <thead>\n    <tr style=\"text-align: right;\">\n      <th></th>\n      <th>Timestamp</th>\n      <th>Age</th>\n      <th>Gender</th>\n      <th>Country</th>\n      <th>state</th>\n      <th>self_employed</th>\n      <th>family_history</th>\n      <th>treatment</th>\n      <th>work_interfere</th>\n      <th>no_employees</th>\n      <th>...</th>\n      <th>leave</th>\n      <th>mental_health_consequence</th>\n      <th>phys_health_consequence</th>\n      <th>coworkers</th>\n      <th>supervisor</th>\n      <th>mental_health_interview</th>\n      <th>phys_health_interview</th>\n      <th>mental_vs_physical</th>\n      <th>obs_consequence</th>\n      <th>comments</th>\n    </tr>\n  </thead>\n  <tbody>\n    <tr>\n      <th>0</th>\n      <td>2014-08-27 11:29:31</td>\n      <td>37</td>\n      <td>Female</td>\n      <td>United States</td>\n      <td>IL</td>\n      <td>NaN</td>\n      <td>No</td>\n      <td>Yes</td>\n      <td>Often</td>\n      <td>6-25</td>\n      <td>...</td>\n      <td>Somewhat easy</td>\n      <td>No</td>\n      <td>No</td>\n      <td>Some of them</td>\n      <td>Yes</td>\n      <td>No</td>\n      <td>Maybe</td>\n      <td>Yes</td>\n      <td>No</td>\n      <td>NaN</td>\n    </tr>\n    <tr>\n      <th>1</th>\n      <td>2014-08-27 11:29:37</td>\n      <td>44</td>\n      <td>M</td>\n      <td>United States</td>\n      <td>IN</td>\n      <td>NaN</td>\n      <td>No</td>\n      <td>No</td>\n      <td>Rarely</td>\n      <td>More than 1000</td>\n      <td>...</td>\n      <td>Don't know</td>\n      <td>Maybe</td>\n      <td>No</td>\n      <td>No</td>\n      <td>No</td>\n      <td>No</td>\n      <td>No</td>\n      <td>Don't know</td>\n      <td>No</td>\n      <td>NaN</td>\n    </tr>\n    <tr>\n      <th>2</th>\n      <td>2014-08-27 11:29:44</td>\n      <td>32</td>\n      <td>Male</td>\n      <td>Canada</td>\n      <td>NaN</td>\n      <td>NaN</td>\n      <td>No</td>\n      <td>No</td>\n      <td>Rarely</td>\n      <td>6-25</td>\n      <td>...</td>\n      <td>Somewhat difficult</td>\n      <td>No</td>\n      <td>No</td>\n      <td>Yes</td>\n      <td>Yes</td>\n      <td>Yes</td>\n      <td>Yes</td>\n      <td>No</td>\n      <td>No</td>\n      <td>NaN</td>\n    </tr>\n    <tr>\n      <th>3</th>\n      <td>2014-08-27 11:29:46</td>\n      <td>31</td>\n      <td>Male</td>\n      <td>United Kingdom</td>\n      <td>NaN</td>\n      <td>NaN</td>\n      <td>Yes</td>\n      <td>Yes</td>\n      <td>Often</td>\n      <td>26-100</td>\n      <td>...</td>\n      <td>Somewhat difficult</td>\n      <td>Yes</td>\n      <td>Yes</td>\n      <td>Some of them</td>\n      <td>No</td>\n      <td>Maybe</td>\n      <td>Maybe</td>\n      <td>No</td>\n      <td>Yes</td>\n      <td>NaN</td>\n    </tr>\n    <tr>\n      <th>4</th>\n      <td>2014-08-27 11:30:22</td>\n      <td>31</td>\n      <td>Male</td>\n      <td>United States</td>\n      <td>TX</td>\n      <td>NaN</td>\n      <td>No</td>\n      <td>No</td>\n      <td>Never</td>\n      <td>100-500</td>\n      <td>...</td>\n      <td>Don't know</td>\n      <td>No</td>\n      <td>No</td>\n      <td>Some of them</td>\n      <td>Yes</td>\n      <td>Yes</td>\n      <td>Yes</td>\n      <td>Don't know</td>\n      <td>No</td>\n      <td>NaN</td>\n    </tr>\n    <tr>\n      <th>...</th>\n      <td>...</td>\n      <td>...</td>\n      <td>...</td>\n      <td>...</td>\n      <td>...</td>\n      <td>...</td>\n      <td>...</td>\n      <td>...</td>\n      <td>...</td>\n      <td>...</td>\n      <td>...</td>\n      <td>...</td>\n      <td>...</td>\n      <td>...</td>\n      <td>...</td>\n      <td>...</td>\n      <td>...</td>\n      <td>...</td>\n      <td>...</td>\n      <td>...</td>\n      <td>...</td>\n    </tr>\n    <tr>\n      <th>1254</th>\n      <td>2015-09-12 11:17:21</td>\n      <td>26</td>\n      <td>male</td>\n      <td>United Kingdom</td>\n      <td>NaN</td>\n      <td>No</td>\n      <td>No</td>\n      <td>Yes</td>\n      <td>NaN</td>\n      <td>26-100</td>\n      <td>...</td>\n      <td>Somewhat easy</td>\n      <td>No</td>\n      <td>No</td>\n      <td>Some of them</td>\n      <td>Some of them</td>\n      <td>No</td>\n      <td>No</td>\n      <td>Don't know</td>\n      <td>No</td>\n      <td>NaN</td>\n    </tr>\n    <tr>\n      <th>1255</th>\n      <td>2015-09-26 01:07:35</td>\n      <td>32</td>\n      <td>Male</td>\n      <td>United States</td>\n      <td>IL</td>\n      <td>No</td>\n      <td>Yes</td>\n      <td>Yes</td>\n      <td>Often</td>\n      <td>26-100</td>\n      <td>...</td>\n      <td>Somewhat difficult</td>\n      <td>No</td>\n      <td>No</td>\n      <td>Some of them</td>\n      <td>Yes</td>\n      <td>No</td>\n      <td>No</td>\n      <td>Yes</td>\n      <td>No</td>\n      <td>NaN</td>\n    </tr>\n    <tr>\n      <th>1256</th>\n      <td>2015-11-07 12:36:58</td>\n      <td>34</td>\n      <td>male</td>\n      <td>United States</td>\n      <td>CA</td>\n      <td>No</td>\n      <td>Yes</td>\n      <td>Yes</td>\n      <td>Sometimes</td>\n      <td>More than 1000</td>\n      <td>...</td>\n      <td>Somewhat difficult</td>\n      <td>Yes</td>\n      <td>Yes</td>\n      <td>No</td>\n      <td>No</td>\n      <td>No</td>\n      <td>No</td>\n      <td>No</td>\n      <td>No</td>\n      <td>NaN</td>\n    </tr>\n    <tr>\n      <th>1257</th>\n      <td>2015-11-30 21:25:06</td>\n      <td>46</td>\n      <td>f</td>\n      <td>United States</td>\n      <td>NC</td>\n      <td>No</td>\n      <td>No</td>\n      <td>No</td>\n      <td>NaN</td>\n      <td>100-500</td>\n      <td>...</td>\n      <td>Don't know</td>\n      <td>Yes</td>\n      <td>No</td>\n      <td>No</td>\n      <td>No</td>\n      <td>No</td>\n      <td>No</td>\n      <td>No</td>\n      <td>No</td>\n      <td>NaN</td>\n    </tr>\n    <tr>\n      <th>1258</th>\n      <td>2016-02-01 23:04:31</td>\n      <td>25</td>\n      <td>Male</td>\n      <td>United States</td>\n      <td>IL</td>\n      <td>No</td>\n      <td>Yes</td>\n      <td>Yes</td>\n      <td>Sometimes</td>\n      <td>26-100</td>\n      <td>...</td>\n      <td>Don't know</td>\n      <td>Maybe</td>\n      <td>No</td>\n      <td>Some of them</td>\n      <td>No</td>\n      <td>No</td>\n      <td>No</td>\n      <td>Don't know</td>\n      <td>No</td>\n      <td>NaN</td>\n    </tr>\n  </tbody>\n</table>\n<p>1259 rows × 27 columns</p>\n</div>"
     },
     "metadata": {},
     "execution_count": 15
    }
   ],
   "source": [
    "#Pulling in Data \n",
    "filepath = f\"../Clean Data/MentalHealthSurvey.csv\"\n",
    "df = pd.read_csv(filepath, index_col=0)\n",
    "df"
   ]
  },
  {
   "cell_type": "code",
   "execution_count": 16,
   "metadata": {},
   "outputs": [
    {
     "output_type": "execute_result",
     "data": {
      "text/plain": [
       "                Timestamp  Age  Gender         Country state self_employed  \\\n",
       "0     2014-08-27 11:29:31   37  Female   United States    IL           N/A   \n",
       "1     2014-08-27 11:29:37   44       M   United States    IN           N/A   \n",
       "2     2014-08-27 11:29:44   32    Male          Canada   N/A           N/A   \n",
       "3     2014-08-27 11:29:46   31    Male  United Kingdom   N/A           N/A   \n",
       "4     2014-08-27 11:30:22   31    Male   United States    TX           N/A   \n",
       "...                   ...  ...     ...             ...   ...           ...   \n",
       "1254  2015-09-12 11:17:21   26    male  United Kingdom   N/A            No   \n",
       "1255  2015-09-26 01:07:35   32    Male   United States    IL            No   \n",
       "1256  2015-11-07 12:36:58   34    male   United States    CA            No   \n",
       "1257  2015-11-30 21:25:06   46       f   United States    NC            No   \n",
       "1258  2016-02-01 23:04:31   25    Male   United States    IL            No   \n",
       "\n",
       "     family_history treatment work_interfere    no_employees  ...  \\\n",
       "0                No       Yes          Often            6-25  ...   \n",
       "1                No        No         Rarely  More than 1000  ...   \n",
       "2                No        No         Rarely            6-25  ...   \n",
       "3               Yes       Yes          Often          26-100  ...   \n",
       "4                No        No          Never         100-500  ...   \n",
       "...             ...       ...            ...             ...  ...   \n",
       "1254             No       Yes            N/A          26-100  ...   \n",
       "1255            Yes       Yes          Often          26-100  ...   \n",
       "1256            Yes       Yes      Sometimes  More than 1000  ...   \n",
       "1257             No        No            N/A         100-500  ...   \n",
       "1258            Yes       Yes      Sometimes          26-100  ...   \n",
       "\n",
       "                   leave mental_health_consequence phys_health_consequence  \\\n",
       "0          Somewhat easy                        No                      No   \n",
       "1             Don't know                     Maybe                      No   \n",
       "2     Somewhat difficult                        No                      No   \n",
       "3     Somewhat difficult                       Yes                     Yes   \n",
       "4             Don't know                        No                      No   \n",
       "...                  ...                       ...                     ...   \n",
       "1254       Somewhat easy                        No                      No   \n",
       "1255  Somewhat difficult                        No                      No   \n",
       "1256  Somewhat difficult                       Yes                     Yes   \n",
       "1257          Don't know                       Yes                      No   \n",
       "1258          Don't know                     Maybe                      No   \n",
       "\n",
       "         coworkers    supervisor mental_health_interview  \\\n",
       "0     Some of them           Yes                      No   \n",
       "1               No            No                      No   \n",
       "2              Yes           Yes                     Yes   \n",
       "3     Some of them            No                   Maybe   \n",
       "4     Some of them           Yes                     Yes   \n",
       "...            ...           ...                     ...   \n",
       "1254  Some of them  Some of them                      No   \n",
       "1255  Some of them           Yes                      No   \n",
       "1256            No            No                      No   \n",
       "1257            No            No                      No   \n",
       "1258  Some of them            No                      No   \n",
       "\n",
       "     phys_health_interview mental_vs_physical obs_consequence comments  \n",
       "0                    Maybe                Yes              No      N/A  \n",
       "1                       No         Don't know              No      N/A  \n",
       "2                      Yes                 No              No      N/A  \n",
       "3                    Maybe                 No             Yes      N/A  \n",
       "4                      Yes         Don't know              No      N/A  \n",
       "...                    ...                ...             ...      ...  \n",
       "1254                    No         Don't know              No      N/A  \n",
       "1255                    No                Yes              No      N/A  \n",
       "1256                    No                 No              No      N/A  \n",
       "1257                    No                 No              No      N/A  \n",
       "1258                    No         Don't know              No      N/A  \n",
       "\n",
       "[1259 rows x 27 columns]"
      ],
      "text/html": "<div>\n<style scoped>\n    .dataframe tbody tr th:only-of-type {\n        vertical-align: middle;\n    }\n\n    .dataframe tbody tr th {\n        vertical-align: top;\n    }\n\n    .dataframe thead th {\n        text-align: right;\n    }\n</style>\n<table border=\"1\" class=\"dataframe\">\n  <thead>\n    <tr style=\"text-align: right;\">\n      <th></th>\n      <th>Timestamp</th>\n      <th>Age</th>\n      <th>Gender</th>\n      <th>Country</th>\n      <th>state</th>\n      <th>self_employed</th>\n      <th>family_history</th>\n      <th>treatment</th>\n      <th>work_interfere</th>\n      <th>no_employees</th>\n      <th>...</th>\n      <th>leave</th>\n      <th>mental_health_consequence</th>\n      <th>phys_health_consequence</th>\n      <th>coworkers</th>\n      <th>supervisor</th>\n      <th>mental_health_interview</th>\n      <th>phys_health_interview</th>\n      <th>mental_vs_physical</th>\n      <th>obs_consequence</th>\n      <th>comments</th>\n    </tr>\n  </thead>\n  <tbody>\n    <tr>\n      <th>0</th>\n      <td>2014-08-27 11:29:31</td>\n      <td>37</td>\n      <td>Female</td>\n      <td>United States</td>\n      <td>IL</td>\n      <td>N/A</td>\n      <td>No</td>\n      <td>Yes</td>\n      <td>Often</td>\n      <td>6-25</td>\n      <td>...</td>\n      <td>Somewhat easy</td>\n      <td>No</td>\n      <td>No</td>\n      <td>Some of them</td>\n      <td>Yes</td>\n      <td>No</td>\n      <td>Maybe</td>\n      <td>Yes</td>\n      <td>No</td>\n      <td>N/A</td>\n    </tr>\n    <tr>\n      <th>1</th>\n      <td>2014-08-27 11:29:37</td>\n      <td>44</td>\n      <td>M</td>\n      <td>United States</td>\n      <td>IN</td>\n      <td>N/A</td>\n      <td>No</td>\n      <td>No</td>\n      <td>Rarely</td>\n      <td>More than 1000</td>\n      <td>...</td>\n      <td>Don't know</td>\n      <td>Maybe</td>\n      <td>No</td>\n      <td>No</td>\n      <td>No</td>\n      <td>No</td>\n      <td>No</td>\n      <td>Don't know</td>\n      <td>No</td>\n      <td>N/A</td>\n    </tr>\n    <tr>\n      <th>2</th>\n      <td>2014-08-27 11:29:44</td>\n      <td>32</td>\n      <td>Male</td>\n      <td>Canada</td>\n      <td>N/A</td>\n      <td>N/A</td>\n      <td>No</td>\n      <td>No</td>\n      <td>Rarely</td>\n      <td>6-25</td>\n      <td>...</td>\n      <td>Somewhat difficult</td>\n      <td>No</td>\n      <td>No</td>\n      <td>Yes</td>\n      <td>Yes</td>\n      <td>Yes</td>\n      <td>Yes</td>\n      <td>No</td>\n      <td>No</td>\n      <td>N/A</td>\n    </tr>\n    <tr>\n      <th>3</th>\n      <td>2014-08-27 11:29:46</td>\n      <td>31</td>\n      <td>Male</td>\n      <td>United Kingdom</td>\n      <td>N/A</td>\n      <td>N/A</td>\n      <td>Yes</td>\n      <td>Yes</td>\n      <td>Often</td>\n      <td>26-100</td>\n      <td>...</td>\n      <td>Somewhat difficult</td>\n      <td>Yes</td>\n      <td>Yes</td>\n      <td>Some of them</td>\n      <td>No</td>\n      <td>Maybe</td>\n      <td>Maybe</td>\n      <td>No</td>\n      <td>Yes</td>\n      <td>N/A</td>\n    </tr>\n    <tr>\n      <th>4</th>\n      <td>2014-08-27 11:30:22</td>\n      <td>31</td>\n      <td>Male</td>\n      <td>United States</td>\n      <td>TX</td>\n      <td>N/A</td>\n      <td>No</td>\n      <td>No</td>\n      <td>Never</td>\n      <td>100-500</td>\n      <td>...</td>\n      <td>Don't know</td>\n      <td>No</td>\n      <td>No</td>\n      <td>Some of them</td>\n      <td>Yes</td>\n      <td>Yes</td>\n      <td>Yes</td>\n      <td>Don't know</td>\n      <td>No</td>\n      <td>N/A</td>\n    </tr>\n    <tr>\n      <th>...</th>\n      <td>...</td>\n      <td>...</td>\n      <td>...</td>\n      <td>...</td>\n      <td>...</td>\n      <td>...</td>\n      <td>...</td>\n      <td>...</td>\n      <td>...</td>\n      <td>...</td>\n      <td>...</td>\n      <td>...</td>\n      <td>...</td>\n      <td>...</td>\n      <td>...</td>\n      <td>...</td>\n      <td>...</td>\n      <td>...</td>\n      <td>...</td>\n      <td>...</td>\n      <td>...</td>\n    </tr>\n    <tr>\n      <th>1254</th>\n      <td>2015-09-12 11:17:21</td>\n      <td>26</td>\n      <td>male</td>\n      <td>United Kingdom</td>\n      <td>N/A</td>\n      <td>No</td>\n      <td>No</td>\n      <td>Yes</td>\n      <td>N/A</td>\n      <td>26-100</td>\n      <td>...</td>\n      <td>Somewhat easy</td>\n      <td>No</td>\n      <td>No</td>\n      <td>Some of them</td>\n      <td>Some of them</td>\n      <td>No</td>\n      <td>No</td>\n      <td>Don't know</td>\n      <td>No</td>\n      <td>N/A</td>\n    </tr>\n    <tr>\n      <th>1255</th>\n      <td>2015-09-26 01:07:35</td>\n      <td>32</td>\n      <td>Male</td>\n      <td>United States</td>\n      <td>IL</td>\n      <td>No</td>\n      <td>Yes</td>\n      <td>Yes</td>\n      <td>Often</td>\n      <td>26-100</td>\n      <td>...</td>\n      <td>Somewhat difficult</td>\n      <td>No</td>\n      <td>No</td>\n      <td>Some of them</td>\n      <td>Yes</td>\n      <td>No</td>\n      <td>No</td>\n      <td>Yes</td>\n      <td>No</td>\n      <td>N/A</td>\n    </tr>\n    <tr>\n      <th>1256</th>\n      <td>2015-11-07 12:36:58</td>\n      <td>34</td>\n      <td>male</td>\n      <td>United States</td>\n      <td>CA</td>\n      <td>No</td>\n      <td>Yes</td>\n      <td>Yes</td>\n      <td>Sometimes</td>\n      <td>More than 1000</td>\n      <td>...</td>\n      <td>Somewhat difficult</td>\n      <td>Yes</td>\n      <td>Yes</td>\n      <td>No</td>\n      <td>No</td>\n      <td>No</td>\n      <td>No</td>\n      <td>No</td>\n      <td>No</td>\n      <td>N/A</td>\n    </tr>\n    <tr>\n      <th>1257</th>\n      <td>2015-11-30 21:25:06</td>\n      <td>46</td>\n      <td>f</td>\n      <td>United States</td>\n      <td>NC</td>\n      <td>No</td>\n      <td>No</td>\n      <td>No</td>\n      <td>N/A</td>\n      <td>100-500</td>\n      <td>...</td>\n      <td>Don't know</td>\n      <td>Yes</td>\n      <td>No</td>\n      <td>No</td>\n      <td>No</td>\n      <td>No</td>\n      <td>No</td>\n      <td>No</td>\n      <td>No</td>\n      <td>N/A</td>\n    </tr>\n    <tr>\n      <th>1258</th>\n      <td>2016-02-01 23:04:31</td>\n      <td>25</td>\n      <td>Male</td>\n      <td>United States</td>\n      <td>IL</td>\n      <td>No</td>\n      <td>Yes</td>\n      <td>Yes</td>\n      <td>Sometimes</td>\n      <td>26-100</td>\n      <td>...</td>\n      <td>Don't know</td>\n      <td>Maybe</td>\n      <td>No</td>\n      <td>Some of them</td>\n      <td>No</td>\n      <td>No</td>\n      <td>No</td>\n      <td>Don't know</td>\n      <td>No</td>\n      <td>N/A</td>\n    </tr>\n  </tbody>\n</table>\n<p>1259 rows × 27 columns</p>\n</div>"
     },
     "metadata": {},
     "execution_count": 16
    }
   ],
   "source": [
    "#Replace blanks with \"N/A\"\n",
    "df = df.fillna(\"N/A\")\n",
    "\n",
    "df"
   ]
  },
  {
   "cell_type": "code",
   "execution_count": 17,
   "metadata": {},
   "outputs": [
    {
     "output_type": "execute_result",
     "data": {
      "text/plain": [
       "array(['United States', 'Canada', 'Australia', 'Singapore'], dtype=object)"
      ]
     },
     "metadata": {},
     "execution_count": 17
    }
   ],
   "source": [
    "# Getting only required four contry information\n",
    "df = df.loc[(df[\"Country\"] == \"Canada\") | (df[\"Country\"] == \"Australia\") | (df[\"Country\"] == \"Singapore\") | (df[\"Country\"] == \"United States\")]\n",
    "\n",
    "#checking that all four countries are still in df\n",
    "df[\"Country\"].unique()"
   ]
  },
  {
   "cell_type": "code",
   "execution_count": 18,
   "metadata": {},
   "outputs": [],
   "source": [
    "country_dict = {\n",
    "    \"Singapore\"     : 1,\n",
    "    \"Canada\"        : 2,\n",
    "    \"United States\" : 3,\n",
    "    \"Australia\"     : 4\n",
    "}\n",
    "\n",
    "for country_key, country_index in country_dict.items():\n",
    "    df.loc[(df[\"Country\"] == country_key), \"Country\"] = country_index"
   ]
  },
  {
   "cell_type": "code",
   "execution_count": 19,
   "metadata": {},
   "outputs": [
    {
     "output_type": "execute_result",
     "data": {
      "text/plain": [
       "array(['Female', 'Male', 'Other'], dtype=object)"
      ]
     },
     "metadata": {},
     "execution_count": 19
    }
   ],
   "source": [
    "#normalizing gender entry \n",
    "female = [\"Female\", \"female\", \"F\", \"f\", \"Female \", \"Femake\", \"Trans woman\", \"Cis Female\", \"Trans-female\", \"cis-female/femme\", \"queer/she/they\", \"Trans-female\" \"Cis Female\", \"Woman\", \"woman\", \"Female (trans)\", \"Female (cis)\", \"femail\"]\n",
    "male = [\"M\", \"Male\", \"male\", \"m\", \"Male-ish\", \"maile\", \"Cis Male\", \"Male (CIS)\", \"Make\", \"male leaning androgynous\", \"Male \", \"Man\", \"Mail\", \"msle\", \"cis male\"]\n",
    "other = [\"Guy (-ish) ^_^\", \"p\", \"non-binary\", \"Nah\", \"Genderqueer\", \"Other\"]\n",
    "\n",
    "for gender in female:   \n",
    "    #replacing with country index number \n",
    "    df[\"Gender\"]= np.where((df.Gender == gender), \"Female\", df.Gender)\n",
    "\n",
    "for gender in male:   \n",
    "    #replacing with country index number \n",
    "    df[\"Gender\"]= np.where((df.Gender == gender), \"Male\", df.Gender)\n",
    "\n",
    "for gender in other:   \n",
    "    #replacing with country index number \n",
    "    df[\"Gender\"]= np.where((df.Gender == gender), \"Other\", df.Gender)\n",
    "\n",
    "df[\"Gender\"].unique()"
   ]
  },
  {
   "cell_type": "code",
   "execution_count": 20,
   "metadata": {},
   "outputs": [
    {
     "output_type": "execute_result",
     "data": {
      "text/plain": [
       "                     timestamp  age  gender country_id state self_employed  \\\n",
       "sample_id                                                                    \n",
       "0          2014-08-27 11:29:31   37  Female          3    IL           N/A   \n",
       "1          2014-08-27 11:29:37   44    Male          3    IN           N/A   \n",
       "2          2014-08-27 11:29:44   32    Male          2   N/A           N/A   \n",
       "4          2014-08-27 11:30:22   31    Male          3    TX           N/A   \n",
       "5          2014-08-27 11:31:22   33    Male          3    TN           N/A   \n",
       "...                        ...  ...     ...        ...   ...           ...   \n",
       "1253       2015-08-25 19:59:38   36    Male          3    UT            No   \n",
       "1255       2015-09-26 01:07:35   32    Male          3    IL            No   \n",
       "1256       2015-11-07 12:36:58   34    Male          3    CA            No   \n",
       "1257       2015-11-30 21:25:06   46  Female          3    NC            No   \n",
       "1258       2016-02-01 23:04:31   25    Male          3    IL            No   \n",
       "\n",
       "          family_history treatment work_interfere    no_employees  ...  \\\n",
       "sample_id                                                          ...   \n",
       "0                     No       Yes          Often            6-25  ...   \n",
       "1                     No        No         Rarely  More than 1000  ...   \n",
       "2                     No        No         Rarely            6-25  ...   \n",
       "4                     No        No          Never         100-500  ...   \n",
       "5                    Yes        No      Sometimes            6-25  ...   \n",
       "...                  ...       ...            ...             ...  ...   \n",
       "1253                 Yes        No         Rarely  More than 1000  ...   \n",
       "1255                 Yes       Yes          Often          26-100  ...   \n",
       "1256                 Yes       Yes      Sometimes  More than 1000  ...   \n",
       "1257                  No        No            N/A         100-500  ...   \n",
       "1258                 Yes       Yes      Sometimes          26-100  ...   \n",
       "\n",
       "            seek_help   anonymity               leave  \\\n",
       "sample_id                                               \n",
       "0                 Yes         Yes       Somewhat easy   \n",
       "1          Don't know  Don't know          Don't know   \n",
       "2                  No  Don't know  Somewhat difficult   \n",
       "4          Don't know  Don't know          Don't know   \n",
       "5          Don't know  Don't know          Don't know   \n",
       "...               ...         ...                 ...   \n",
       "1253              Yes  Don't know       Somewhat easy   \n",
       "1255               No         Yes  Somewhat difficult   \n",
       "1256               No  Don't know  Somewhat difficult   \n",
       "1257               No  Don't know          Don't know   \n",
       "1258               No         Yes          Don't know   \n",
       "\n",
       "          mental_health_consequence phys_health_consequence     coworkers  \\\n",
       "sample_id                                                                   \n",
       "0                                No                      No  Some of them   \n",
       "1                             Maybe                      No            No   \n",
       "2                                No                      No           Yes   \n",
       "4                                No                      No  Some of them   \n",
       "5                                No                      No           Yes   \n",
       "...                             ...                     ...           ...   \n",
       "1253                          Maybe                   Maybe  Some of them   \n",
       "1255                             No                      No  Some of them   \n",
       "1256                            Yes                     Yes            No   \n",
       "1257                            Yes                      No            No   \n",
       "1258                          Maybe                      No  Some of them   \n",
       "\n",
       "             supervisor mental_health_interview phys_health_interview  \\\n",
       "sample_id                                                               \n",
       "0                   Yes                      No                 Maybe   \n",
       "1                    No                      No                    No   \n",
       "2                   Yes                     Yes                   Yes   \n",
       "4                   Yes                     Yes                   Yes   \n",
       "5                   Yes                      No                 Maybe   \n",
       "...                 ...                     ...                   ...   \n",
       "1253       Some of them                      No                    No   \n",
       "1255                Yes                      No                    No   \n",
       "1256                 No                      No                    No   \n",
       "1257                 No                      No                    No   \n",
       "1258                 No                      No                    No   \n",
       "\n",
       "          mental_vs_physical  \n",
       "sample_id                     \n",
       "0                        Yes  \n",
       "1                 Don't know  \n",
       "2                         No  \n",
       "4                 Don't know  \n",
       "5                 Don't know  \n",
       "...                      ...  \n",
       "1253              Don't know  \n",
       "1255                     Yes  \n",
       "1256                      No  \n",
       "1257                      No  \n",
       "1258              Don't know  \n",
       "\n",
       "[848 rows x 25 columns]"
      ],
      "text/html": "<div>\n<style scoped>\n    .dataframe tbody tr th:only-of-type {\n        vertical-align: middle;\n    }\n\n    .dataframe tbody tr th {\n        vertical-align: top;\n    }\n\n    .dataframe thead th {\n        text-align: right;\n    }\n</style>\n<table border=\"1\" class=\"dataframe\">\n  <thead>\n    <tr style=\"text-align: right;\">\n      <th></th>\n      <th>timestamp</th>\n      <th>age</th>\n      <th>gender</th>\n      <th>country_id</th>\n      <th>state</th>\n      <th>self_employed</th>\n      <th>family_history</th>\n      <th>treatment</th>\n      <th>work_interfere</th>\n      <th>no_employees</th>\n      <th>...</th>\n      <th>seek_help</th>\n      <th>anonymity</th>\n      <th>leave</th>\n      <th>mental_health_consequence</th>\n      <th>phys_health_consequence</th>\n      <th>coworkers</th>\n      <th>supervisor</th>\n      <th>mental_health_interview</th>\n      <th>phys_health_interview</th>\n      <th>mental_vs_physical</th>\n    </tr>\n    <tr>\n      <th>sample_id</th>\n      <th></th>\n      <th></th>\n      <th></th>\n      <th></th>\n      <th></th>\n      <th></th>\n      <th></th>\n      <th></th>\n      <th></th>\n      <th></th>\n      <th></th>\n      <th></th>\n      <th></th>\n      <th></th>\n      <th></th>\n      <th></th>\n      <th></th>\n      <th></th>\n      <th></th>\n      <th></th>\n      <th></th>\n    </tr>\n  </thead>\n  <tbody>\n    <tr>\n      <th>0</th>\n      <td>2014-08-27 11:29:31</td>\n      <td>37</td>\n      <td>Female</td>\n      <td>3</td>\n      <td>IL</td>\n      <td>N/A</td>\n      <td>No</td>\n      <td>Yes</td>\n      <td>Often</td>\n      <td>6-25</td>\n      <td>...</td>\n      <td>Yes</td>\n      <td>Yes</td>\n      <td>Somewhat easy</td>\n      <td>No</td>\n      <td>No</td>\n      <td>Some of them</td>\n      <td>Yes</td>\n      <td>No</td>\n      <td>Maybe</td>\n      <td>Yes</td>\n    </tr>\n    <tr>\n      <th>1</th>\n      <td>2014-08-27 11:29:37</td>\n      <td>44</td>\n      <td>Male</td>\n      <td>3</td>\n      <td>IN</td>\n      <td>N/A</td>\n      <td>No</td>\n      <td>No</td>\n      <td>Rarely</td>\n      <td>More than 1000</td>\n      <td>...</td>\n      <td>Don't know</td>\n      <td>Don't know</td>\n      <td>Don't know</td>\n      <td>Maybe</td>\n      <td>No</td>\n      <td>No</td>\n      <td>No</td>\n      <td>No</td>\n      <td>No</td>\n      <td>Don't know</td>\n    </tr>\n    <tr>\n      <th>2</th>\n      <td>2014-08-27 11:29:44</td>\n      <td>32</td>\n      <td>Male</td>\n      <td>2</td>\n      <td>N/A</td>\n      <td>N/A</td>\n      <td>No</td>\n      <td>No</td>\n      <td>Rarely</td>\n      <td>6-25</td>\n      <td>...</td>\n      <td>No</td>\n      <td>Don't know</td>\n      <td>Somewhat difficult</td>\n      <td>No</td>\n      <td>No</td>\n      <td>Yes</td>\n      <td>Yes</td>\n      <td>Yes</td>\n      <td>Yes</td>\n      <td>No</td>\n    </tr>\n    <tr>\n      <th>4</th>\n      <td>2014-08-27 11:30:22</td>\n      <td>31</td>\n      <td>Male</td>\n      <td>3</td>\n      <td>TX</td>\n      <td>N/A</td>\n      <td>No</td>\n      <td>No</td>\n      <td>Never</td>\n      <td>100-500</td>\n      <td>...</td>\n      <td>Don't know</td>\n      <td>Don't know</td>\n      <td>Don't know</td>\n      <td>No</td>\n      <td>No</td>\n      <td>Some of them</td>\n      <td>Yes</td>\n      <td>Yes</td>\n      <td>Yes</td>\n      <td>Don't know</td>\n    </tr>\n    <tr>\n      <th>5</th>\n      <td>2014-08-27 11:31:22</td>\n      <td>33</td>\n      <td>Male</td>\n      <td>3</td>\n      <td>TN</td>\n      <td>N/A</td>\n      <td>Yes</td>\n      <td>No</td>\n      <td>Sometimes</td>\n      <td>6-25</td>\n      <td>...</td>\n      <td>Don't know</td>\n      <td>Don't know</td>\n      <td>Don't know</td>\n      <td>No</td>\n      <td>No</td>\n      <td>Yes</td>\n      <td>Yes</td>\n      <td>No</td>\n      <td>Maybe</td>\n      <td>Don't know</td>\n    </tr>\n    <tr>\n      <th>...</th>\n      <td>...</td>\n      <td>...</td>\n      <td>...</td>\n      <td>...</td>\n      <td>...</td>\n      <td>...</td>\n      <td>...</td>\n      <td>...</td>\n      <td>...</td>\n      <td>...</td>\n      <td>...</td>\n      <td>...</td>\n      <td>...</td>\n      <td>...</td>\n      <td>...</td>\n      <td>...</td>\n      <td>...</td>\n      <td>...</td>\n      <td>...</td>\n      <td>...</td>\n      <td>...</td>\n    </tr>\n    <tr>\n      <th>1253</th>\n      <td>2015-08-25 19:59:38</td>\n      <td>36</td>\n      <td>Male</td>\n      <td>3</td>\n      <td>UT</td>\n      <td>No</td>\n      <td>Yes</td>\n      <td>No</td>\n      <td>Rarely</td>\n      <td>More than 1000</td>\n      <td>...</td>\n      <td>Yes</td>\n      <td>Don't know</td>\n      <td>Somewhat easy</td>\n      <td>Maybe</td>\n      <td>Maybe</td>\n      <td>Some of them</td>\n      <td>Some of them</td>\n      <td>No</td>\n      <td>No</td>\n      <td>Don't know</td>\n    </tr>\n    <tr>\n      <th>1255</th>\n      <td>2015-09-26 01:07:35</td>\n      <td>32</td>\n      <td>Male</td>\n      <td>3</td>\n      <td>IL</td>\n      <td>No</td>\n      <td>Yes</td>\n      <td>Yes</td>\n      <td>Often</td>\n      <td>26-100</td>\n      <td>...</td>\n      <td>No</td>\n      <td>Yes</td>\n      <td>Somewhat difficult</td>\n      <td>No</td>\n      <td>No</td>\n      <td>Some of them</td>\n      <td>Yes</td>\n      <td>No</td>\n      <td>No</td>\n      <td>Yes</td>\n    </tr>\n    <tr>\n      <th>1256</th>\n      <td>2015-11-07 12:36:58</td>\n      <td>34</td>\n      <td>Male</td>\n      <td>3</td>\n      <td>CA</td>\n      <td>No</td>\n      <td>Yes</td>\n      <td>Yes</td>\n      <td>Sometimes</td>\n      <td>More than 1000</td>\n      <td>...</td>\n      <td>No</td>\n      <td>Don't know</td>\n      <td>Somewhat difficult</td>\n      <td>Yes</td>\n      <td>Yes</td>\n      <td>No</td>\n      <td>No</td>\n      <td>No</td>\n      <td>No</td>\n      <td>No</td>\n    </tr>\n    <tr>\n      <th>1257</th>\n      <td>2015-11-30 21:25:06</td>\n      <td>46</td>\n      <td>Female</td>\n      <td>3</td>\n      <td>NC</td>\n      <td>No</td>\n      <td>No</td>\n      <td>No</td>\n      <td>N/A</td>\n      <td>100-500</td>\n      <td>...</td>\n      <td>No</td>\n      <td>Don't know</td>\n      <td>Don't know</td>\n      <td>Yes</td>\n      <td>No</td>\n      <td>No</td>\n      <td>No</td>\n      <td>No</td>\n      <td>No</td>\n      <td>No</td>\n    </tr>\n    <tr>\n      <th>1258</th>\n      <td>2016-02-01 23:04:31</td>\n      <td>25</td>\n      <td>Male</td>\n      <td>3</td>\n      <td>IL</td>\n      <td>No</td>\n      <td>Yes</td>\n      <td>Yes</td>\n      <td>Sometimes</td>\n      <td>26-100</td>\n      <td>...</td>\n      <td>No</td>\n      <td>Yes</td>\n      <td>Don't know</td>\n      <td>Maybe</td>\n      <td>No</td>\n      <td>Some of them</td>\n      <td>No</td>\n      <td>No</td>\n      <td>No</td>\n      <td>Don't know</td>\n    </tr>\n  </tbody>\n</table>\n<p>848 rows × 25 columns</p>\n</div>"
     },
     "metadata": {},
     "execution_count": 20
    }
   ],
   "source": [
    "df.columns = ['timestamp', 'age', 'gender', 'country_id', 'state', 'self_employed',\n",
    "       'family_history', 'treatment', 'work_interfere', 'no_employees',\n",
    "       'remote_work', 'tech_company', 'benefits', 'care_options',\n",
    "       'wellness_program', 'seek_help', 'anonymity', 'leave',\n",
    "       'mental_health_consequence', 'phys_health_consequence', 'coworkers',\n",
    "       'supervisor', 'mental_health_interview', 'phys_health_interview',\n",
    "       'mental_vs_physical', 'obs_consequence', 'comments']\n",
    "\n",
    "df = df[['timestamp', 'age', 'gender', 'country_id', 'state', 'self_employed',\n",
    "       'family_history', 'treatment', 'work_interfere', 'no_employees',\n",
    "       'remote_work', 'tech_company', 'benefits', 'care_options',\n",
    "       'wellness_program', 'seek_help', 'anonymity', 'leave',\n",
    "       'mental_health_consequence', 'phys_health_consequence', 'coworkers',\n",
    "       'supervisor', 'mental_health_interview', 'phys_health_interview',\n",
    "       'mental_vs_physical']]\n",
    "\n",
    "# Change index name\n",
    "df.index.names = [\"sample_id\"]\n",
    "\n",
    "df"
   ]
  },
  {
   "cell_type": "code",
   "execution_count": 21,
   "metadata": {},
   "outputs": [],
   "source": [
    "df.to_csv(\"../Transformed Data/MentalHealth-Transformed.csv\")"
   ]
  },
  {
   "cell_type": "markdown",
   "metadata": {},
   "source": [
    "## University Data "
   ]
  },
  {
   "cell_type": "code",
   "execution_count": 46,
   "metadata": {},
   "outputs": [
    {
     "output_type": "execute_result",
     "data": {
      "text/plain": [
       "   world_rank                            institution         country  \\\n",
       "0           1                     Harvard University             USA   \n",
       "1           2  Massachusetts Institute of Technology             USA   \n",
       "2           3                    Stanford University             USA   \n",
       "3           4                University of Cambridge  United Kingdom   \n",
       "4           5     California Institute of Technology             USA   \n",
       "\n",
       "   national_rank  quality_of_education  alumni_employment  quality_of_faculty  \\\n",
       "0              1                     7                  9                   1   \n",
       "1              2                     9                 17                   3   \n",
       "2              3                    17                 11                   5   \n",
       "3              1                    10                 24                   4   \n",
       "4              4                     2                 29                   7   \n",
       "\n",
       "   publications  influence  citations  broad_impact  patents   score  year  \n",
       "0             1          1          1           NaN        5  100.00  2012  \n",
       "1            12          4          4           NaN        1   91.67  2012  \n",
       "2             4          2          2           NaN       15   89.50  2012  \n",
       "3            16         16         11           NaN       50   86.17  2012  \n",
       "4            37         22         22           NaN       18   85.21  2012  "
      ],
      "text/html": "<div>\n<style scoped>\n    .dataframe tbody tr th:only-of-type {\n        vertical-align: middle;\n    }\n\n    .dataframe tbody tr th {\n        vertical-align: top;\n    }\n\n    .dataframe thead th {\n        text-align: right;\n    }\n</style>\n<table border=\"1\" class=\"dataframe\">\n  <thead>\n    <tr style=\"text-align: right;\">\n      <th></th>\n      <th>world_rank</th>\n      <th>institution</th>\n      <th>country</th>\n      <th>national_rank</th>\n      <th>quality_of_education</th>\n      <th>alumni_employment</th>\n      <th>quality_of_faculty</th>\n      <th>publications</th>\n      <th>influence</th>\n      <th>citations</th>\n      <th>broad_impact</th>\n      <th>patents</th>\n      <th>score</th>\n      <th>year</th>\n    </tr>\n  </thead>\n  <tbody>\n    <tr>\n      <th>0</th>\n      <td>1</td>\n      <td>Harvard University</td>\n      <td>USA</td>\n      <td>1</td>\n      <td>7</td>\n      <td>9</td>\n      <td>1</td>\n      <td>1</td>\n      <td>1</td>\n      <td>1</td>\n      <td>NaN</td>\n      <td>5</td>\n      <td>100.00</td>\n      <td>2012</td>\n    </tr>\n    <tr>\n      <th>1</th>\n      <td>2</td>\n      <td>Massachusetts Institute of Technology</td>\n      <td>USA</td>\n      <td>2</td>\n      <td>9</td>\n      <td>17</td>\n      <td>3</td>\n      <td>12</td>\n      <td>4</td>\n      <td>4</td>\n      <td>NaN</td>\n      <td>1</td>\n      <td>91.67</td>\n      <td>2012</td>\n    </tr>\n    <tr>\n      <th>2</th>\n      <td>3</td>\n      <td>Stanford University</td>\n      <td>USA</td>\n      <td>3</td>\n      <td>17</td>\n      <td>11</td>\n      <td>5</td>\n      <td>4</td>\n      <td>2</td>\n      <td>2</td>\n      <td>NaN</td>\n      <td>15</td>\n      <td>89.50</td>\n      <td>2012</td>\n    </tr>\n    <tr>\n      <th>3</th>\n      <td>4</td>\n      <td>University of Cambridge</td>\n      <td>United Kingdom</td>\n      <td>1</td>\n      <td>10</td>\n      <td>24</td>\n      <td>4</td>\n      <td>16</td>\n      <td>16</td>\n      <td>11</td>\n      <td>NaN</td>\n      <td>50</td>\n      <td>86.17</td>\n      <td>2012</td>\n    </tr>\n    <tr>\n      <th>4</th>\n      <td>5</td>\n      <td>California Institute of Technology</td>\n      <td>USA</td>\n      <td>4</td>\n      <td>2</td>\n      <td>29</td>\n      <td>7</td>\n      <td>37</td>\n      <td>22</td>\n      <td>22</td>\n      <td>NaN</td>\n      <td>18</td>\n      <td>85.21</td>\n      <td>2012</td>\n    </tr>\n  </tbody>\n</table>\n</div>"
     },
     "metadata": {},
     "execution_count": 46
    }
   ],
   "source": [
    "# Importing in Data \n",
    "filepath = f\"../Clean Data/UniversityData.csv\"\n",
    "df_uni = pd.read_csv(filepath, index_col=0)\n",
    "df_uni.head()"
   ]
  },
  {
   "cell_type": "code",
   "execution_count": 47,
   "metadata": {},
   "outputs": [
    {
     "output_type": "execute_result",
     "data": {
      "text/plain": [
       "      world_rank                            institution         country  \\\n",
       "0              1                     Harvard University               3   \n",
       "1              2  Massachusetts Institute of Technology               3   \n",
       "2              3                    Stanford University               3   \n",
       "3              4                University of Cambridge  United Kingdom   \n",
       "4              5     California Institute of Technology               3   \n",
       "...          ...                                    ...             ...   \n",
       "2195         996              University of the Algarve        Portugal   \n",
       "2196         997                  Alexandria University           Egypt   \n",
       "2197         998            Federal University of Ceará          Brazil   \n",
       "2198         999                 University of A Coruña           Spain   \n",
       "2199        1000        China Pharmaceutical University           China   \n",
       "\n",
       "      national_rank  quality_of_education  alumni_employment  \\\n",
       "0                 1                     7                  9   \n",
       "1                 2                     9                 17   \n",
       "2                 3                    17                 11   \n",
       "3                 1                    10                 24   \n",
       "4                 4                     2                 29   \n",
       "...             ...                   ...                ...   \n",
       "2195              7                   367                567   \n",
       "2196              4                   236                566   \n",
       "2197             18                   367                549   \n",
       "2198             40                   367                567   \n",
       "2199             83                   367                567   \n",
       "\n",
       "      quality_of_faculty  publications  influence  citations  broad_impact  \\\n",
       "0                      1             1          1          1           NaN   \n",
       "1                      3            12          4          4           NaN   \n",
       "2                      5             4          2          2           NaN   \n",
       "3                      4            16         16         11           NaN   \n",
       "4                      7            37         22         22           NaN   \n",
       "...                  ...           ...        ...        ...           ...   \n",
       "2195                 218           926        845        812         969.0   \n",
       "2196                 218           997        908        645         981.0   \n",
       "2197                 218           830        823        812         975.0   \n",
       "2198                 218           886        974        812         975.0   \n",
       "2199                 218           861        991        812         981.0   \n",
       "\n",
       "      patents   score  year  \n",
       "0           5  100.00  2012  \n",
       "1           1   91.67  2012  \n",
       "2          15   89.50  2012  \n",
       "3          50   86.17  2012  \n",
       "4          18   85.21  2012  \n",
       "...       ...     ...   ...  \n",
       "2195      816   44.03  2015  \n",
       "2196      871   44.03  2015  \n",
       "2197      824   44.03  2015  \n",
       "2198      651   44.02  2015  \n",
       "2199      547   44.02  2015  \n",
       "\n",
       "[2200 rows x 14 columns]"
      ],
      "text/html": "<div>\n<style scoped>\n    .dataframe tbody tr th:only-of-type {\n        vertical-align: middle;\n    }\n\n    .dataframe tbody tr th {\n        vertical-align: top;\n    }\n\n    .dataframe thead th {\n        text-align: right;\n    }\n</style>\n<table border=\"1\" class=\"dataframe\">\n  <thead>\n    <tr style=\"text-align: right;\">\n      <th></th>\n      <th>world_rank</th>\n      <th>institution</th>\n      <th>country</th>\n      <th>national_rank</th>\n      <th>quality_of_education</th>\n      <th>alumni_employment</th>\n      <th>quality_of_faculty</th>\n      <th>publications</th>\n      <th>influence</th>\n      <th>citations</th>\n      <th>broad_impact</th>\n      <th>patents</th>\n      <th>score</th>\n      <th>year</th>\n    </tr>\n  </thead>\n  <tbody>\n    <tr>\n      <th>0</th>\n      <td>1</td>\n      <td>Harvard University</td>\n      <td>3</td>\n      <td>1</td>\n      <td>7</td>\n      <td>9</td>\n      <td>1</td>\n      <td>1</td>\n      <td>1</td>\n      <td>1</td>\n      <td>NaN</td>\n      <td>5</td>\n      <td>100.00</td>\n      <td>2012</td>\n    </tr>\n    <tr>\n      <th>1</th>\n      <td>2</td>\n      <td>Massachusetts Institute of Technology</td>\n      <td>3</td>\n      <td>2</td>\n      <td>9</td>\n      <td>17</td>\n      <td>3</td>\n      <td>12</td>\n      <td>4</td>\n      <td>4</td>\n      <td>NaN</td>\n      <td>1</td>\n      <td>91.67</td>\n      <td>2012</td>\n    </tr>\n    <tr>\n      <th>2</th>\n      <td>3</td>\n      <td>Stanford University</td>\n      <td>3</td>\n      <td>3</td>\n      <td>17</td>\n      <td>11</td>\n      <td>5</td>\n      <td>4</td>\n      <td>2</td>\n      <td>2</td>\n      <td>NaN</td>\n      <td>15</td>\n      <td>89.50</td>\n      <td>2012</td>\n    </tr>\n    <tr>\n      <th>3</th>\n      <td>4</td>\n      <td>University of Cambridge</td>\n      <td>United Kingdom</td>\n      <td>1</td>\n      <td>10</td>\n      <td>24</td>\n      <td>4</td>\n      <td>16</td>\n      <td>16</td>\n      <td>11</td>\n      <td>NaN</td>\n      <td>50</td>\n      <td>86.17</td>\n      <td>2012</td>\n    </tr>\n    <tr>\n      <th>4</th>\n      <td>5</td>\n      <td>California Institute of Technology</td>\n      <td>3</td>\n      <td>4</td>\n      <td>2</td>\n      <td>29</td>\n      <td>7</td>\n      <td>37</td>\n      <td>22</td>\n      <td>22</td>\n      <td>NaN</td>\n      <td>18</td>\n      <td>85.21</td>\n      <td>2012</td>\n    </tr>\n    <tr>\n      <th>...</th>\n      <td>...</td>\n      <td>...</td>\n      <td>...</td>\n      <td>...</td>\n      <td>...</td>\n      <td>...</td>\n      <td>...</td>\n      <td>...</td>\n      <td>...</td>\n      <td>...</td>\n      <td>...</td>\n      <td>...</td>\n      <td>...</td>\n      <td>...</td>\n    </tr>\n    <tr>\n      <th>2195</th>\n      <td>996</td>\n      <td>University of the Algarve</td>\n      <td>Portugal</td>\n      <td>7</td>\n      <td>367</td>\n      <td>567</td>\n      <td>218</td>\n      <td>926</td>\n      <td>845</td>\n      <td>812</td>\n      <td>969.0</td>\n      <td>816</td>\n      <td>44.03</td>\n      <td>2015</td>\n    </tr>\n    <tr>\n      <th>2196</th>\n      <td>997</td>\n      <td>Alexandria University</td>\n      <td>Egypt</td>\n      <td>4</td>\n      <td>236</td>\n      <td>566</td>\n      <td>218</td>\n      <td>997</td>\n      <td>908</td>\n      <td>645</td>\n      <td>981.0</td>\n      <td>871</td>\n      <td>44.03</td>\n      <td>2015</td>\n    </tr>\n    <tr>\n      <th>2197</th>\n      <td>998</td>\n      <td>Federal University of Ceará</td>\n      <td>Brazil</td>\n      <td>18</td>\n      <td>367</td>\n      <td>549</td>\n      <td>218</td>\n      <td>830</td>\n      <td>823</td>\n      <td>812</td>\n      <td>975.0</td>\n      <td>824</td>\n      <td>44.03</td>\n      <td>2015</td>\n    </tr>\n    <tr>\n      <th>2198</th>\n      <td>999</td>\n      <td>University of A Coruña</td>\n      <td>Spain</td>\n      <td>40</td>\n      <td>367</td>\n      <td>567</td>\n      <td>218</td>\n      <td>886</td>\n      <td>974</td>\n      <td>812</td>\n      <td>975.0</td>\n      <td>651</td>\n      <td>44.02</td>\n      <td>2015</td>\n    </tr>\n    <tr>\n      <th>2199</th>\n      <td>1000</td>\n      <td>China Pharmaceutical University</td>\n      <td>China</td>\n      <td>83</td>\n      <td>367</td>\n      <td>567</td>\n      <td>218</td>\n      <td>861</td>\n      <td>991</td>\n      <td>812</td>\n      <td>981.0</td>\n      <td>547</td>\n      <td>44.02</td>\n      <td>2015</td>\n    </tr>\n  </tbody>\n</table>\n<p>2200 rows × 14 columns</p>\n</div>"
     },
     "metadata": {},
     "execution_count": 47
    }
   ],
   "source": [
    "country_dict = {\n",
    "    \"Singapore\"     : 1,\n",
    "    \"Canada\"        : 2,\n",
    "    \"USA\"           : 3,\n",
    "    \"Australia\"     : 4\n",
    "}\n",
    "#normalizing country with index numbers\n",
    "for country_key, country_index in country_dict.items():\n",
    "    #replacing with country index number \n",
    "    df_uni.loc[(df_uni[\"country\"] == country_key), \"country\"] = country_index\n",
    "\n",
    "df_uni"
   ]
  },
  {
   "cell_type": "code",
   "execution_count": 48,
   "metadata": {},
   "outputs": [
    {
     "output_type": "execute_result",
     "data": {
      "text/plain": [
       "array([3, 2, 4, 1], dtype=object)"
      ]
     },
     "metadata": {},
     "execution_count": 48
    }
   ],
   "source": [
    "#keeping data on the four countries \n",
    "df_uni_new = df_uni[df_uni[\"country\"].isin(list(country_dict.values()))]\n",
    "df_uni_new.reset_index(drop=True, inplace=True)\n",
    "\n",
    "#checking that all four countries are still in df\n",
    "df_uni_new[\"country\"].unique()"
   ]
  },
  {
   "cell_type": "code",
   "execution_count": 49,
   "metadata": {},
   "outputs": [
    {
     "output_type": "execute_result",
     "data": {
      "text/plain": [
       "   world_rank                            institution country  national_rank  \\\n",
       "0           1                     Harvard University       3              1   \n",
       "1           2  Massachusetts Institute of Technology       3              2   \n",
       "2           3                    Stanford University       3              3   \n",
       "3           5     California Institute of Technology       3              4   \n",
       "4           6                   Princeton University       3              5   \n",
       "\n",
       "   quality_of_education  alumni_employment  quality_of_faculty  publications  \\\n",
       "0                     7                  9                   1             1   \n",
       "1                     9                 17                   3            12   \n",
       "2                    17                 11                   5             4   \n",
       "3                     2                 29                   7            37   \n",
       "4                     8                 14                   2            53   \n",
       "\n",
       "   influence  citations  broad_impact  patents   score  year  \n",
       "0          1          1           NaN        5  100.00  2012  \n",
       "1          4          4           NaN        1   91.67  2012  \n",
       "2          2          2           NaN       15   89.50  2012  \n",
       "3         22         22           NaN       18   85.21  2012  \n",
       "4         33         26           NaN      101   82.50  2012  "
      ],
      "text/html": "<div>\n<style scoped>\n    .dataframe tbody tr th:only-of-type {\n        vertical-align: middle;\n    }\n\n    .dataframe tbody tr th {\n        vertical-align: top;\n    }\n\n    .dataframe thead th {\n        text-align: right;\n    }\n</style>\n<table border=\"1\" class=\"dataframe\">\n  <thead>\n    <tr style=\"text-align: right;\">\n      <th></th>\n      <th>world_rank</th>\n      <th>institution</th>\n      <th>country</th>\n      <th>national_rank</th>\n      <th>quality_of_education</th>\n      <th>alumni_employment</th>\n      <th>quality_of_faculty</th>\n      <th>publications</th>\n      <th>influence</th>\n      <th>citations</th>\n      <th>broad_impact</th>\n      <th>patents</th>\n      <th>score</th>\n      <th>year</th>\n    </tr>\n  </thead>\n  <tbody>\n    <tr>\n      <th>0</th>\n      <td>1</td>\n      <td>Harvard University</td>\n      <td>3</td>\n      <td>1</td>\n      <td>7</td>\n      <td>9</td>\n      <td>1</td>\n      <td>1</td>\n      <td>1</td>\n      <td>1</td>\n      <td>NaN</td>\n      <td>5</td>\n      <td>100.00</td>\n      <td>2012</td>\n    </tr>\n    <tr>\n      <th>1</th>\n      <td>2</td>\n      <td>Massachusetts Institute of Technology</td>\n      <td>3</td>\n      <td>2</td>\n      <td>9</td>\n      <td>17</td>\n      <td>3</td>\n      <td>12</td>\n      <td>4</td>\n      <td>4</td>\n      <td>NaN</td>\n      <td>1</td>\n      <td>91.67</td>\n      <td>2012</td>\n    </tr>\n    <tr>\n      <th>2</th>\n      <td>3</td>\n      <td>Stanford University</td>\n      <td>3</td>\n      <td>3</td>\n      <td>17</td>\n      <td>11</td>\n      <td>5</td>\n      <td>4</td>\n      <td>2</td>\n      <td>2</td>\n      <td>NaN</td>\n      <td>15</td>\n      <td>89.50</td>\n      <td>2012</td>\n    </tr>\n    <tr>\n      <th>3</th>\n      <td>5</td>\n      <td>California Institute of Technology</td>\n      <td>3</td>\n      <td>4</td>\n      <td>2</td>\n      <td>29</td>\n      <td>7</td>\n      <td>37</td>\n      <td>22</td>\n      <td>22</td>\n      <td>NaN</td>\n      <td>18</td>\n      <td>85.21</td>\n      <td>2012</td>\n    </tr>\n    <tr>\n      <th>4</th>\n      <td>6</td>\n      <td>Princeton University</td>\n      <td>3</td>\n      <td>5</td>\n      <td>8</td>\n      <td>14</td>\n      <td>2</td>\n      <td>53</td>\n      <td>33</td>\n      <td>26</td>\n      <td>NaN</td>\n      <td>101</td>\n      <td>82.50</td>\n      <td>2012</td>\n    </tr>\n  </tbody>\n</table>\n</div>"
     },
     "metadata": {},
     "execution_count": 49
    }
   ],
   "source": [
    "df_uni_new.head()"
   ]
  },
  {
   "cell_type": "code",
   "execution_count": 50,
   "metadata": {},
   "outputs": [
    {
     "output_type": "execute_result",
     "data": {
      "text/plain": [
       "     world_rank                            institution country  national_rank  \\\n",
       "0             1                     Harvard University       3              1   \n",
       "1             2                    Stanford University       3              2   \n",
       "2             3  Massachusetts Institute of Technology       3              3   \n",
       "3             6                    Columbia University       3              4   \n",
       "4             7     University of California, Berkeley       3              5   \n",
       "..          ...                                    ...     ...            ...   \n",
       "285         913     University of Southern Mississippi       3            227   \n",
       "286         923       University of California, Merced       3            228   \n",
       "287         939  University of New England (Australia)       4             27   \n",
       "288         969            Western Michigan University       3            229   \n",
       "289         972                     Ryerson University       2             32   \n",
       "\n",
       "     quality_of_education  alumni_employment  quality_of_faculty  \\\n",
       "0                       1                  1                   1   \n",
       "1                      11                  2                   4   \n",
       "2                       3                 11                   2   \n",
       "3                      13                  8                   9   \n",
       "4                       4                 22                   6   \n",
       "..                    ...                ...                 ...   \n",
       "285                   355                478                 210   \n",
       "286                   355                478                 210   \n",
       "287                   355                478                 210   \n",
       "288                   355                478                 210   \n",
       "289                   355                478                 210   \n",
       "\n",
       "     publications  influence  citations  broad_impact  patents   score  year  \n",
       "0               1          1          1           1.0        2  100.00  2014  \n",
       "1               5          3          3           4.0        6   99.09  2014  \n",
       "2              15          2          2           2.0        1   98.69  2014  \n",
       "3              14         13          9          13.0        4   97.41  2014  \n",
       "4               7          4          3           7.0       28   92.84  2014  \n",
       "..            ...        ...        ...           ...      ...     ...   ...  \n",
       "285           903        840        800         849.0      737   44.38  2014  \n",
       "286           957        576        800         923.0      338   44.37  2014  \n",
       "287           916        552        493         909.0      637   44.34  2014  \n",
       "288           962        815        800         937.0      737   44.30  2014  \n",
       "289           813        966        609         956.0      637   44.30  2014  \n",
       "\n",
       "[290 rows x 14 columns]"
      ],
      "text/html": "<div>\n<style scoped>\n    .dataframe tbody tr th:only-of-type {\n        vertical-align: middle;\n    }\n\n    .dataframe tbody tr th {\n        vertical-align: top;\n    }\n\n    .dataframe thead th {\n        text-align: right;\n    }\n</style>\n<table border=\"1\" class=\"dataframe\">\n  <thead>\n    <tr style=\"text-align: right;\">\n      <th></th>\n      <th>world_rank</th>\n      <th>institution</th>\n      <th>country</th>\n      <th>national_rank</th>\n      <th>quality_of_education</th>\n      <th>alumni_employment</th>\n      <th>quality_of_faculty</th>\n      <th>publications</th>\n      <th>influence</th>\n      <th>citations</th>\n      <th>broad_impact</th>\n      <th>patents</th>\n      <th>score</th>\n      <th>year</th>\n    </tr>\n  </thead>\n  <tbody>\n    <tr>\n      <th>0</th>\n      <td>1</td>\n      <td>Harvard University</td>\n      <td>3</td>\n      <td>1</td>\n      <td>1</td>\n      <td>1</td>\n      <td>1</td>\n      <td>1</td>\n      <td>1</td>\n      <td>1</td>\n      <td>1.0</td>\n      <td>2</td>\n      <td>100.00</td>\n      <td>2014</td>\n    </tr>\n    <tr>\n      <th>1</th>\n      <td>2</td>\n      <td>Stanford University</td>\n      <td>3</td>\n      <td>2</td>\n      <td>11</td>\n      <td>2</td>\n      <td>4</td>\n      <td>5</td>\n      <td>3</td>\n      <td>3</td>\n      <td>4.0</td>\n      <td>6</td>\n      <td>99.09</td>\n      <td>2014</td>\n    </tr>\n    <tr>\n      <th>2</th>\n      <td>3</td>\n      <td>Massachusetts Institute of Technology</td>\n      <td>3</td>\n      <td>3</td>\n      <td>3</td>\n      <td>11</td>\n      <td>2</td>\n      <td>15</td>\n      <td>2</td>\n      <td>2</td>\n      <td>2.0</td>\n      <td>1</td>\n      <td>98.69</td>\n      <td>2014</td>\n    </tr>\n    <tr>\n      <th>3</th>\n      <td>6</td>\n      <td>Columbia University</td>\n      <td>3</td>\n      <td>4</td>\n      <td>13</td>\n      <td>8</td>\n      <td>9</td>\n      <td>14</td>\n      <td>13</td>\n      <td>9</td>\n      <td>13.0</td>\n      <td>4</td>\n      <td>97.41</td>\n      <td>2014</td>\n    </tr>\n    <tr>\n      <th>4</th>\n      <td>7</td>\n      <td>University of California, Berkeley</td>\n      <td>3</td>\n      <td>5</td>\n      <td>4</td>\n      <td>22</td>\n      <td>6</td>\n      <td>7</td>\n      <td>4</td>\n      <td>3</td>\n      <td>7.0</td>\n      <td>28</td>\n      <td>92.84</td>\n      <td>2014</td>\n    </tr>\n    <tr>\n      <th>...</th>\n      <td>...</td>\n      <td>...</td>\n      <td>...</td>\n      <td>...</td>\n      <td>...</td>\n      <td>...</td>\n      <td>...</td>\n      <td>...</td>\n      <td>...</td>\n      <td>...</td>\n      <td>...</td>\n      <td>...</td>\n      <td>...</td>\n      <td>...</td>\n    </tr>\n    <tr>\n      <th>285</th>\n      <td>913</td>\n      <td>University of Southern Mississippi</td>\n      <td>3</td>\n      <td>227</td>\n      <td>355</td>\n      <td>478</td>\n      <td>210</td>\n      <td>903</td>\n      <td>840</td>\n      <td>800</td>\n      <td>849.0</td>\n      <td>737</td>\n      <td>44.38</td>\n      <td>2014</td>\n    </tr>\n    <tr>\n      <th>286</th>\n      <td>923</td>\n      <td>University of California, Merced</td>\n      <td>3</td>\n      <td>228</td>\n      <td>355</td>\n      <td>478</td>\n      <td>210</td>\n      <td>957</td>\n      <td>576</td>\n      <td>800</td>\n      <td>923.0</td>\n      <td>338</td>\n      <td>44.37</td>\n      <td>2014</td>\n    </tr>\n    <tr>\n      <th>287</th>\n      <td>939</td>\n      <td>University of New England (Australia)</td>\n      <td>4</td>\n      <td>27</td>\n      <td>355</td>\n      <td>478</td>\n      <td>210</td>\n      <td>916</td>\n      <td>552</td>\n      <td>493</td>\n      <td>909.0</td>\n      <td>637</td>\n      <td>44.34</td>\n      <td>2014</td>\n    </tr>\n    <tr>\n      <th>288</th>\n      <td>969</td>\n      <td>Western Michigan University</td>\n      <td>3</td>\n      <td>229</td>\n      <td>355</td>\n      <td>478</td>\n      <td>210</td>\n      <td>962</td>\n      <td>815</td>\n      <td>800</td>\n      <td>937.0</td>\n      <td>737</td>\n      <td>44.30</td>\n      <td>2014</td>\n    </tr>\n    <tr>\n      <th>289</th>\n      <td>972</td>\n      <td>Ryerson University</td>\n      <td>2</td>\n      <td>32</td>\n      <td>355</td>\n      <td>478</td>\n      <td>210</td>\n      <td>813</td>\n      <td>966</td>\n      <td>609</td>\n      <td>956.0</td>\n      <td>637</td>\n      <td>44.30</td>\n      <td>2014</td>\n    </tr>\n  </tbody>\n</table>\n<p>290 rows × 14 columns</p>\n</div>"
     },
     "metadata": {},
     "execution_count": 50
    }
   ],
   "source": [
    "# Keeping only the latest data (year 2014)\n",
    "latest_df = df_uni_new.loc[df_uni_new[\"year\"]==2014]\n",
    "latest_df.reset_index(drop=True, inplace=True)\n",
    "latest_df"
   ]
  },
  {
   "cell_type": "code",
   "execution_count": 51,
   "metadata": {},
   "outputs": [
    {
     "output_type": "execute_result",
     "data": {
      "text/plain": [
       "                               institution  world_rank country_id  \\\n",
       "0                       Harvard University           1          3   \n",
       "1                      Stanford University           2          3   \n",
       "2    Massachusetts Institute of Technology           3          3   \n",
       "3                      Columbia University           6          3   \n",
       "4       University of California, Berkeley           7          3   \n",
       "..                                     ...         ...        ...   \n",
       "285     University of Southern Mississippi         913          3   \n",
       "286       University of California, Merced         923          3   \n",
       "287  University of New England (Australia)         939          4   \n",
       "288            Western Michigan University         969          3   \n",
       "289                     Ryerson University         972          2   \n",
       "\n",
       "     national_rank  quality_of_education  alumni_employment  \\\n",
       "0                1                     1                  1   \n",
       "1                2                    11                  2   \n",
       "2                3                     3                 11   \n",
       "3                4                    13                  8   \n",
       "4                5                     4                 22   \n",
       "..             ...                   ...                ...   \n",
       "285            227                   355                478   \n",
       "286            228                   355                478   \n",
       "287             27                   355                478   \n",
       "288            229                   355                478   \n",
       "289             32                   355                478   \n",
       "\n",
       "     quality_of_faculty  publications  influence  citations  broad_impact  \\\n",
       "0                     1             1          1          1           1.0   \n",
       "1                     4             5          3          3           4.0   \n",
       "2                     2            15          2          2           2.0   \n",
       "3                     9            14         13          9          13.0   \n",
       "4                     6             7          4          3           7.0   \n",
       "..                  ...           ...        ...        ...           ...   \n",
       "285                 210           903        840        800         849.0   \n",
       "286                 210           957        576        800         923.0   \n",
       "287                 210           916        552        493         909.0   \n",
       "288                 210           962        815        800         937.0   \n",
       "289                 210           813        966        609         956.0   \n",
       "\n",
       "     patents   score  year  \n",
       "0          2  100.00  2014  \n",
       "1          6   99.09  2014  \n",
       "2          1   98.69  2014  \n",
       "3          4   97.41  2014  \n",
       "4         28   92.84  2014  \n",
       "..       ...     ...   ...  \n",
       "285      737   44.38  2014  \n",
       "286      338   44.37  2014  \n",
       "287      637   44.34  2014  \n",
       "288      737   44.30  2014  \n",
       "289      637   44.30  2014  \n",
       "\n",
       "[290 rows x 14 columns]"
      ],
      "text/html": "<div>\n<style scoped>\n    .dataframe tbody tr th:only-of-type {\n        vertical-align: middle;\n    }\n\n    .dataframe tbody tr th {\n        vertical-align: top;\n    }\n\n    .dataframe thead th {\n        text-align: right;\n    }\n</style>\n<table border=\"1\" class=\"dataframe\">\n  <thead>\n    <tr style=\"text-align: right;\">\n      <th></th>\n      <th>institution</th>\n      <th>world_rank</th>\n      <th>country_id</th>\n      <th>national_rank</th>\n      <th>quality_of_education</th>\n      <th>alumni_employment</th>\n      <th>quality_of_faculty</th>\n      <th>publications</th>\n      <th>influence</th>\n      <th>citations</th>\n      <th>broad_impact</th>\n      <th>patents</th>\n      <th>score</th>\n      <th>year</th>\n    </tr>\n  </thead>\n  <tbody>\n    <tr>\n      <th>0</th>\n      <td>Harvard University</td>\n      <td>1</td>\n      <td>3</td>\n      <td>1</td>\n      <td>1</td>\n      <td>1</td>\n      <td>1</td>\n      <td>1</td>\n      <td>1</td>\n      <td>1</td>\n      <td>1.0</td>\n      <td>2</td>\n      <td>100.00</td>\n      <td>2014</td>\n    </tr>\n    <tr>\n      <th>1</th>\n      <td>Stanford University</td>\n      <td>2</td>\n      <td>3</td>\n      <td>2</td>\n      <td>11</td>\n      <td>2</td>\n      <td>4</td>\n      <td>5</td>\n      <td>3</td>\n      <td>3</td>\n      <td>4.0</td>\n      <td>6</td>\n      <td>99.09</td>\n      <td>2014</td>\n    </tr>\n    <tr>\n      <th>2</th>\n      <td>Massachusetts Institute of Technology</td>\n      <td>3</td>\n      <td>3</td>\n      <td>3</td>\n      <td>3</td>\n      <td>11</td>\n      <td>2</td>\n      <td>15</td>\n      <td>2</td>\n      <td>2</td>\n      <td>2.0</td>\n      <td>1</td>\n      <td>98.69</td>\n      <td>2014</td>\n    </tr>\n    <tr>\n      <th>3</th>\n      <td>Columbia University</td>\n      <td>6</td>\n      <td>3</td>\n      <td>4</td>\n      <td>13</td>\n      <td>8</td>\n      <td>9</td>\n      <td>14</td>\n      <td>13</td>\n      <td>9</td>\n      <td>13.0</td>\n      <td>4</td>\n      <td>97.41</td>\n      <td>2014</td>\n    </tr>\n    <tr>\n      <th>4</th>\n      <td>University of California, Berkeley</td>\n      <td>7</td>\n      <td>3</td>\n      <td>5</td>\n      <td>4</td>\n      <td>22</td>\n      <td>6</td>\n      <td>7</td>\n      <td>4</td>\n      <td>3</td>\n      <td>7.0</td>\n      <td>28</td>\n      <td>92.84</td>\n      <td>2014</td>\n    </tr>\n    <tr>\n      <th>...</th>\n      <td>...</td>\n      <td>...</td>\n      <td>...</td>\n      <td>...</td>\n      <td>...</td>\n      <td>...</td>\n      <td>...</td>\n      <td>...</td>\n      <td>...</td>\n      <td>...</td>\n      <td>...</td>\n      <td>...</td>\n      <td>...</td>\n      <td>...</td>\n    </tr>\n    <tr>\n      <th>285</th>\n      <td>University of Southern Mississippi</td>\n      <td>913</td>\n      <td>3</td>\n      <td>227</td>\n      <td>355</td>\n      <td>478</td>\n      <td>210</td>\n      <td>903</td>\n      <td>840</td>\n      <td>800</td>\n      <td>849.0</td>\n      <td>737</td>\n      <td>44.38</td>\n      <td>2014</td>\n    </tr>\n    <tr>\n      <th>286</th>\n      <td>University of California, Merced</td>\n      <td>923</td>\n      <td>3</td>\n      <td>228</td>\n      <td>355</td>\n      <td>478</td>\n      <td>210</td>\n      <td>957</td>\n      <td>576</td>\n      <td>800</td>\n      <td>923.0</td>\n      <td>338</td>\n      <td>44.37</td>\n      <td>2014</td>\n    </tr>\n    <tr>\n      <th>287</th>\n      <td>University of New England (Australia)</td>\n      <td>939</td>\n      <td>4</td>\n      <td>27</td>\n      <td>355</td>\n      <td>478</td>\n      <td>210</td>\n      <td>916</td>\n      <td>552</td>\n      <td>493</td>\n      <td>909.0</td>\n      <td>637</td>\n      <td>44.34</td>\n      <td>2014</td>\n    </tr>\n    <tr>\n      <th>288</th>\n      <td>Western Michigan University</td>\n      <td>969</td>\n      <td>3</td>\n      <td>229</td>\n      <td>355</td>\n      <td>478</td>\n      <td>210</td>\n      <td>962</td>\n      <td>815</td>\n      <td>800</td>\n      <td>937.0</td>\n      <td>737</td>\n      <td>44.30</td>\n      <td>2014</td>\n    </tr>\n    <tr>\n      <th>289</th>\n      <td>Ryerson University</td>\n      <td>972</td>\n      <td>2</td>\n      <td>32</td>\n      <td>355</td>\n      <td>478</td>\n      <td>210</td>\n      <td>813</td>\n      <td>966</td>\n      <td>609</td>\n      <td>956.0</td>\n      <td>637</td>\n      <td>44.30</td>\n      <td>2014</td>\n    </tr>\n  </tbody>\n</table>\n<p>290 rows × 14 columns</p>\n</div>"
     },
     "metadata": {},
     "execution_count": 51
    }
   ],
   "source": [
    "#formatting column names \n",
    "\n",
    "latest_df.columns = ['world_rank', 'institution', 'country_id', 'national_rank',\n",
    "       'quality_of_education', 'alumni_employment', 'quality_of_faculty',\n",
    "       'publications', 'influence', 'citations', 'broad_impact', 'patents',\n",
    "       'score', 'year']\n",
    "\n",
    "uni_export_df = latest_df[['institution', 'world_rank', 'country_id', 'national_rank',\n",
    "       'quality_of_education', 'alumni_employment', 'quality_of_faculty',\n",
    "       'publications', 'influence', 'citations', 'broad_impact', 'patents',\n",
    "       'score', 'year']]\n",
    "\n",
    "\n",
    "uni_export_df"
   ]
  },
  {
   "cell_type": "code",
   "execution_count": 53,
   "metadata": {},
   "outputs": [],
   "source": [
    "uni_export_df.to_csv(\"../Transformed Data/University-Transformed.csv\")"
   ]
  }
 ],
 "metadata": {
  "kernelspec": {
   "display_name": "Python 3",
   "language": "python",
   "name": "python3"
  },
  "language_info": {
   "codemirror_mode": {
    "name": "ipython",
    "version": 3
   },
   "file_extension": ".py",
   "mimetype": "text/x-python",
   "name": "python",
   "nbconvert_exporter": "python",
   "pygments_lexer": "ipython3",
   "version": "3.7.9-final"
  }
 },
 "nbformat": 4,
 "nbformat_minor": 4
}