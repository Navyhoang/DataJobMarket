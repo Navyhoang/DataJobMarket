{
 "metadata": {
  "language_info": {
   "codemirror_mode": {
    "name": "ipython",
    "version": 3
   },
   "file_extension": ".py",
   "mimetype": "text/x-python",
   "name": "python",
   "nbconvert_exporter": "python",
   "pygments_lexer": "ipython3",
   "version": "3.7.9-final"
  },
  "orig_nbformat": 2,
  "kernelspec": {
   "name": "python3",
   "display_name": "Python 3",
   "language": "python"
  }
 },
 "nbformat": 4,
 "nbformat_minor": 2,
 "cells": [
  {
   "cell_type": "code",
   "execution_count": 7,
   "metadata": {},
   "outputs": [],
   "source": [
    "import requests\n",
    "import pandas as pd\n",
    "import time\n",
    "from config import api_key"
   ]
  },
  {
   "cell_type": "code",
   "execution_count": 8,
   "metadata": {},
   "outputs": [],
   "source": [
    "# Import Location csv file\n",
    "loc_csv_filepath = \"../Transformed Data/location-summary.csv\""
   ]
  },
  {
   "cell_type": "code",
   "execution_count": 10,
   "metadata": {},
   "outputs": [
    {
     "output_type": "execute_result",
     "data": {
      "text/plain": [
       "      country_id                       city      state\n",
       "0              2                     Regina         SK\n",
       "1              2           Vaudreuil-Dorion         QC\n",
       "2              2                    Calgary         AB\n",
       "3              2                    Iqaluit         NU\n",
       "4              2                 Lethbridge         AB\n",
       "...          ...                        ...        ...\n",
       "1072           1       North-East Singapore  Singapore\n",
       "1073           1                    Tanglin  Singapore\n",
       "1074           1                    Raffles  Singapore\n",
       "1075           1  Central Business District  Singapore\n",
       "1076           1                Shenton Way  Singapore\n",
       "\n",
       "[1077 rows x 3 columns]"
      ],
      "text/html": "<div>\n<style scoped>\n    .dataframe tbody tr th:only-of-type {\n        vertical-align: middle;\n    }\n\n    .dataframe tbody tr th {\n        vertical-align: top;\n    }\n\n    .dataframe thead th {\n        text-align: right;\n    }\n</style>\n<table border=\"1\" class=\"dataframe\">\n  <thead>\n    <tr style=\"text-align: right;\">\n      <th></th>\n      <th>country_id</th>\n      <th>city</th>\n      <th>state</th>\n    </tr>\n  </thead>\n  <tbody>\n    <tr>\n      <th>0</th>\n      <td>2</td>\n      <td>Regina</td>\n      <td>SK</td>\n    </tr>\n    <tr>\n      <th>1</th>\n      <td>2</td>\n      <td>Vaudreuil-Dorion</td>\n      <td>QC</td>\n    </tr>\n    <tr>\n      <th>2</th>\n      <td>2</td>\n      <td>Calgary</td>\n      <td>AB</td>\n    </tr>\n    <tr>\n      <th>3</th>\n      <td>2</td>\n      <td>Iqaluit</td>\n      <td>NU</td>\n    </tr>\n    <tr>\n      <th>4</th>\n      <td>2</td>\n      <td>Lethbridge</td>\n      <td>AB</td>\n    </tr>\n    <tr>\n      <th>...</th>\n      <td>...</td>\n      <td>...</td>\n      <td>...</td>\n    </tr>\n    <tr>\n      <th>1072</th>\n      <td>1</td>\n      <td>North-East Singapore</td>\n      <td>Singapore</td>\n    </tr>\n    <tr>\n      <th>1073</th>\n      <td>1</td>\n      <td>Tanglin</td>\n      <td>Singapore</td>\n    </tr>\n    <tr>\n      <th>1074</th>\n      <td>1</td>\n      <td>Raffles</td>\n      <td>Singapore</td>\n    </tr>\n    <tr>\n      <th>1075</th>\n      <td>1</td>\n      <td>Central Business District</td>\n      <td>Singapore</td>\n    </tr>\n    <tr>\n      <th>1076</th>\n      <td>1</td>\n      <td>Shenton Way</td>\n      <td>Singapore</td>\n    </tr>\n  </tbody>\n</table>\n<p>1077 rows × 3 columns</p>\n</div>"
     },
     "metadata": {},
     "execution_count": 10
    }
   ],
   "source": [
    "# Open csv file\n",
    "with open(loc_csv_filepath, 'r', encoding='utf-8') as loc_file:\n",
    "    df_loc = pd.read_csv(loc_file)\n",
    "\n",
    "df_loc"
   ]
  },
  {
   "cell_type": "code",
   "execution_count": null,
   "metadata": {},
   "outputs": [],
   "source": [
    "# Create empty lists for lat and lng\n",
    "list_lat = []\n",
    "list_lng = []"
   ]
  },
  {
   "cell_type": "code",
   "execution_count": null,
   "metadata": {},
   "outputs": [],
   "source": [
    "# Iterate over rows in dataframe\\\n",
    "for index, row in df_loc.iterrows(): \n",
    "\n",
    "    # Concatenate city and state column and convert to url encoding\n",
    "    City = row['city']\n",
    "    State = row['state']       \n",
    "    city_query = str(City)+', '+str(State)\n",
    "    url_city = requests.utils.quote(city_query)\n",
    "\n",
    "    # Check the country id for each city\n",
    "    if row[\"country_id\"] == 1:\n",
    "        country_code = \"sg\"\n",
    "    elif row[\"country_id\"] == 2:\n",
    "        country_code = \"ca\"\n",
    "    elif row[\"country_id\"] == 3:\n",
    "        country_code = \"us\"\n",
    "    else:\n",
    "        country_code = \"au\"\n",
    "\n",
    "    # Combine into query url\n",
    "    url = f\"https://api.opencagedata.com/geocode/v1/json?key={api_key}&q={url_city}&countrycode={country_code}&limit=1&pretty=1\"\n",
    "\n",
    "    # Set Forward geocoding API request\n",
    "    response = requests.get(url).json()\n",
    "\n",
    "    # Try to get lat and lng, if error, return as NaN\n",
    "    try:\n",
    "        lat = response[\"results\"][0][\"geometry\"][\"lat\"]\n",
    "        lng = response[\"results\"][0][\"geometry\"][\"lng\"]\n",
    "    except:\n",
    "        lat = lng = np.nan\n",
    "    \n",
    "    if index % 10 == 0:\n",
    "        print(f\"Row({index}): Logging {city_query} with lat: {lat} & lng: {lng}\")\n",
    "\n",
    "    list_lat.append(lat)\n",
    "    list_lng.append(lng)\n",
    "\n",
    "print(\"API data query done.\")"
   ]
  },
  {
   "cell_type": "code",
   "execution_count": null,
   "metadata": {},
   "outputs": [],
   "source": [
    "# Putting coordinate info into df\n",
    "df_loc[\"lat\"] = list_lat\n",
    "df_loc[\"lng\"] = list_lng"
   ]
  },
  {
   "cell_type": "code",
   "execution_count": null,
   "metadata": {},
   "outputs": [],
   "source": [
    "df_loc"
   ]
  },
  {
   "cell_type": "code",
   "execution_count": null,
   "metadata": {},
   "outputs": [],
   "source": [
    "# Export location df to csv for city location API use\n",
    "df_loc.to_csv(\"US-Location.csv\", index=False, header=True)"
   ]
  },
  {
   "cell_type": "code",
   "execution_count": null,
   "metadata": {},
   "outputs": [],
   "source": [
    "import matplotlib.pyplot as plt\n",
    "df_loc.plot(kind=\"scatter\", x=\"lng\", y=\"lat\", alpha=0.4)\n",
    "plt.show()"
   ]
  }
 ]
}