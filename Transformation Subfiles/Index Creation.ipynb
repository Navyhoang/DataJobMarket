{
 "cells": [
  {
   "cell_type": "code",
   "execution_count": 2,
   "metadata": {},
   "outputs": [],
   "source": [
    "import pandas as pd \n",
    "import os "
   ]
  },
  {
   "cell_type": "markdown",
   "metadata": {},
   "source": [
    "# Job Title Index"
   ]
  },
  {
   "cell_type": "code",
   "execution_count": 3,
   "metadata": {},
   "outputs": [
    {
     "output_type": "execute_result",
     "data": {
      "text/plain": [
       "                     job_title\n",
       "job_title_id                  \n",
       "1                 Data Analyst\n",
       "2               Data Scientist\n",
       "3                Data Engineer\n",
       "4             Machine Learning"
      ],
      "text/html": "<div>\n<style scoped>\n    .dataframe tbody tr th:only-of-type {\n        vertical-align: middle;\n    }\n\n    .dataframe tbody tr th {\n        vertical-align: top;\n    }\n\n    .dataframe thead th {\n        text-align: right;\n    }\n</style>\n<table border=\"1\" class=\"dataframe\">\n  <thead>\n    <tr style=\"text-align: right;\">\n      <th></th>\n      <th>job_title</th>\n    </tr>\n    <tr>\n      <th>job_title_id</th>\n      <th></th>\n    </tr>\n  </thead>\n  <tbody>\n    <tr>\n      <th>1</th>\n      <td>Data Analyst</td>\n    </tr>\n    <tr>\n      <th>2</th>\n      <td>Data Scientist</td>\n    </tr>\n    <tr>\n      <th>3</th>\n      <td>Data Engineer</td>\n    </tr>\n    <tr>\n      <th>4</th>\n      <td>Machine Learning</td>\n    </tr>\n  </tbody>\n</table>\n</div>"
     },
     "metadata": {},
     "execution_count": 3
    }
   ],
   "source": [
    "job_title_index = {\"job_title_id\" : [1, 2, 3, 4],\n",
    "                  \"job_title\": [\"Data Analyst\", \"Data Scientist\", \"Data Engineer\", \"Machine Learning\"] }\n",
    "\n",
    "df = pd.DataFrame(job_title_index)\n",
    "df = df.set_index (\"job_title_id\")\n",
    "df.to_csv(\"../Transformed Data/job_title.csv\")\n",
    "\n",
    "df.head()"
   ]
  },
  {
   "cell_type": "markdown",
   "metadata": {},
   "source": [
    "# Country Index "
   ]
  },
  {
   "cell_type": "code",
   "execution_count": 4,
   "metadata": {},
   "outputs": [
    {
     "output_type": "execute_result",
     "data": {
      "text/plain": [
       "             country_name\n",
       "country_id               \n",
       "1               Singapore\n",
       "2                  Canada\n",
       "3           United States\n",
       "4               Australia"
      ],
      "text/html": "<div>\n<style scoped>\n    .dataframe tbody tr th:only-of-type {\n        vertical-align: middle;\n    }\n\n    .dataframe tbody tr th {\n        vertical-align: top;\n    }\n\n    .dataframe thead th {\n        text-align: right;\n    }\n</style>\n<table border=\"1\" class=\"dataframe\">\n  <thead>\n    <tr style=\"text-align: right;\">\n      <th></th>\n      <th>country_name</th>\n    </tr>\n    <tr>\n      <th>country_id</th>\n      <th></th>\n    </tr>\n  </thead>\n  <tbody>\n    <tr>\n      <th>1</th>\n      <td>Singapore</td>\n    </tr>\n    <tr>\n      <th>2</th>\n      <td>Canada</td>\n    </tr>\n    <tr>\n      <th>3</th>\n      <td>United States</td>\n    </tr>\n    <tr>\n      <th>4</th>\n      <td>Australia</td>\n    </tr>\n  </tbody>\n</table>\n</div>"
     },
     "metadata": {},
     "execution_count": 4
    }
   ],
   "source": [
    "country_index = {\"country_id\" : [1, 2, 3, 4],\n",
    "                  \"country_name\": [\"Singapore\", \"Canada\", \"United States\", \"Australia\"] }\n",
    "\n",
    "df = pd.DataFrame(country_index)\n",
    "df = df.set_index (\"country_id\")\n",
    "df.to_csv(\"../Transformed Data/country.csv\")\n",
    "\n",
    "df.head()"
   ]
  },
  {
   "cell_type": "code",
   "execution_count": null,
   "metadata": {},
   "outputs": [],
   "source": []
  }
 ],
 "metadata": {
  "kernelspec": {
   "display_name": "Python 3",
   "language": "python",
   "name": "python3"
  },
  "language_info": {
   "codemirror_mode": {
    "name": "ipython",
    "version": 3
   },
   "file_extension": ".py",
   "mimetype": "text/x-python",
   "name": "python",
   "nbconvert_exporter": "python",
   "pygments_lexer": "ipython3",
   "version": "3.7.9-final"
  }
 },
 "nbformat": 4,
 "nbformat_minor": 4
}