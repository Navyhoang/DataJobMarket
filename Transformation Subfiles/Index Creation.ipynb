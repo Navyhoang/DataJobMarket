{
 "cells": [
  {
   "cell_type": "code",
   "execution_count": 2,
   "metadata": {},
   "outputs": [],
   "source": [
    "import pandas as pd \n",
    "import os "
   ]
  },
  {
   "cell_type": "code",
   "execution_count": 8,
   "metadata": {},
   "outputs": [
    {
     "data": {
      "text/html": [
       "<div>\n",
       "<style scoped>\n",
       "    .dataframe tbody tr th:only-of-type {\n",
       "        vertical-align: middle;\n",
       "    }\n",
       "\n",
       "    .dataframe tbody tr th {\n",
       "        vertical-align: top;\n",
       "    }\n",
       "\n",
       "    .dataframe thead th {\n",
       "        text-align: right;\n",
       "    }\n",
       "</style>\n",
       "<table border=\"1\" class=\"dataframe\">\n",
       "  <thead>\n",
       "    <tr style=\"text-align: right;\">\n",
       "      <th></th>\n",
       "      <th>Unnamed: 0</th>\n",
       "      <th>Job ID</th>\n",
       "      <th>Job Title Index</th>\n",
       "      <th>Job Title</th>\n",
       "      <th>Company Name</th>\n",
       "      <th>Company Location</th>\n",
       "    </tr>\n",
       "  </thead>\n",
       "  <tbody>\n",
       "    <tr>\n",
       "      <th>0</th>\n",
       "      <td>0</td>\n",
       "      <td>pj_073affd41a7e51b1</td>\n",
       "      <td>1</td>\n",
       "      <td>Clinical Data Analyst - Epic</td>\n",
       "      <td>Akron Children's Hospital</td>\n",
       "      <td>Akron, OH 44308 (Downtown area)</td>\n",
       "    </tr>\n",
       "    <tr>\n",
       "      <th>1</th>\n",
       "      <td>1</td>\n",
       "      <td>pj_67d78959295c0291</td>\n",
       "      <td>1</td>\n",
       "      <td>Data Analyst</td>\n",
       "      <td>Guidehouse</td>\n",
       "      <td>Hill AFB, UT 84056</td>\n",
       "    </tr>\n",
       "    <tr>\n",
       "      <th>2</th>\n",
       "      <td>2</td>\n",
       "      <td>pj_620ece7848566de0</td>\n",
       "      <td>1</td>\n",
       "      <td>Data Analyst</td>\n",
       "      <td>Freedom Motors USA, Inc.</td>\n",
       "      <td>Battle Creek, MI 49015</td>\n",
       "    </tr>\n",
       "    <tr>\n",
       "      <th>3</th>\n",
       "      <td>3</td>\n",
       "      <td>p_4978853c04390cd1</td>\n",
       "      <td>1</td>\n",
       "      <td>Data Analyst Intern (Summer 2021)</td>\n",
       "      <td>Showwcase</td>\n",
       "      <td>San Francisco, CA 94117 (Haight-Ashbury area)</td>\n",
       "    </tr>\n",
       "    <tr>\n",
       "      <th>4</th>\n",
       "      <td>4</td>\n",
       "      <td>p_91c4ea26668c909c</td>\n",
       "      <td>1</td>\n",
       "      <td>Data Analyst</td>\n",
       "      <td>State Farm</td>\n",
       "      <td>Bloomington, IL 61701</td>\n",
       "    </tr>\n",
       "  </tbody>\n",
       "</table>\n",
       "</div>"
      ],
      "text/plain": [
       "   Unnamed: 0               Job ID  Job Title Index  \\\n",
       "0           0  pj_073affd41a7e51b1                1   \n",
       "1           1  pj_67d78959295c0291                1   \n",
       "2           2  pj_620ece7848566de0                1   \n",
       "3           3   p_4978853c04390cd1                1   \n",
       "4           4   p_91c4ea26668c909c                1   \n",
       "\n",
       "                           Job Title               Company Name  \\\n",
       "0       Clinical Data Analyst - Epic  Akron Children's Hospital   \n",
       "1                       Data Analyst                 Guidehouse   \n",
       "2                       Data Analyst   Freedom Motors USA, Inc.   \n",
       "3  Data Analyst Intern (Summer 2021)                  Showwcase   \n",
       "4                       Data Analyst                 State Farm   \n",
       "\n",
       "                                Company Location  \n",
       "0                Akron, OH 44308 (Downtown area)  \n",
       "1                             Hill AFB, UT 84056  \n",
       "2                         Battle Creek, MI 49015  \n",
       "3  San Francisco, CA 94117 (Haight-Ashbury area)  \n",
       "4                          Bloomington, IL 61701  "
      ]
     },
     "execution_count": 8,
     "metadata": {},
     "output_type": "execute_result"
    }
   ],
   "source": [
    "AU_filepath = \"../Clean Data/AU-JobMarket.csv\"\n",
    "SG_filepath = \"../Clean Data/SG-JobMarket.csv\"\n",
    "CA_filepath = \"../Clean Data/CA-JobMarket.csv\"\n",
    "US_filepath = \"../Clean Data/US-JobMarket.csv\"\n",
    "\n",
    "\n",
    "AU_df = pd.read_csv(AU_filepath)\n",
    "CA_df = pd.read_csv(SG_filepath)\n",
    "US_df = pd.read_csv(CA_filepath)\n",
    "SG_df = pd.read_csv(US_filepath)\n"
   ]
  },
  {
   "cell_type": "markdown",
   "metadata": {},
   "source": [
    "# Job Title Index"
   ]
  },
  {
   "cell_type": "code",
   "execution_count": 13,
   "metadata": {},
   "outputs": [],
   "source": [
    "job_title_index = {\"Job Title Index\" : [1, 2, 3, 4],\n",
    "                  \"Job Title\": [\"Data Analyst\", \"Data Scientist\", \"Data Engineer\", \"Machine Learning\"] }\n",
    "\n",
    "df = pd.DataFrame(job_title_index)\n",
    "df = df.set_index (\"Job Title Index\")\n",
    "df.to_csv(\"../Index Tables/job_title.csv\")"
   ]
  },
  {
   "cell_type": "markdown",
   "metadata": {},
   "source": [
    "# Country Index "
   ]
  },
  {
   "cell_type": "code",
   "execution_count": 14,
   "metadata": {},
   "outputs": [],
   "source": [
    "country_index = {\"Country Index\" : [1, 2, 3, 4],\n",
    "                  \"Country Name\": [\"Singapore\", \"Canada\", \"United States\", \"Australia\"] }\n",
    "\n",
    "df = pd.DataFrame(country_index)\n",
    "df = df.set_index (\"Country Index\")\n",
    "df.to_csv(\"../Index Tables/country.csv\")"
   ]
  },
  {
   "cell_type": "code",
   "execution_count": null,
   "metadata": {},
   "outputs": [],
   "source": []
  }
 ],
 "metadata": {
  "kernelspec": {
   "display_name": "Python 3",
   "language": "python",
   "name": "python3"
  },
  "language_info": {
   "codemirror_mode": {
    "name": "ipython",
    "version": 3
   },
   "file_extension": ".py",
   "mimetype": "text/x-python",
   "name": "python",
   "nbconvert_exporter": "python",
   "pygments_lexer": "ipython3",
   "version": "3.8.3"
  }
 },
 "nbformat": 4,
 "nbformat_minor": 4
}
