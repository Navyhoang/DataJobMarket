{
 "cells": [
  {
   "cell_type": "markdown",
   "metadata": {},
   "source": [
    "# Transformation of Data "
   ]
  },
  {
   "cell_type": "code",
   "execution_count": 1,
   "metadata": {},
   "outputs": [],
   "source": [
    "import pandas as pd \n",
    "import os \n",
    "import numpy as np"
   ]
  },
  {
   "cell_type": "markdown",
   "metadata": {},
   "source": [
    "## Job Market Data - CA, US, SG"
   ]
  },
  {
   "cell_type": "code",
   "execution_count": 2,
   "metadata": {},
   "outputs": [],
   "source": [
    "country = [\"SG\", \"CA\", \"US\", \"AU\"]\n",
    "#Country Index = [1, 2, 3, 4]"
   ]
  },
  {
   "cell_type": "code",
   "execution_count": 3,
   "metadata": {},
   "outputs": [],
   "source": [
    "index_num = 1 \n",
    "\n",
    "for x in country: \n",
    "    #import loaded csv\n",
    "    filepath = f\"../Clean Data/{x}-JobMarket.csv\"\n",
    "    df = pd.read_csv(filepath, index_col=0)\n",
    "    \n",
    "    #Cleaning:\n",
    "    \n",
    "    #removing jobs that have more than one unique job title index \n",
    "    #lots of data with duplicates - will remove duplicates but will keep the last entry\n",
    "    #i.e. if one job is labeled as both Machine Learning and Data Analyst, the Machine Learning label entry will be kept\n",
    "    #ranking will be Machine Learning(index=4), Data Engineer(index=3), Data Scientist(index=2), and then Data Analyst(index=1) \n",
    "    #(ranking is based on how specific each name is)\n",
    "    df = df.drop_duplicates(subset=['Job ID'], keep='last')\n",
    "    \n",
    "    #set job id as index (now unique)\n",
    "    df = df.set_index(\"Job ID\")\n",
    "    \n",
    "    #creating country index \n",
    "    df[\"Country\"] = index_num\n",
    "    index_num = index_num + 1\n",
    "    \n",
    "    #df to csv \n",
    "    df.to_csv(f\"../Transformed Data/{x}-JobMarket-Transformed.csv\")\n"
   ]
  },
  {
   "cell_type": "code",
   "execution_count": 4,
   "metadata": {},
   "outputs": [],
   "source": [
    "#Combining all the data into one csv\n",
    "\n",
    "filepathCA = \"../Transformed Data/CA-JobMarket-Transformed.csv\"\n",
    "dfCA = pd.read_csv(filepathCA, index_col=0)\n",
    "\n",
    "filepathAU = \"../Transformed Data/AU-JobMarket-Transformed.csv\"\n",
    "dfAU = pd.read_csv(filepathAU, index_col=0)\n",
    "\n",
    "filepathUS = \"../Transformed Data/US-JobMarket-Transformed.csv\"\n",
    "dfUS = pd.read_csv(filepathUS, index_col=0)\n",
    "\n",
    "filepathSG = \"../Transformed Data/SG-JobMarket-Transformed.csv\"\n",
    "dfSG = pd.read_csv(filepathSG, index_col=0)"
   ]
  },
  {
   "cell_type": "markdown",
   "metadata": {},
   "source": [
    "## Location Clean up "
   ]
  },
  {
   "cell_type": "code",
   "execution_count": 5,
   "metadata": {},
   "outputs": [],
   "source": [
    "dfCA[\"City\"], dfCA[\"State\"] = dfCA[\"Company Location\"].str.split(\", \", 1).str\n"
   ]
  },
  {
   "cell_type": "code",
   "execution_count": 6,
   "metadata": {},
   "outputs": [],
   "source": [
    "dfAU[\"City\"], dfAU[\"State\"] = dfAU[\"Company Location\"].str.rsplit(\" \", 1).str\n"
   ]
  },
  {
   "cell_type": "code",
   "execution_count": 7,
   "metadata": {},
   "outputs": [],
   "source": [
    "# Splite location information into City, State and others (Like zip code)\n",
    "dfUS[\"City\"], dfUS[\"State\"] = dfUS[\"Company Location\"].str.split(\", \", 1).str\n",
    "dfUS[\"State\"], dfUS[\"Zip Code\"] = dfUS[\"State\"].str.split(\" \", 1).str\n"
   ]
  },
  {
   "cell_type": "code",
   "execution_count": 8,
   "metadata": {},
   "outputs": [],
   "source": [
    "dfSG[\"City\"] = dfSG[\"Company Location\"]\n",
    "dfSG[\"State\"] = \"Singapore\"\n"
   ]
  },
  {
   "cell_type": "code",
   "execution_count": 9,
   "metadata": {},
   "outputs": [],
   "source": [
    "df = dfCA.append(dfAU)\n",
    "df = df.append(dfUS)\n",
    "df = df.append(dfSG)"
   ]
  },
  {
   "cell_type": "code",
   "execution_count": 10,
   "metadata": {},
   "outputs": [
    {
     "output_type": "execute_result",
     "data": {
      "text/plain": [
       "                     job_title_id  country_id  \\\n",
       "job_id                                          \n",
       "p_ecae2dcad8f17d8b              1           2   \n",
       "pj_12dccdfbb8ef0da5             1           2   \n",
       "pj_7837ad55c28258ea             1           2   \n",
       "p_05719d87a0059bf7              1           2   \n",
       "p_bf4bd5f13d04a674              1           2   \n",
       "...                           ...         ...   \n",
       "p_c9a71595fbad1ebd              4           1   \n",
       "p_ae6a40daf0546a81              4           1   \n",
       "p_1693547ea84bdc32              4           1   \n",
       "p_81eb5501dcf512e5              4           1   \n",
       "p_6692e89a1083804e              4           1   \n",
       "\n",
       "                                                             job_title  \\\n",
       "job_id                                                                   \n",
       "p_ecae2dcad8f17d8b                              Data & Systems Analyst   \n",
       "pj_12dccdfbb8ef0da5                  Junior Data Analyst - LOCAL | MTL   \n",
       "pj_7837ad55c28258ea  Pipeline Inline-Inspection Data Analyst (ILI L...   \n",
       "p_05719d87a0059bf7                          Data and Reporting Analyst   \n",
       "p_bf4bd5f13d04a674                       Specialist-Data Visualization   \n",
       "...                                                                ...   \n",
       "p_c9a71595fbad1ebd                                  CRO - Digital Bank   \n",
       "p_ae6a40daf0546a81   Senior Data Scientist - Image Processing & Com...   \n",
       "p_1693547ea84bdc32                      Principal Data Scientist (NLP)   \n",
       "p_81eb5501dcf512e5    Materials Specialist #SGUnitedTraineeships #SGUP   \n",
       "p_6692e89a1083804e                                  Software Developer   \n",
       "\n",
       "                                                   company_name  \\\n",
       "job_id                                                            \n",
       "p_ecae2dcad8f17d8b                    Protein Industries Canada   \n",
       "pj_12dccdfbb8ef0da5                             BDP CALL CENTER   \n",
       "pj_7837ad55c28258ea  Onstream Pipeline Inspection Services Inc.   \n",
       "p_05719d87a0059bf7                           Nunavut Government   \n",
       "p_bf4bd5f13d04a674                           Canadian Red Cross   \n",
       "...                                                         ...   \n",
       "p_c9a71595fbad1ebd                               Pure Hong Kong   \n",
       "p_ae6a40daf0546a81               BIOFOURMIS SINGAPORE PTE. LTD.   \n",
       "p_1693547ea84bdc32                                     Randstad   \n",
       "p_81eb5501dcf512e5         BECTON DICKINSON MEDICAL (S) PTE LTD   \n",
       "p_6692e89a1083804e                            G. TECH PTE. LTD.   \n",
       "\n",
       "                         company_location              city      state  \n",
       "job_id                                                                  \n",
       "p_ecae2dcad8f17d8b             Regina, SK            Regina         SK  \n",
       "pj_12dccdfbb8ef0da5  Vaudreuil-Dorion, QC  Vaudreuil-Dorion         QC  \n",
       "pj_7837ad55c28258ea           Calgary, AB           Calgary         AB  \n",
       "p_05719d87a0059bf7            Iqaluit, NU           Iqaluit         NU  \n",
       "p_bf4bd5f13d04a674                 Canada            Canada        NaN  \n",
       "...                                   ...               ...        ...  \n",
       "p_c9a71595fbad1ebd              Singapore         Singapore  Singapore  \n",
       "p_ae6a40daf0546a81          Jurong Island     Jurong Island  Singapore  \n",
       "p_1693547ea84bdc32              Singapore         Singapore  Singapore  \n",
       "p_81eb5501dcf512e5          Jurong Island     Jurong Island  Singapore  \n",
       "p_6692e89a1083804e                Hougang           Hougang  Singapore  \n",
       "\n",
       "[9871 rows x 7 columns]"
      ],
      "text/html": "<div>\n<style scoped>\n    .dataframe tbody tr th:only-of-type {\n        vertical-align: middle;\n    }\n\n    .dataframe tbody tr th {\n        vertical-align: top;\n    }\n\n    .dataframe thead th {\n        text-align: right;\n    }\n</style>\n<table border=\"1\" class=\"dataframe\">\n  <thead>\n    <tr style=\"text-align: right;\">\n      <th></th>\n      <th>job_title_id</th>\n      <th>country_id</th>\n      <th>job_title</th>\n      <th>company_name</th>\n      <th>company_location</th>\n      <th>city</th>\n      <th>state</th>\n    </tr>\n    <tr>\n      <th>job_id</th>\n      <th></th>\n      <th></th>\n      <th></th>\n      <th></th>\n      <th></th>\n      <th></th>\n      <th></th>\n    </tr>\n  </thead>\n  <tbody>\n    <tr>\n      <th>p_ecae2dcad8f17d8b</th>\n      <td>1</td>\n      <td>2</td>\n      <td>Data &amp; Systems Analyst</td>\n      <td>Protein Industries Canada</td>\n      <td>Regina, SK</td>\n      <td>Regina</td>\n      <td>SK</td>\n    </tr>\n    <tr>\n      <th>pj_12dccdfbb8ef0da5</th>\n      <td>1</td>\n      <td>2</td>\n      <td>Junior Data Analyst - LOCAL | MTL</td>\n      <td>BDP CALL CENTER</td>\n      <td>Vaudreuil-Dorion, QC</td>\n      <td>Vaudreuil-Dorion</td>\n      <td>QC</td>\n    </tr>\n    <tr>\n      <th>pj_7837ad55c28258ea</th>\n      <td>1</td>\n      <td>2</td>\n      <td>Pipeline Inline-Inspection Data Analyst (ILI L...</td>\n      <td>Onstream Pipeline Inspection Services Inc.</td>\n      <td>Calgary, AB</td>\n      <td>Calgary</td>\n      <td>AB</td>\n    </tr>\n    <tr>\n      <th>p_05719d87a0059bf7</th>\n      <td>1</td>\n      <td>2</td>\n      <td>Data and Reporting Analyst</td>\n      <td>Nunavut Government</td>\n      <td>Iqaluit, NU</td>\n      <td>Iqaluit</td>\n      <td>NU</td>\n    </tr>\n    <tr>\n      <th>p_bf4bd5f13d04a674</th>\n      <td>1</td>\n      <td>2</td>\n      <td>Specialist-Data Visualization</td>\n      <td>Canadian Red Cross</td>\n      <td>Canada</td>\n      <td>Canada</td>\n      <td>NaN</td>\n    </tr>\n    <tr>\n      <th>...</th>\n      <td>...</td>\n      <td>...</td>\n      <td>...</td>\n      <td>...</td>\n      <td>...</td>\n      <td>...</td>\n      <td>...</td>\n    </tr>\n    <tr>\n      <th>p_c9a71595fbad1ebd</th>\n      <td>4</td>\n      <td>1</td>\n      <td>CRO - Digital Bank</td>\n      <td>Pure Hong Kong</td>\n      <td>Singapore</td>\n      <td>Singapore</td>\n      <td>Singapore</td>\n    </tr>\n    <tr>\n      <th>p_ae6a40daf0546a81</th>\n      <td>4</td>\n      <td>1</td>\n      <td>Senior Data Scientist - Image Processing &amp; Com...</td>\n      <td>BIOFOURMIS SINGAPORE PTE. LTD.</td>\n      <td>Jurong Island</td>\n      <td>Jurong Island</td>\n      <td>Singapore</td>\n    </tr>\n    <tr>\n      <th>p_1693547ea84bdc32</th>\n      <td>4</td>\n      <td>1</td>\n      <td>Principal Data Scientist (NLP)</td>\n      <td>Randstad</td>\n      <td>Singapore</td>\n      <td>Singapore</td>\n      <td>Singapore</td>\n    </tr>\n    <tr>\n      <th>p_81eb5501dcf512e5</th>\n      <td>4</td>\n      <td>1</td>\n      <td>Materials Specialist #SGUnitedTraineeships #SGUP</td>\n      <td>BECTON DICKINSON MEDICAL (S) PTE LTD</td>\n      <td>Jurong Island</td>\n      <td>Jurong Island</td>\n      <td>Singapore</td>\n    </tr>\n    <tr>\n      <th>p_6692e89a1083804e</th>\n      <td>4</td>\n      <td>1</td>\n      <td>Software Developer</td>\n      <td>G. TECH PTE. LTD.</td>\n      <td>Hougang</td>\n      <td>Hougang</td>\n      <td>Singapore</td>\n    </tr>\n  </tbody>\n</table>\n<p>9871 rows × 7 columns</p>\n</div>"
     },
     "metadata": {},
     "execution_count": 10
    }
   ],
   "source": [
    "#formatting column names \n",
    "\n",
    "df.columns = ['job_title_id','job_title','company_name','company_location','country_id','city','state','zip_code']\n",
    "\n",
    "df = df[['job_title_id','country_id','job_title','company_name', 'company_location','city','state']]\n",
    "\n",
    "df.index.names=[\"job_id\"]\n",
    "\n",
    "df"
   ]
  },
  {
   "cell_type": "code",
   "execution_count": 11,
   "metadata": {},
   "outputs": [],
   "source": [
    "df.to_csv(f\"../Transformed Data/AllJobMarket-Transformed.csv\")"
   ]
  },
  {
   "cell_type": "markdown",
   "metadata": {},
   "source": [
    "# Creation of Location Table "
   ]
  },
  {
   "cell_type": "code",
   "execution_count": 11,
   "metadata": {},
   "outputs": [
    {
     "output_type": "execute_result",
     "data": {
      "text/plain": [
       "country_id     0\n",
       "city           0\n",
       "state         38\n",
       "dtype: int64"
      ]
     },
     "metadata": {},
     "execution_count": 11
    }
   ],
   "source": [
    "# Preparing a dataframe with unique city, state information\n",
    "location_df = df[[\"country_id\", \"city\", \"state\"]]\n",
    "location_df.drop_duplicates(inplace=True, ignore_index=True)\n",
    "location_df.isnull().sum()"
   ]
  },
  {
   "cell_type": "code",
   "execution_count": 13,
   "metadata": {},
   "outputs": [],
   "source": [
    "# Inversely select to get dataframe with no NaN rows.\n",
    "location_summary = location_df[~location_df[\"state\"].isnull()]\n",
    "location_summary.reset_index(inplace=True, drop=True)\n",
    "location_summary.to_csv(\"../Transformed Data/location-summary.csv\", index=False)"
   ]
  },
  {
   "cell_type": "markdown",
   "metadata": {},
   "source": [
    "## Mental Health Data "
   ]
  },
  {
   "cell_type": "code",
   "execution_count": 12,
   "metadata": {},
   "outputs": [
    {
     "output_type": "execute_result",
     "data": {
      "text/plain": [
       "                Timestamp  Age  Gender         Country state self_employed  \\\n",
       "0     2014-08-27 11:29:31   37  Female   United States    IL           NaN   \n",
       "1     2014-08-27 11:29:37   44       M   United States    IN           NaN   \n",
       "2     2014-08-27 11:29:44   32    Male          Canada   NaN           NaN   \n",
       "3     2014-08-27 11:29:46   31    Male  United Kingdom   NaN           NaN   \n",
       "4     2014-08-27 11:30:22   31    Male   United States    TX           NaN   \n",
       "...                   ...  ...     ...             ...   ...           ...   \n",
       "1254  2015-09-12 11:17:21   26    male  United Kingdom   NaN            No   \n",
       "1255  2015-09-26 01:07:35   32    Male   United States    IL            No   \n",
       "1256  2015-11-07 12:36:58   34    male   United States    CA            No   \n",
       "1257  2015-11-30 21:25:06   46       f   United States    NC            No   \n",
       "1258  2016-02-01 23:04:31   25    Male   United States    IL            No   \n",
       "\n",
       "     family_history treatment work_interfere    no_employees  ...  \\\n",
       "0                No       Yes          Often            6-25  ...   \n",
       "1                No        No         Rarely  More than 1000  ...   \n",
       "2                No        No         Rarely            6-25  ...   \n",
       "3               Yes       Yes          Often          26-100  ...   \n",
       "4                No        No          Never         100-500  ...   \n",
       "...             ...       ...            ...             ...  ...   \n",
       "1254             No       Yes            NaN          26-100  ...   \n",
       "1255            Yes       Yes          Often          26-100  ...   \n",
       "1256            Yes       Yes      Sometimes  More than 1000  ...   \n",
       "1257             No        No            NaN         100-500  ...   \n",
       "1258            Yes       Yes      Sometimes          26-100  ...   \n",
       "\n",
       "                   leave mental_health_consequence phys_health_consequence  \\\n",
       "0          Somewhat easy                        No                      No   \n",
       "1             Don't know                     Maybe                      No   \n",
       "2     Somewhat difficult                        No                      No   \n",
       "3     Somewhat difficult                       Yes                     Yes   \n",
       "4             Don't know                        No                      No   \n",
       "...                  ...                       ...                     ...   \n",
       "1254       Somewhat easy                        No                      No   \n",
       "1255  Somewhat difficult                        No                      No   \n",
       "1256  Somewhat difficult                       Yes                     Yes   \n",
       "1257          Don't know                       Yes                      No   \n",
       "1258          Don't know                     Maybe                      No   \n",
       "\n",
       "         coworkers    supervisor mental_health_interview  \\\n",
       "0     Some of them           Yes                      No   \n",
       "1               No            No                      No   \n",
       "2              Yes           Yes                     Yes   \n",
       "3     Some of them            No                   Maybe   \n",
       "4     Some of them           Yes                     Yes   \n",
       "...            ...           ...                     ...   \n",
       "1254  Some of them  Some of them                      No   \n",
       "1255  Some of them           Yes                      No   \n",
       "1256            No            No                      No   \n",
       "1257            No            No                      No   \n",
       "1258  Some of them            No                      No   \n",
       "\n",
       "     phys_health_interview mental_vs_physical obs_consequence comments  \n",
       "0                    Maybe                Yes              No      NaN  \n",
       "1                       No         Don't know              No      NaN  \n",
       "2                      Yes                 No              No      NaN  \n",
       "3                    Maybe                 No             Yes      NaN  \n",
       "4                      Yes         Don't know              No      NaN  \n",
       "...                    ...                ...             ...      ...  \n",
       "1254                    No         Don't know              No      NaN  \n",
       "1255                    No                Yes              No      NaN  \n",
       "1256                    No                 No              No      NaN  \n",
       "1257                    No                 No              No      NaN  \n",
       "1258                    No         Don't know              No      NaN  \n",
       "\n",
       "[1259 rows x 27 columns]"
      ],
      "text/html": "<div>\n<style scoped>\n    .dataframe tbody tr th:only-of-type {\n        vertical-align: middle;\n    }\n\n    .dataframe tbody tr th {\n        vertical-align: top;\n    }\n\n    .dataframe thead th {\n        text-align: right;\n    }\n</style>\n<table border=\"1\" class=\"dataframe\">\n  <thead>\n    <tr style=\"text-align: right;\">\n      <th></th>\n      <th>Timestamp</th>\n      <th>Age</th>\n      <th>Gender</th>\n      <th>Country</th>\n      <th>state</th>\n      <th>self_employed</th>\n      <th>family_history</th>\n      <th>treatment</th>\n      <th>work_interfere</th>\n      <th>no_employees</th>\n      <th>...</th>\n      <th>leave</th>\n      <th>mental_health_consequence</th>\n      <th>phys_health_consequence</th>\n      <th>coworkers</th>\n      <th>supervisor</th>\n      <th>mental_health_interview</th>\n      <th>phys_health_interview</th>\n      <th>mental_vs_physical</th>\n      <th>obs_consequence</th>\n      <th>comments</th>\n    </tr>\n  </thead>\n  <tbody>\n    <tr>\n      <th>0</th>\n      <td>2014-08-27 11:29:31</td>\n      <td>37</td>\n      <td>Female</td>\n      <td>United States</td>\n      <td>IL</td>\n      <td>NaN</td>\n      <td>No</td>\n      <td>Yes</td>\n      <td>Often</td>\n      <td>6-25</td>\n      <td>...</td>\n      <td>Somewhat easy</td>\n      <td>No</td>\n      <td>No</td>\n      <td>Some of them</td>\n      <td>Yes</td>\n      <td>No</td>\n      <td>Maybe</td>\n      <td>Yes</td>\n      <td>No</td>\n      <td>NaN</td>\n    </tr>\n    <tr>\n      <th>1</th>\n      <td>2014-08-27 11:29:37</td>\n      <td>44</td>\n      <td>M</td>\n      <td>United States</td>\n      <td>IN</td>\n      <td>NaN</td>\n      <td>No</td>\n      <td>No</td>\n      <td>Rarely</td>\n      <td>More than 1000</td>\n      <td>...</td>\n      <td>Don't know</td>\n      <td>Maybe</td>\n      <td>No</td>\n      <td>No</td>\n      <td>No</td>\n      <td>No</td>\n      <td>No</td>\n      <td>Don't know</td>\n      <td>No</td>\n      <td>NaN</td>\n    </tr>\n    <tr>\n      <th>2</th>\n      <td>2014-08-27 11:29:44</td>\n      <td>32</td>\n      <td>Male</td>\n      <td>Canada</td>\n      <td>NaN</td>\n      <td>NaN</td>\n      <td>No</td>\n      <td>No</td>\n      <td>Rarely</td>\n      <td>6-25</td>\n      <td>...</td>\n      <td>Somewhat difficult</td>\n      <td>No</td>\n      <td>No</td>\n      <td>Yes</td>\n      <td>Yes</td>\n      <td>Yes</td>\n      <td>Yes</td>\n      <td>No</td>\n      <td>No</td>\n      <td>NaN</td>\n    </tr>\n    <tr>\n      <th>3</th>\n      <td>2014-08-27 11:29:46</td>\n      <td>31</td>\n      <td>Male</td>\n      <td>United Kingdom</td>\n      <td>NaN</td>\n      <td>NaN</td>\n      <td>Yes</td>\n      <td>Yes</td>\n      <td>Often</td>\n      <td>26-100</td>\n      <td>...</td>\n      <td>Somewhat difficult</td>\n      <td>Yes</td>\n      <td>Yes</td>\n      <td>Some of them</td>\n      <td>No</td>\n      <td>Maybe</td>\n      <td>Maybe</td>\n      <td>No</td>\n      <td>Yes</td>\n      <td>NaN</td>\n    </tr>\n    <tr>\n      <th>4</th>\n      <td>2014-08-27 11:30:22</td>\n      <td>31</td>\n      <td>Male</td>\n      <td>United States</td>\n      <td>TX</td>\n      <td>NaN</td>\n      <td>No</td>\n      <td>No</td>\n      <td>Never</td>\n      <td>100-500</td>\n      <td>...</td>\n      <td>Don't know</td>\n      <td>No</td>\n      <td>No</td>\n      <td>Some of them</td>\n      <td>Yes</td>\n      <td>Yes</td>\n      <td>Yes</td>\n      <td>Don't know</td>\n      <td>No</td>\n      <td>NaN</td>\n    </tr>\n    <tr>\n      <th>...</th>\n      <td>...</td>\n      <td>...</td>\n      <td>...</td>\n      <td>...</td>\n      <td>...</td>\n      <td>...</td>\n      <td>...</td>\n      <td>...</td>\n      <td>...</td>\n      <td>...</td>\n      <td>...</td>\n      <td>...</td>\n      <td>...</td>\n      <td>...</td>\n      <td>...</td>\n      <td>...</td>\n      <td>...</td>\n      <td>...</td>\n      <td>...</td>\n      <td>...</td>\n      <td>...</td>\n    </tr>\n    <tr>\n      <th>1254</th>\n      <td>2015-09-12 11:17:21</td>\n      <td>26</td>\n      <td>male</td>\n      <td>United Kingdom</td>\n      <td>NaN</td>\n      <td>No</td>\n      <td>No</td>\n      <td>Yes</td>\n      <td>NaN</td>\n      <td>26-100</td>\n      <td>...</td>\n      <td>Somewhat easy</td>\n      <td>No</td>\n      <td>No</td>\n      <td>Some of them</td>\n      <td>Some of them</td>\n      <td>No</td>\n      <td>No</td>\n      <td>Don't know</td>\n      <td>No</td>\n      <td>NaN</td>\n    </tr>\n    <tr>\n      <th>1255</th>\n      <td>2015-09-26 01:07:35</td>\n      <td>32</td>\n      <td>Male</td>\n      <td>United States</td>\n      <td>IL</td>\n      <td>No</td>\n      <td>Yes</td>\n      <td>Yes</td>\n      <td>Often</td>\n      <td>26-100</td>\n      <td>...</td>\n      <td>Somewhat difficult</td>\n      <td>No</td>\n      <td>No</td>\n      <td>Some of them</td>\n      <td>Yes</td>\n      <td>No</td>\n      <td>No</td>\n      <td>Yes</td>\n      <td>No</td>\n      <td>NaN</td>\n    </tr>\n    <tr>\n      <th>1256</th>\n      <td>2015-11-07 12:36:58</td>\n      <td>34</td>\n      <td>male</td>\n      <td>United States</td>\n      <td>CA</td>\n      <td>No</td>\n      <td>Yes</td>\n      <td>Yes</td>\n      <td>Sometimes</td>\n      <td>More than 1000</td>\n      <td>...</td>\n      <td>Somewhat difficult</td>\n      <td>Yes</td>\n      <td>Yes</td>\n      <td>No</td>\n      <td>No</td>\n      <td>No</td>\n      <td>No</td>\n      <td>No</td>\n      <td>No</td>\n      <td>NaN</td>\n    </tr>\n    <tr>\n      <th>1257</th>\n      <td>2015-11-30 21:25:06</td>\n      <td>46</td>\n      <td>f</td>\n      <td>United States</td>\n      <td>NC</td>\n      <td>No</td>\n      <td>No</td>\n      <td>No</td>\n      <td>NaN</td>\n      <td>100-500</td>\n      <td>...</td>\n      <td>Don't know</td>\n      <td>Yes</td>\n      <td>No</td>\n      <td>No</td>\n      <td>No</td>\n      <td>No</td>\n      <td>No</td>\n      <td>No</td>\n      <td>No</td>\n      <td>NaN</td>\n    </tr>\n    <tr>\n      <th>1258</th>\n      <td>2016-02-01 23:04:31</td>\n      <td>25</td>\n      <td>Male</td>\n      <td>United States</td>\n      <td>IL</td>\n      <td>No</td>\n      <td>Yes</td>\n      <td>Yes</td>\n      <td>Sometimes</td>\n      <td>26-100</td>\n      <td>...</td>\n      <td>Don't know</td>\n      <td>Maybe</td>\n      <td>No</td>\n      <td>Some of them</td>\n      <td>No</td>\n      <td>No</td>\n      <td>No</td>\n      <td>Don't know</td>\n      <td>No</td>\n      <td>NaN</td>\n    </tr>\n  </tbody>\n</table>\n<p>1259 rows × 27 columns</p>\n</div>"
     },
     "metadata": {},
     "execution_count": 12
    }
   ],
   "source": [
    "#Pulling in Data \n",
    "filepath = f\"../Clean Data/MentalHealthSurvey.csv\"\n",
    "df = pd.read_csv(filepath, index_col=0)\n",
    "df"
   ]
  },
  {
   "cell_type": "code",
   "execution_count": 13,
   "metadata": {},
   "outputs": [
    {
     "output_type": "execute_result",
     "data": {
      "text/plain": [
       "                Timestamp  Age  Gender         Country state self_employed  \\\n",
       "0     2014-08-27 11:29:31   37  Female   United States    IL           N/A   \n",
       "1     2014-08-27 11:29:37   44       M   United States    IN           N/A   \n",
       "2     2014-08-27 11:29:44   32    Male          Canada   N/A           N/A   \n",
       "3     2014-08-27 11:29:46   31    Male  United Kingdom   N/A           N/A   \n",
       "4     2014-08-27 11:30:22   31    Male   United States    TX           N/A   \n",
       "...                   ...  ...     ...             ...   ...           ...   \n",
       "1254  2015-09-12 11:17:21   26    male  United Kingdom   N/A            No   \n",
       "1255  2015-09-26 01:07:35   32    Male   United States    IL            No   \n",
       "1256  2015-11-07 12:36:58   34    male   United States    CA            No   \n",
       "1257  2015-11-30 21:25:06   46       f   United States    NC            No   \n",
       "1258  2016-02-01 23:04:31   25    Male   United States    IL            No   \n",
       "\n",
       "     family_history treatment work_interfere    no_employees  ...  \\\n",
       "0                No       Yes          Often            6-25  ...   \n",
       "1                No        No         Rarely  More than 1000  ...   \n",
       "2                No        No         Rarely            6-25  ...   \n",
       "3               Yes       Yes          Often          26-100  ...   \n",
       "4                No        No          Never         100-500  ...   \n",
       "...             ...       ...            ...             ...  ...   \n",
       "1254             No       Yes            N/A          26-100  ...   \n",
       "1255            Yes       Yes          Often          26-100  ...   \n",
       "1256            Yes       Yes      Sometimes  More than 1000  ...   \n",
       "1257             No        No            N/A         100-500  ...   \n",
       "1258            Yes       Yes      Sometimes          26-100  ...   \n",
       "\n",
       "                   leave mental_health_consequence phys_health_consequence  \\\n",
       "0          Somewhat easy                        No                      No   \n",
       "1             Don't know                     Maybe                      No   \n",
       "2     Somewhat difficult                        No                      No   \n",
       "3     Somewhat difficult                       Yes                     Yes   \n",
       "4             Don't know                        No                      No   \n",
       "...                  ...                       ...                     ...   \n",
       "1254       Somewhat easy                        No                      No   \n",
       "1255  Somewhat difficult                        No                      No   \n",
       "1256  Somewhat difficult                       Yes                     Yes   \n",
       "1257          Don't know                       Yes                      No   \n",
       "1258          Don't know                     Maybe                      No   \n",
       "\n",
       "         coworkers    supervisor mental_health_interview  \\\n",
       "0     Some of them           Yes                      No   \n",
       "1               No            No                      No   \n",
       "2              Yes           Yes                     Yes   \n",
       "3     Some of them            No                   Maybe   \n",
       "4     Some of them           Yes                     Yes   \n",
       "...            ...           ...                     ...   \n",
       "1254  Some of them  Some of them                      No   \n",
       "1255  Some of them           Yes                      No   \n",
       "1256            No            No                      No   \n",
       "1257            No            No                      No   \n",
       "1258  Some of them            No                      No   \n",
       "\n",
       "     phys_health_interview mental_vs_physical obs_consequence comments  \n",
       "0                    Maybe                Yes              No      N/A  \n",
       "1                       No         Don't know              No      N/A  \n",
       "2                      Yes                 No              No      N/A  \n",
       "3                    Maybe                 No             Yes      N/A  \n",
       "4                      Yes         Don't know              No      N/A  \n",
       "...                    ...                ...             ...      ...  \n",
       "1254                    No         Don't know              No      N/A  \n",
       "1255                    No                Yes              No      N/A  \n",
       "1256                    No                 No              No      N/A  \n",
       "1257                    No                 No              No      N/A  \n",
       "1258                    No         Don't know              No      N/A  \n",
       "\n",
       "[1259 rows x 27 columns]"
      ],
      "text/html": "<div>\n<style scoped>\n    .dataframe tbody tr th:only-of-type {\n        vertical-align: middle;\n    }\n\n    .dataframe tbody tr th {\n        vertical-align: top;\n    }\n\n    .dataframe thead th {\n        text-align: right;\n    }\n</style>\n<table border=\"1\" class=\"dataframe\">\n  <thead>\n    <tr style=\"text-align: right;\">\n      <th></th>\n      <th>Timestamp</th>\n      <th>Age</th>\n      <th>Gender</th>\n      <th>Country</th>\n      <th>state</th>\n      <th>self_employed</th>\n      <th>family_history</th>\n      <th>treatment</th>\n      <th>work_interfere</th>\n      <th>no_employees</th>\n      <th>...</th>\n      <th>leave</th>\n      <th>mental_health_consequence</th>\n      <th>phys_health_consequence</th>\n      <th>coworkers</th>\n      <th>supervisor</th>\n      <th>mental_health_interview</th>\n      <th>phys_health_interview</th>\n      <th>mental_vs_physical</th>\n      <th>obs_consequence</th>\n      <th>comments</th>\n    </tr>\n  </thead>\n  <tbody>\n    <tr>\n      <th>0</th>\n      <td>2014-08-27 11:29:31</td>\n      <td>37</td>\n      <td>Female</td>\n      <td>United States</td>\n      <td>IL</td>\n      <td>N/A</td>\n      <td>No</td>\n      <td>Yes</td>\n      <td>Often</td>\n      <td>6-25</td>\n      <td>...</td>\n      <td>Somewhat easy</td>\n      <td>No</td>\n      <td>No</td>\n      <td>Some of them</td>\n      <td>Yes</td>\n      <td>No</td>\n      <td>Maybe</td>\n      <td>Yes</td>\n      <td>No</td>\n      <td>N/A</td>\n    </tr>\n    <tr>\n      <th>1</th>\n      <td>2014-08-27 11:29:37</td>\n      <td>44</td>\n      <td>M</td>\n      <td>United States</td>\n      <td>IN</td>\n      <td>N/A</td>\n      <td>No</td>\n      <td>No</td>\n      <td>Rarely</td>\n      <td>More than 1000</td>\n      <td>...</td>\n      <td>Don't know</td>\n      <td>Maybe</td>\n      <td>No</td>\n      <td>No</td>\n      <td>No</td>\n      <td>No</td>\n      <td>No</td>\n      <td>Don't know</td>\n      <td>No</td>\n      <td>N/A</td>\n    </tr>\n    <tr>\n      <th>2</th>\n      <td>2014-08-27 11:29:44</td>\n      <td>32</td>\n      <td>Male</td>\n      <td>Canada</td>\n      <td>N/A</td>\n      <td>N/A</td>\n      <td>No</td>\n      <td>No</td>\n      <td>Rarely</td>\n      <td>6-25</td>\n      <td>...</td>\n      <td>Somewhat difficult</td>\n      <td>No</td>\n      <td>No</td>\n      <td>Yes</td>\n      <td>Yes</td>\n      <td>Yes</td>\n      <td>Yes</td>\n      <td>No</td>\n      <td>No</td>\n      <td>N/A</td>\n    </tr>\n    <tr>\n      <th>3</th>\n      <td>2014-08-27 11:29:46</td>\n      <td>31</td>\n      <td>Male</td>\n      <td>United Kingdom</td>\n      <td>N/A</td>\n      <td>N/A</td>\n      <td>Yes</td>\n      <td>Yes</td>\n      <td>Often</td>\n      <td>26-100</td>\n      <td>...</td>\n      <td>Somewhat difficult</td>\n      <td>Yes</td>\n      <td>Yes</td>\n      <td>Some of them</td>\n      <td>No</td>\n      <td>Maybe</td>\n      <td>Maybe</td>\n      <td>No</td>\n      <td>Yes</td>\n      <td>N/A</td>\n    </tr>\n    <tr>\n      <th>4</th>\n      <td>2014-08-27 11:30:22</td>\n      <td>31</td>\n      <td>Male</td>\n      <td>United States</td>\n      <td>TX</td>\n      <td>N/A</td>\n      <td>No</td>\n      <td>No</td>\n      <td>Never</td>\n      <td>100-500</td>\n      <td>...</td>\n      <td>Don't know</td>\n      <td>No</td>\n      <td>No</td>\n      <td>Some of them</td>\n      <td>Yes</td>\n      <td>Yes</td>\n      <td>Yes</td>\n      <td>Don't know</td>\n      <td>No</td>\n      <td>N/A</td>\n    </tr>\n    <tr>\n      <th>...</th>\n      <td>...</td>\n      <td>...</td>\n      <td>...</td>\n      <td>...</td>\n      <td>...</td>\n      <td>...</td>\n      <td>...</td>\n      <td>...</td>\n      <td>...</td>\n      <td>...</td>\n      <td>...</td>\n      <td>...</td>\n      <td>...</td>\n      <td>...</td>\n      <td>...</td>\n      <td>...</td>\n      <td>...</td>\n      <td>...</td>\n      <td>...</td>\n      <td>...</td>\n      <td>...</td>\n    </tr>\n    <tr>\n      <th>1254</th>\n      <td>2015-09-12 11:17:21</td>\n      <td>26</td>\n      <td>male</td>\n      <td>United Kingdom</td>\n      <td>N/A</td>\n      <td>No</td>\n      <td>No</td>\n      <td>Yes</td>\n      <td>N/A</td>\n      <td>26-100</td>\n      <td>...</td>\n      <td>Somewhat easy</td>\n      <td>No</td>\n      <td>No</td>\n      <td>Some of them</td>\n      <td>Some of them</td>\n      <td>No</td>\n      <td>No</td>\n      <td>Don't know</td>\n      <td>No</td>\n      <td>N/A</td>\n    </tr>\n    <tr>\n      <th>1255</th>\n      <td>2015-09-26 01:07:35</td>\n      <td>32</td>\n      <td>Male</td>\n      <td>United States</td>\n      <td>IL</td>\n      <td>No</td>\n      <td>Yes</td>\n      <td>Yes</td>\n      <td>Often</td>\n      <td>26-100</td>\n      <td>...</td>\n      <td>Somewhat difficult</td>\n      <td>No</td>\n      <td>No</td>\n      <td>Some of them</td>\n      <td>Yes</td>\n      <td>No</td>\n      <td>No</td>\n      <td>Yes</td>\n      <td>No</td>\n      <td>N/A</td>\n    </tr>\n    <tr>\n      <th>1256</th>\n      <td>2015-11-07 12:36:58</td>\n      <td>34</td>\n      <td>male</td>\n      <td>United States</td>\n      <td>CA</td>\n      <td>No</td>\n      <td>Yes</td>\n      <td>Yes</td>\n      <td>Sometimes</td>\n      <td>More than 1000</td>\n      <td>...</td>\n      <td>Somewhat difficult</td>\n      <td>Yes</td>\n      <td>Yes</td>\n      <td>No</td>\n      <td>No</td>\n      <td>No</td>\n      <td>No</td>\n      <td>No</td>\n      <td>No</td>\n      <td>N/A</td>\n    </tr>\n    <tr>\n      <th>1257</th>\n      <td>2015-11-30 21:25:06</td>\n      <td>46</td>\n      <td>f</td>\n      <td>United States</td>\n      <td>NC</td>\n      <td>No</td>\n      <td>No</td>\n      <td>No</td>\n      <td>N/A</td>\n      <td>100-500</td>\n      <td>...</td>\n      <td>Don't know</td>\n      <td>Yes</td>\n      <td>No</td>\n      <td>No</td>\n      <td>No</td>\n      <td>No</td>\n      <td>No</td>\n      <td>No</td>\n      <td>No</td>\n      <td>N/A</td>\n    </tr>\n    <tr>\n      <th>1258</th>\n      <td>2016-02-01 23:04:31</td>\n      <td>25</td>\n      <td>Male</td>\n      <td>United States</td>\n      <td>IL</td>\n      <td>No</td>\n      <td>Yes</td>\n      <td>Yes</td>\n      <td>Sometimes</td>\n      <td>26-100</td>\n      <td>...</td>\n      <td>Don't know</td>\n      <td>Maybe</td>\n      <td>No</td>\n      <td>Some of them</td>\n      <td>No</td>\n      <td>No</td>\n      <td>No</td>\n      <td>Don't know</td>\n      <td>No</td>\n      <td>N/A</td>\n    </tr>\n  </tbody>\n</table>\n<p>1259 rows × 27 columns</p>\n</div>"
     },
     "metadata": {},
     "execution_count": 13
    }
   ],
   "source": [
    "#Replace blanks with \"N/A\"\n",
    "df = df.fillna(\"N/A\")\n",
    "\n",
    "df"
   ]
  },
  {
   "cell_type": "code",
   "execution_count": 14,
   "metadata": {},
   "outputs": [
    {
     "output_type": "execute_result",
     "data": {
      "text/plain": [
       "array(['United States', 'Canada', 'Australia', 'Singapore'], dtype=object)"
      ]
     },
     "metadata": {},
     "execution_count": 14
    }
   ],
   "source": [
    "df = df.loc[(df[\"Country\"] == \"Canada\") | (df[\"Country\"] == \"Australia\") | (df[\"Country\"] == \"Singapore\") | (df[\"Country\"] == \"United States\")]\n",
    "\n",
    "#checking that all four countries are still in df\n",
    "df[\"Country\"].unique()"
   ]
  },
  {
   "cell_type": "code",
   "execution_count": 15,
   "metadata": {},
   "outputs": [],
   "source": [
    "country_list = [\"Singapore\", \"Canada\", \"United States\", \"Australia\"]\n",
    "#Country Index = [1, 2, 3, 4]\n",
    "index_num = 1\n",
    "\n",
    "for country in country_list:   \n",
    "    #replacing with country index number \n",
    "    df[\"Country\"]= np.where((df.Country == country), index_num, df.Country)\n",
    "    index_num = index_num + 1\n"
   ]
  },
  {
   "cell_type": "code",
   "execution_count": 16,
   "metadata": {},
   "outputs": [
    {
     "output_type": "execute_result",
     "data": {
      "text/plain": [
       "array(['Female', 'Male', 'Other'], dtype=object)"
      ]
     },
     "metadata": {},
     "execution_count": 16
    }
   ],
   "source": [
    "#normalizing gender entry \n",
    "\n",
    "female = [\"Female\", \"female\", \"F\", \"f\", \"Female \", \"Femake\", \"Trans woman\", \"Cis Female\", \"Trans-female\", \"cis-female/femme\", \"queer/she/they\", \"Trans-female\" \"Cis Female\", \"Woman\", \"woman\", \"Female (trans)\", \"Female (cis)\", \"femail\"]\n",
    "male = [\"M\", \"Male\", \"male\", \"m\", \"Male-ish\", \"maile\", \"Cis Male\", \"Male (CIS)\", \"Make\", \"male leaning androgynous\", \"Male \", \"Man\", \"Mail\", \"msle\", \"cis male\"]\n",
    "other = [\"Guy (-ish) ^_^\", \"p\", \"non-binary\", \"Nah\", \"Genderqueer\", \"Other\"]\n",
    "\n",
    "\n",
    "for gender in female:   \n",
    "    #replacing with country index number \n",
    "    df[\"Gender\"]= np.where((df.Gender == gender), \"Female\", df.Gender)\n",
    "\n",
    "for gender in male:   \n",
    "    #replacing with country index number \n",
    "    df[\"Gender\"]= np.where((df.Gender == gender), \"Male\", df.Gender)\n",
    "\n",
    "for gender in other:   \n",
    "    #replacing with country index number \n",
    "    df[\"Gender\"]= np.where((df.Gender == gender), \"Other\", df.Gender)\n",
    "\n",
    "df[\"Gender\"].unique()"
   ]
  },
  {
   "cell_type": "code",
   "execution_count": 17,
   "metadata": {},
   "outputs": [
    {
     "output_type": "execute_result",
     "data": {
      "text/plain": [
       "                     timestamp  age  gender country_id state self_employed  \\\n",
       "sample_id                                                                    \n",
       "0          2014-08-27 11:29:31   37  Female          3    IL           N/A   \n",
       "1          2014-08-27 11:29:37   44    Male          3    IN           N/A   \n",
       "2          2014-08-27 11:29:44   32    Male          2   N/A           N/A   \n",
       "4          2014-08-27 11:30:22   31    Male          3    TX           N/A   \n",
       "5          2014-08-27 11:31:22   33    Male          3    TN           N/A   \n",
       "...                        ...  ...     ...        ...   ...           ...   \n",
       "1253       2015-08-25 19:59:38   36    Male          3    UT            No   \n",
       "1255       2015-09-26 01:07:35   32    Male          3    IL            No   \n",
       "1256       2015-11-07 12:36:58   34    Male          3    CA            No   \n",
       "1257       2015-11-30 21:25:06   46  Female          3    NC            No   \n",
       "1258       2016-02-01 23:04:31   25    Male          3    IL            No   \n",
       "\n",
       "          family_history treatment work_interfere    no_employees  ...  \\\n",
       "sample_id                                                          ...   \n",
       "0                     No       Yes          Often            6-25  ...   \n",
       "1                     No        No         Rarely  More than 1000  ...   \n",
       "2                     No        No         Rarely            6-25  ...   \n",
       "4                     No        No          Never         100-500  ...   \n",
       "5                    Yes        No      Sometimes            6-25  ...   \n",
       "...                  ...       ...            ...             ...  ...   \n",
       "1253                 Yes        No         Rarely  More than 1000  ...   \n",
       "1255                 Yes       Yes          Often          26-100  ...   \n",
       "1256                 Yes       Yes      Sometimes  More than 1000  ...   \n",
       "1257                  No        No            N/A         100-500  ...   \n",
       "1258                 Yes       Yes      Sometimes          26-100  ...   \n",
       "\n",
       "            seek_help   anonymity               leave  \\\n",
       "sample_id                                               \n",
       "0                 Yes         Yes       Somewhat easy   \n",
       "1          Don't know  Don't know          Don't know   \n",
       "2                  No  Don't know  Somewhat difficult   \n",
       "4          Don't know  Don't know          Don't know   \n",
       "5          Don't know  Don't know          Don't know   \n",
       "...               ...         ...                 ...   \n",
       "1253              Yes  Don't know       Somewhat easy   \n",
       "1255               No         Yes  Somewhat difficult   \n",
       "1256               No  Don't know  Somewhat difficult   \n",
       "1257               No  Don't know          Don't know   \n",
       "1258               No         Yes          Don't know   \n",
       "\n",
       "          mental_health_consequence phys_health_consequence     coworkers  \\\n",
       "sample_id                                                                   \n",
       "0                                No                      No  Some of them   \n",
       "1                             Maybe                      No            No   \n",
       "2                                No                      No           Yes   \n",
       "4                                No                      No  Some of them   \n",
       "5                                No                      No           Yes   \n",
       "...                             ...                     ...           ...   \n",
       "1253                          Maybe                   Maybe  Some of them   \n",
       "1255                             No                      No  Some of them   \n",
       "1256                            Yes                     Yes            No   \n",
       "1257                            Yes                      No            No   \n",
       "1258                          Maybe                      No  Some of them   \n",
       "\n",
       "             supervisor mental_health_interview phys_health_interview  \\\n",
       "sample_id                                                               \n",
       "0                   Yes                      No                 Maybe   \n",
       "1                    No                      No                    No   \n",
       "2                   Yes                     Yes                   Yes   \n",
       "4                   Yes                     Yes                   Yes   \n",
       "5                   Yes                      No                 Maybe   \n",
       "...                 ...                     ...                   ...   \n",
       "1253       Some of them                      No                    No   \n",
       "1255                Yes                      No                    No   \n",
       "1256                 No                      No                    No   \n",
       "1257                 No                      No                    No   \n",
       "1258                 No                      No                    No   \n",
       "\n",
       "          mental_vs_physical  \n",
       "sample_id                     \n",
       "0                        Yes  \n",
       "1                 Don't know  \n",
       "2                         No  \n",
       "4                 Don't know  \n",
       "5                 Don't know  \n",
       "...                      ...  \n",
       "1253              Don't know  \n",
       "1255                     Yes  \n",
       "1256                      No  \n",
       "1257                      No  \n",
       "1258              Don't know  \n",
       "\n",
       "[848 rows x 25 columns]"
      ],
      "text/html": "<div>\n<style scoped>\n    .dataframe tbody tr th:only-of-type {\n        vertical-align: middle;\n    }\n\n    .dataframe tbody tr th {\n        vertical-align: top;\n    }\n\n    .dataframe thead th {\n        text-align: right;\n    }\n</style>\n<table border=\"1\" class=\"dataframe\">\n  <thead>\n    <tr style=\"text-align: right;\">\n      <th></th>\n      <th>timestamp</th>\n      <th>age</th>\n      <th>gender</th>\n      <th>country_id</th>\n      <th>state</th>\n      <th>self_employed</th>\n      <th>family_history</th>\n      <th>treatment</th>\n      <th>work_interfere</th>\n      <th>no_employees</th>\n      <th>...</th>\n      <th>seek_help</th>\n      <th>anonymity</th>\n      <th>leave</th>\n      <th>mental_health_consequence</th>\n      <th>phys_health_consequence</th>\n      <th>coworkers</th>\n      <th>supervisor</th>\n      <th>mental_health_interview</th>\n      <th>phys_health_interview</th>\n      <th>mental_vs_physical</th>\n    </tr>\n    <tr>\n      <th>sample_id</th>\n      <th></th>\n      <th></th>\n      <th></th>\n      <th></th>\n      <th></th>\n      <th></th>\n      <th></th>\n      <th></th>\n      <th></th>\n      <th></th>\n      <th></th>\n      <th></th>\n      <th></th>\n      <th></th>\n      <th></th>\n      <th></th>\n      <th></th>\n      <th></th>\n      <th></th>\n      <th></th>\n      <th></th>\n    </tr>\n  </thead>\n  <tbody>\n    <tr>\n      <th>0</th>\n      <td>2014-08-27 11:29:31</td>\n      <td>37</td>\n      <td>Female</td>\n      <td>3</td>\n      <td>IL</td>\n      <td>N/A</td>\n      <td>No</td>\n      <td>Yes</td>\n      <td>Often</td>\n      <td>6-25</td>\n      <td>...</td>\n      <td>Yes</td>\n      <td>Yes</td>\n      <td>Somewhat easy</td>\n      <td>No</td>\n      <td>No</td>\n      <td>Some of them</td>\n      <td>Yes</td>\n      <td>No</td>\n      <td>Maybe</td>\n      <td>Yes</td>\n    </tr>\n    <tr>\n      <th>1</th>\n      <td>2014-08-27 11:29:37</td>\n      <td>44</td>\n      <td>Male</td>\n      <td>3</td>\n      <td>IN</td>\n      <td>N/A</td>\n      <td>No</td>\n      <td>No</td>\n      <td>Rarely</td>\n      <td>More than 1000</td>\n      <td>...</td>\n      <td>Don't know</td>\n      <td>Don't know</td>\n      <td>Don't know</td>\n      <td>Maybe</td>\n      <td>No</td>\n      <td>No</td>\n      <td>No</td>\n      <td>No</td>\n      <td>No</td>\n      <td>Don't know</td>\n    </tr>\n    <tr>\n      <th>2</th>\n      <td>2014-08-27 11:29:44</td>\n      <td>32</td>\n      <td>Male</td>\n      <td>2</td>\n      <td>N/A</td>\n      <td>N/A</td>\n      <td>No</td>\n      <td>No</td>\n      <td>Rarely</td>\n      <td>6-25</td>\n      <td>...</td>\n      <td>No</td>\n      <td>Don't know</td>\n      <td>Somewhat difficult</td>\n      <td>No</td>\n      <td>No</td>\n      <td>Yes</td>\n      <td>Yes</td>\n      <td>Yes</td>\n      <td>Yes</td>\n      <td>No</td>\n    </tr>\n    <tr>\n      <th>4</th>\n      <td>2014-08-27 11:30:22</td>\n      <td>31</td>\n      <td>Male</td>\n      <td>3</td>\n      <td>TX</td>\n      <td>N/A</td>\n      <td>No</td>\n      <td>No</td>\n      <td>Never</td>\n      <td>100-500</td>\n      <td>...</td>\n      <td>Don't know</td>\n      <td>Don't know</td>\n      <td>Don't know</td>\n      <td>No</td>\n      <td>No</td>\n      <td>Some of them</td>\n      <td>Yes</td>\n      <td>Yes</td>\n      <td>Yes</td>\n      <td>Don't know</td>\n    </tr>\n    <tr>\n      <th>5</th>\n      <td>2014-08-27 11:31:22</td>\n      <td>33</td>\n      <td>Male</td>\n      <td>3</td>\n      <td>TN</td>\n      <td>N/A</td>\n      <td>Yes</td>\n      <td>No</td>\n      <td>Sometimes</td>\n      <td>6-25</td>\n      <td>...</td>\n      <td>Don't know</td>\n      <td>Don't know</td>\n      <td>Don't know</td>\n      <td>No</td>\n      <td>No</td>\n      <td>Yes</td>\n      <td>Yes</td>\n      <td>No</td>\n      <td>Maybe</td>\n      <td>Don't know</td>\n    </tr>\n    <tr>\n      <th>...</th>\n      <td>...</td>\n      <td>...</td>\n      <td>...</td>\n      <td>...</td>\n      <td>...</td>\n      <td>...</td>\n      <td>...</td>\n      <td>...</td>\n      <td>...</td>\n      <td>...</td>\n      <td>...</td>\n      <td>...</td>\n      <td>...</td>\n      <td>...</td>\n      <td>...</td>\n      <td>...</td>\n      <td>...</td>\n      <td>...</td>\n      <td>...</td>\n      <td>...</td>\n      <td>...</td>\n    </tr>\n    <tr>\n      <th>1253</th>\n      <td>2015-08-25 19:59:38</td>\n      <td>36</td>\n      <td>Male</td>\n      <td>3</td>\n      <td>UT</td>\n      <td>No</td>\n      <td>Yes</td>\n      <td>No</td>\n      <td>Rarely</td>\n      <td>More than 1000</td>\n      <td>...</td>\n      <td>Yes</td>\n      <td>Don't know</td>\n      <td>Somewhat easy</td>\n      <td>Maybe</td>\n      <td>Maybe</td>\n      <td>Some of them</td>\n      <td>Some of them</td>\n      <td>No</td>\n      <td>No</td>\n      <td>Don't know</td>\n    </tr>\n    <tr>\n      <th>1255</th>\n      <td>2015-09-26 01:07:35</td>\n      <td>32</td>\n      <td>Male</td>\n      <td>3</td>\n      <td>IL</td>\n      <td>No</td>\n      <td>Yes</td>\n      <td>Yes</td>\n      <td>Often</td>\n      <td>26-100</td>\n      <td>...</td>\n      <td>No</td>\n      <td>Yes</td>\n      <td>Somewhat difficult</td>\n      <td>No</td>\n      <td>No</td>\n      <td>Some of them</td>\n      <td>Yes</td>\n      <td>No</td>\n      <td>No</td>\n      <td>Yes</td>\n    </tr>\n    <tr>\n      <th>1256</th>\n      <td>2015-11-07 12:36:58</td>\n      <td>34</td>\n      <td>Male</td>\n      <td>3</td>\n      <td>CA</td>\n      <td>No</td>\n      <td>Yes</td>\n      <td>Yes</td>\n      <td>Sometimes</td>\n      <td>More than 1000</td>\n      <td>...</td>\n      <td>No</td>\n      <td>Don't know</td>\n      <td>Somewhat difficult</td>\n      <td>Yes</td>\n      <td>Yes</td>\n      <td>No</td>\n      <td>No</td>\n      <td>No</td>\n      <td>No</td>\n      <td>No</td>\n    </tr>\n    <tr>\n      <th>1257</th>\n      <td>2015-11-30 21:25:06</td>\n      <td>46</td>\n      <td>Female</td>\n      <td>3</td>\n      <td>NC</td>\n      <td>No</td>\n      <td>No</td>\n      <td>No</td>\n      <td>N/A</td>\n      <td>100-500</td>\n      <td>...</td>\n      <td>No</td>\n      <td>Don't know</td>\n      <td>Don't know</td>\n      <td>Yes</td>\n      <td>No</td>\n      <td>No</td>\n      <td>No</td>\n      <td>No</td>\n      <td>No</td>\n      <td>No</td>\n    </tr>\n    <tr>\n      <th>1258</th>\n      <td>2016-02-01 23:04:31</td>\n      <td>25</td>\n      <td>Male</td>\n      <td>3</td>\n      <td>IL</td>\n      <td>No</td>\n      <td>Yes</td>\n      <td>Yes</td>\n      <td>Sometimes</td>\n      <td>26-100</td>\n      <td>...</td>\n      <td>No</td>\n      <td>Yes</td>\n      <td>Don't know</td>\n      <td>Maybe</td>\n      <td>No</td>\n      <td>Some of them</td>\n      <td>No</td>\n      <td>No</td>\n      <td>No</td>\n      <td>Don't know</td>\n    </tr>\n  </tbody>\n</table>\n<p>848 rows × 25 columns</p>\n</div>"
     },
     "metadata": {},
     "execution_count": 17
    }
   ],
   "source": [
    "df.columns = ['timestamp', 'age', 'gender', 'country_id', 'state', 'self_employed',\n",
    "       'family_history', 'treatment', 'work_interfere', 'no_employees',\n",
    "       'remote_work', 'tech_company', 'benefits', 'care_options',\n",
    "       'wellness_program', 'seek_help', 'anonymity', 'leave',\n",
    "       'mental_health_consequence', 'phys_health_consequence', 'coworkers',\n",
    "       'supervisor', 'mental_health_interview', 'phys_health_interview',\n",
    "       'mental_vs_physical', 'obs_consequence', 'comments']\n",
    "\n",
    "df = df[['timestamp', 'age', 'gender', 'country_id', 'state', 'self_employed',\n",
    "       'family_history', 'treatment', 'work_interfere', 'no_employees',\n",
    "       'remote_work', 'tech_company', 'benefits', 'care_options',\n",
    "       'wellness_program', 'seek_help', 'anonymity', 'leave',\n",
    "       'mental_health_consequence', 'phys_health_consequence', 'coworkers',\n",
    "       'supervisor', 'mental_health_interview', 'phys_health_interview',\n",
    "       'mental_vs_physical']]\n",
    "\n",
    "# Change index name\n",
    "df.index.names = [\"sample_id\"]\n",
    "\n",
    "df"
   ]
  },
  {
   "cell_type": "code",
   "execution_count": 18,
   "metadata": {},
   "outputs": [],
   "source": [
    "df.to_csv(\"../Transformed Data/MentalHealth-Transformed.csv\")"
   ]
  },
  {
   "cell_type": "markdown",
   "metadata": {},
   "source": [
    "## University Data "
   ]
  },
  {
   "cell_type": "code",
   "execution_count": 22,
   "metadata": {},
   "outputs": [
    {
     "output_type": "execute_result",
     "data": {
      "text/plain": [
       "   world_rank                            institution         country  \\\n",
       "0           1                     Harvard University             USA   \n",
       "1           2  Massachusetts Institute of Technology             USA   \n",
       "2           3                    Stanford University             USA   \n",
       "3           4                University of Cambridge  United Kingdom   \n",
       "4           5     California Institute of Technology             USA   \n",
       "\n",
       "   national_rank  quality_of_education  alumni_employment  quality_of_faculty  \\\n",
       "0              1                     7                  9                   1   \n",
       "1              2                     9                 17                   3   \n",
       "2              3                    17                 11                   5   \n",
       "3              1                    10                 24                   4   \n",
       "4              4                     2                 29                   7   \n",
       "\n",
       "   publications  influence  citations  broad_impact  patents   score  year  \n",
       "0             1          1          1           NaN        5  100.00  2012  \n",
       "1            12          4          4           NaN        1   91.67  2012  \n",
       "2             4          2          2           NaN       15   89.50  2012  \n",
       "3            16         16         11           NaN       50   86.17  2012  \n",
       "4            37         22         22           NaN       18   85.21  2012  "
      ],
      "text/html": "<div>\n<style scoped>\n    .dataframe tbody tr th:only-of-type {\n        vertical-align: middle;\n    }\n\n    .dataframe tbody tr th {\n        vertical-align: top;\n    }\n\n    .dataframe thead th {\n        text-align: right;\n    }\n</style>\n<table border=\"1\" class=\"dataframe\">\n  <thead>\n    <tr style=\"text-align: right;\">\n      <th></th>\n      <th>world_rank</th>\n      <th>institution</th>\n      <th>country</th>\n      <th>national_rank</th>\n      <th>quality_of_education</th>\n      <th>alumni_employment</th>\n      <th>quality_of_faculty</th>\n      <th>publications</th>\n      <th>influence</th>\n      <th>citations</th>\n      <th>broad_impact</th>\n      <th>patents</th>\n      <th>score</th>\n      <th>year</th>\n    </tr>\n  </thead>\n  <tbody>\n    <tr>\n      <th>0</th>\n      <td>1</td>\n      <td>Harvard University</td>\n      <td>USA</td>\n      <td>1</td>\n      <td>7</td>\n      <td>9</td>\n      <td>1</td>\n      <td>1</td>\n      <td>1</td>\n      <td>1</td>\n      <td>NaN</td>\n      <td>5</td>\n      <td>100.00</td>\n      <td>2012</td>\n    </tr>\n    <tr>\n      <th>1</th>\n      <td>2</td>\n      <td>Massachusetts Institute of Technology</td>\n      <td>USA</td>\n      <td>2</td>\n      <td>9</td>\n      <td>17</td>\n      <td>3</td>\n      <td>12</td>\n      <td>4</td>\n      <td>4</td>\n      <td>NaN</td>\n      <td>1</td>\n      <td>91.67</td>\n      <td>2012</td>\n    </tr>\n    <tr>\n      <th>2</th>\n      <td>3</td>\n      <td>Stanford University</td>\n      <td>USA</td>\n      <td>3</td>\n      <td>17</td>\n      <td>11</td>\n      <td>5</td>\n      <td>4</td>\n      <td>2</td>\n      <td>2</td>\n      <td>NaN</td>\n      <td>15</td>\n      <td>89.50</td>\n      <td>2012</td>\n    </tr>\n    <tr>\n      <th>3</th>\n      <td>4</td>\n      <td>University of Cambridge</td>\n      <td>United Kingdom</td>\n      <td>1</td>\n      <td>10</td>\n      <td>24</td>\n      <td>4</td>\n      <td>16</td>\n      <td>16</td>\n      <td>11</td>\n      <td>NaN</td>\n      <td>50</td>\n      <td>86.17</td>\n      <td>2012</td>\n    </tr>\n    <tr>\n      <th>4</th>\n      <td>5</td>\n      <td>California Institute of Technology</td>\n      <td>USA</td>\n      <td>4</td>\n      <td>2</td>\n      <td>29</td>\n      <td>7</td>\n      <td>37</td>\n      <td>22</td>\n      <td>22</td>\n      <td>NaN</td>\n      <td>18</td>\n      <td>85.21</td>\n      <td>2012</td>\n    </tr>\n  </tbody>\n</table>\n</div>"
     },
     "metadata": {},
     "execution_count": 22
    }
   ],
   "source": [
    "#Pulling in Data \n",
    "filepath = f\"../Clean Data/UniversityData.csv\"\n",
    "df = pd.read_csv(filepath, index_col=0)\n",
    "df.head()"
   ]
  },
  {
   "cell_type": "code",
   "execution_count": 23,
   "metadata": {},
   "outputs": [],
   "source": [
    "#normalizing country with index numbers\n",
    "\n",
    "country_list = [\"Singapore\", \"Canada\", \"USA\", \"Australia\"]\n",
    "#Country Index = [1, 2, 3, 4]\n",
    "index_num = 1\n",
    "\n",
    "for country_name in country_list:   \n",
    "    #replacing with country index number \n",
    "    df[\"country\"]= np.where((df.country == country_name), index_num, df.country)\n",
    "    index_num = index_num + 1"
   ]
  },
  {
   "cell_type": "code",
   "execution_count": 24,
   "metadata": {},
   "outputs": [
    {
     "output_type": "execute_result",
     "data": {
      "text/plain": [
       "array([3, 2, 4, 1], dtype=object)"
      ]
     },
     "metadata": {},
     "execution_count": 24
    }
   ],
   "source": [
    "#keeping data on the four countries \n",
    "\n",
    "df = df.loc[(df[\"country\"] == 1) | (df[\"country\"] == 2) | (df[\"country\"] == 3) | (df[\"country\"] == 4)]\n",
    "\n",
    "#checking that all four countries are still in df\n",
    "df[\"country\"].unique()"
   ]
  },
  {
   "cell_type": "code",
   "execution_count": 25,
   "metadata": {},
   "outputs": [
    {
     "output_type": "execute_result",
     "data": {
      "text/plain": [
       "   world_rank                            institution country  national_rank  \\\n",
       "0           1                     Harvard University       3              1   \n",
       "1           2  Massachusetts Institute of Technology       3              2   \n",
       "2           3                    Stanford University       3              3   \n",
       "4           5     California Institute of Technology       3              4   \n",
       "5           6                   Princeton University       3              5   \n",
       "\n",
       "   quality_of_education  alumni_employment  quality_of_faculty  publications  \\\n",
       "0                     7                  9                   1             1   \n",
       "1                     9                 17                   3            12   \n",
       "2                    17                 11                   5             4   \n",
       "4                     2                 29                   7            37   \n",
       "5                     8                 14                   2            53   \n",
       "\n",
       "   influence  citations  broad_impact  patents   score  year  \n",
       "0          1          1           NaN        5  100.00  2012  \n",
       "1          4          4           NaN        1   91.67  2012  \n",
       "2          2          2           NaN       15   89.50  2012  \n",
       "4         22         22           NaN       18   85.21  2012  \n",
       "5         33         26           NaN      101   82.50  2012  "
      ],
      "text/html": "<div>\n<style scoped>\n    .dataframe tbody tr th:only-of-type {\n        vertical-align: middle;\n    }\n\n    .dataframe tbody tr th {\n        vertical-align: top;\n    }\n\n    .dataframe thead th {\n        text-align: right;\n    }\n</style>\n<table border=\"1\" class=\"dataframe\">\n  <thead>\n    <tr style=\"text-align: right;\">\n      <th></th>\n      <th>world_rank</th>\n      <th>institution</th>\n      <th>country</th>\n      <th>national_rank</th>\n      <th>quality_of_education</th>\n      <th>alumni_employment</th>\n      <th>quality_of_faculty</th>\n      <th>publications</th>\n      <th>influence</th>\n      <th>citations</th>\n      <th>broad_impact</th>\n      <th>patents</th>\n      <th>score</th>\n      <th>year</th>\n    </tr>\n  </thead>\n  <tbody>\n    <tr>\n      <th>0</th>\n      <td>1</td>\n      <td>Harvard University</td>\n      <td>3</td>\n      <td>1</td>\n      <td>7</td>\n      <td>9</td>\n      <td>1</td>\n      <td>1</td>\n      <td>1</td>\n      <td>1</td>\n      <td>NaN</td>\n      <td>5</td>\n      <td>100.00</td>\n      <td>2012</td>\n    </tr>\n    <tr>\n      <th>1</th>\n      <td>2</td>\n      <td>Massachusetts Institute of Technology</td>\n      <td>3</td>\n      <td>2</td>\n      <td>9</td>\n      <td>17</td>\n      <td>3</td>\n      <td>12</td>\n      <td>4</td>\n      <td>4</td>\n      <td>NaN</td>\n      <td>1</td>\n      <td>91.67</td>\n      <td>2012</td>\n    </tr>\n    <tr>\n      <th>2</th>\n      <td>3</td>\n      <td>Stanford University</td>\n      <td>3</td>\n      <td>3</td>\n      <td>17</td>\n      <td>11</td>\n      <td>5</td>\n      <td>4</td>\n      <td>2</td>\n      <td>2</td>\n      <td>NaN</td>\n      <td>15</td>\n      <td>89.50</td>\n      <td>2012</td>\n    </tr>\n    <tr>\n      <th>4</th>\n      <td>5</td>\n      <td>California Institute of Technology</td>\n      <td>3</td>\n      <td>4</td>\n      <td>2</td>\n      <td>29</td>\n      <td>7</td>\n      <td>37</td>\n      <td>22</td>\n      <td>22</td>\n      <td>NaN</td>\n      <td>18</td>\n      <td>85.21</td>\n      <td>2012</td>\n    </tr>\n    <tr>\n      <th>5</th>\n      <td>6</td>\n      <td>Princeton University</td>\n      <td>3</td>\n      <td>5</td>\n      <td>8</td>\n      <td>14</td>\n      <td>2</td>\n      <td>53</td>\n      <td>33</td>\n      <td>26</td>\n      <td>NaN</td>\n      <td>101</td>\n      <td>82.50</td>\n      <td>2012</td>\n    </tr>\n  </tbody>\n</table>\n</div>"
     },
     "metadata": {},
     "execution_count": 25
    }
   ],
   "source": [
    "df.head()"
   ]
  },
  {
   "cell_type": "code",
   "execution_count": 26,
   "metadata": {},
   "outputs": [
    {
     "output_type": "execute_result",
     "data": {
      "text/plain": [
       "Index(['world_rank', 'institution', 'country', 'national_rank',\n",
       "       'quality_of_education', 'alumni_employment', 'quality_of_faculty',\n",
       "       'publications', 'influence', 'citations', 'broad_impact', 'patents',\n",
       "       'score', 'year'],\n",
       "      dtype='object')"
      ]
     },
     "metadata": {},
     "execution_count": 26
    }
   ],
   "source": [
    "latest_df = df.loc[df[\"year\"]==2014]\n",
    "latest_df.columns"
   ]
  },
  {
   "cell_type": "code",
   "execution_count": 27,
   "metadata": {},
   "outputs": [
    {
     "output_type": "execute_result",
     "data": {
      "text/plain": [
       "                                institution  world_rank country_id  \\\n",
       "0                        Harvard University           1          3   \n",
       "1     Massachusetts Institute of Technology           2          3   \n",
       "2                       Stanford University           3          3   \n",
       "4        California Institute of Technology           5          3   \n",
       "5                      Princeton University           6          3   \n",
       "...                                     ...         ...        ...   \n",
       "2116               University of Lethbridge         917          2   \n",
       "2128         University of Texas at El Paso         929          3   \n",
       "2135       University of California, Merced         936          3   \n",
       "2141              Charles Darwin University         942          4   \n",
       "2193                     Ryerson University         994          2   \n",
       "\n",
       "      national_rank  quality_of_education  alumni_employment  \\\n",
       "0                 1                     7                  9   \n",
       "1                 2                     9                 17   \n",
       "2                 3                    17                 11   \n",
       "4                 4                     2                 29   \n",
       "5                 5                     8                 14   \n",
       "...             ...                   ...                ...   \n",
       "2116             32                   367                567   \n",
       "2128            228                   367                442   \n",
       "2135            229                   367                567   \n",
       "2141             27                   367                567   \n",
       "2193             33                   367                567   \n",
       "\n",
       "      quality_of_faculty  publications  influence  citations  broad_impact  \\\n",
       "0                      1             1          1          1           NaN   \n",
       "1                      3            12          4          4           NaN   \n",
       "2                      5             4          2          2           NaN   \n",
       "4                      7            37         22         22           NaN   \n",
       "5                      2            53         33         26           NaN   \n",
       "...                  ...           ...        ...        ...           ...   \n",
       "2116                 218           957        718        511         867.0   \n",
       "2128                 218           910        838        812         906.0   \n",
       "2135                 218           899        540        812         906.0   \n",
       "2141                 218           931        742        645         896.0   \n",
       "2193                 218           811        969        511         975.0   \n",
       "\n",
       "      patents   score  year  \n",
       "0           5  100.00  2012  \n",
       "1           1   91.67  2012  \n",
       "2          15   89.50  2012  \n",
       "4          18   85.21  2012  \n",
       "5         101   82.50  2012  \n",
       "...       ...     ...   ...  \n",
       "2116      853   44.12  2015  \n",
       "2128      706   44.10  2015  \n",
       "2135      491   44.09  2015  \n",
       "2141      871   44.09  2015  \n",
       "2193      756   44.03  2015  \n",
       "\n",
       "[708 rows x 14 columns]"
      ],
      "text/html": "<div>\n<style scoped>\n    .dataframe tbody tr th:only-of-type {\n        vertical-align: middle;\n    }\n\n    .dataframe tbody tr th {\n        vertical-align: top;\n    }\n\n    .dataframe thead th {\n        text-align: right;\n    }\n</style>\n<table border=\"1\" class=\"dataframe\">\n  <thead>\n    <tr style=\"text-align: right;\">\n      <th></th>\n      <th>institution</th>\n      <th>world_rank</th>\n      <th>country_id</th>\n      <th>national_rank</th>\n      <th>quality_of_education</th>\n      <th>alumni_employment</th>\n      <th>quality_of_faculty</th>\n      <th>publications</th>\n      <th>influence</th>\n      <th>citations</th>\n      <th>broad_impact</th>\n      <th>patents</th>\n      <th>score</th>\n      <th>year</th>\n    </tr>\n  </thead>\n  <tbody>\n    <tr>\n      <th>0</th>\n      <td>Harvard University</td>\n      <td>1</td>\n      <td>3</td>\n      <td>1</td>\n      <td>7</td>\n      <td>9</td>\n      <td>1</td>\n      <td>1</td>\n      <td>1</td>\n      <td>1</td>\n      <td>NaN</td>\n      <td>5</td>\n      <td>100.00</td>\n      <td>2012</td>\n    </tr>\n    <tr>\n      <th>1</th>\n      <td>Massachusetts Institute of Technology</td>\n      <td>2</td>\n      <td>3</td>\n      <td>2</td>\n      <td>9</td>\n      <td>17</td>\n      <td>3</td>\n      <td>12</td>\n      <td>4</td>\n      <td>4</td>\n      <td>NaN</td>\n      <td>1</td>\n      <td>91.67</td>\n      <td>2012</td>\n    </tr>\n    <tr>\n      <th>2</th>\n      <td>Stanford University</td>\n      <td>3</td>\n      <td>3</td>\n      <td>3</td>\n      <td>17</td>\n      <td>11</td>\n      <td>5</td>\n      <td>4</td>\n      <td>2</td>\n      <td>2</td>\n      <td>NaN</td>\n      <td>15</td>\n      <td>89.50</td>\n      <td>2012</td>\n    </tr>\n    <tr>\n      <th>4</th>\n      <td>California Institute of Technology</td>\n      <td>5</td>\n      <td>3</td>\n      <td>4</td>\n      <td>2</td>\n      <td>29</td>\n      <td>7</td>\n      <td>37</td>\n      <td>22</td>\n      <td>22</td>\n      <td>NaN</td>\n      <td>18</td>\n      <td>85.21</td>\n      <td>2012</td>\n    </tr>\n    <tr>\n      <th>5</th>\n      <td>Princeton University</td>\n      <td>6</td>\n      <td>3</td>\n      <td>5</td>\n      <td>8</td>\n      <td>14</td>\n      <td>2</td>\n      <td>53</td>\n      <td>33</td>\n      <td>26</td>\n      <td>NaN</td>\n      <td>101</td>\n      <td>82.50</td>\n      <td>2012</td>\n    </tr>\n    <tr>\n      <th>...</th>\n      <td>...</td>\n      <td>...</td>\n      <td>...</td>\n      <td>...</td>\n      <td>...</td>\n      <td>...</td>\n      <td>...</td>\n      <td>...</td>\n      <td>...</td>\n      <td>...</td>\n      <td>...</td>\n      <td>...</td>\n      <td>...</td>\n      <td>...</td>\n    </tr>\n    <tr>\n      <th>2116</th>\n      <td>University of Lethbridge</td>\n      <td>917</td>\n      <td>2</td>\n      <td>32</td>\n      <td>367</td>\n      <td>567</td>\n      <td>218</td>\n      <td>957</td>\n      <td>718</td>\n      <td>511</td>\n      <td>867.0</td>\n      <td>853</td>\n      <td>44.12</td>\n      <td>2015</td>\n    </tr>\n    <tr>\n      <th>2128</th>\n      <td>University of Texas at El Paso</td>\n      <td>929</td>\n      <td>3</td>\n      <td>228</td>\n      <td>367</td>\n      <td>442</td>\n      <td>218</td>\n      <td>910</td>\n      <td>838</td>\n      <td>812</td>\n      <td>906.0</td>\n      <td>706</td>\n      <td>44.10</td>\n      <td>2015</td>\n    </tr>\n    <tr>\n      <th>2135</th>\n      <td>University of California, Merced</td>\n      <td>936</td>\n      <td>3</td>\n      <td>229</td>\n      <td>367</td>\n      <td>567</td>\n      <td>218</td>\n      <td>899</td>\n      <td>540</td>\n      <td>812</td>\n      <td>906.0</td>\n      <td>491</td>\n      <td>44.09</td>\n      <td>2015</td>\n    </tr>\n    <tr>\n      <th>2141</th>\n      <td>Charles Darwin University</td>\n      <td>942</td>\n      <td>4</td>\n      <td>27</td>\n      <td>367</td>\n      <td>567</td>\n      <td>218</td>\n      <td>931</td>\n      <td>742</td>\n      <td>645</td>\n      <td>896.0</td>\n      <td>871</td>\n      <td>44.09</td>\n      <td>2015</td>\n    </tr>\n    <tr>\n      <th>2193</th>\n      <td>Ryerson University</td>\n      <td>994</td>\n      <td>2</td>\n      <td>33</td>\n      <td>367</td>\n      <td>567</td>\n      <td>218</td>\n      <td>811</td>\n      <td>969</td>\n      <td>511</td>\n      <td>975.0</td>\n      <td>756</td>\n      <td>44.03</td>\n      <td>2015</td>\n    </tr>\n  </tbody>\n</table>\n<p>708 rows × 14 columns</p>\n</div>"
     },
     "metadata": {},
     "execution_count": 27
    }
   ],
   "source": [
    "#formatting column names \n",
    "\n",
    "df.columns = ['world_rank', 'institution', 'country_id', 'national_rank',\n",
    "       'quality_of_education', 'alumni_employment', 'quality_of_faculty',\n",
    "       'publications', 'influence', 'citations', 'broad_impact', 'patents',\n",
    "       'score', 'year']\n",
    "\n",
    "df = df[['institution', 'world_rank', 'country_id', 'national_rank',\n",
    "       'quality_of_education', 'alumni_employment', 'quality_of_faculty',\n",
    "       'publications', 'influence', 'citations', 'broad_impact', 'patents',\n",
    "       'score', 'year']]\n",
    "\n",
    "\n",
    "df"
   ]
  },
  {
   "cell_type": "code",
   "execution_count": 28,
   "metadata": {},
   "outputs": [],
   "source": [
    "df.to_csv(\"../Transformed Data/University-Transformed.csv\")"
   ]
  }
 ],
 "metadata": {
  "kernelspec": {
   "display_name": "Python 3",
   "language": "python",
   "name": "python3"
  },
  "language_info": {
   "codemirror_mode": {
    "name": "ipython",
    "version": 3
   },
   "file_extension": ".py",
   "mimetype": "text/x-python",
   "name": "python",
   "nbconvert_exporter": "python",
   "pygments_lexer": "ipython3",
   "version": "3.7.9-final"
  }
 },
 "nbformat": 4,
 "nbformat_minor": 4
}