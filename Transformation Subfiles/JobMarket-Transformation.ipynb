{
 "cells": [
  {
   "cell_type": "code",
   "execution_count": 1,
   "metadata": {},
   "outputs": [],
   "source": [
    "import pandas as pd \n",
    "import os "
   ]
  },
  {
   "cell_type": "code",
   "execution_count": 2,
   "metadata": {},
   "outputs": [],
   "source": [
    "country = [\"CA\", \"US\", \"SG\"]"
   ]
  },
  {
   "cell_type": "code",
   "execution_count": 7,
   "metadata": {},
   "outputs": [],
   "source": [
    "for x in country: \n",
    "    #import loaded csv\n",
    "    filepath = f\"../Clean Data/{x}-JobMarket.csv\"\n",
    "    df = pd.read_csv(filepath, index_col=0)\n",
    "    \n",
    "    #Cleaning:\n",
    "    \n",
    "    #removing jobs that have more than one unique job title index \n",
    "    #lots of data with duplicates - will remove duplicates but will keep the last entry\n",
    "    #i.e. if one job is labeled as both Machine Learning and Data Analyst, the Machine Learning label entry will be kept\n",
    "    #ranking will be Machine Learning(index=4), Data Engineer(index=3), Data Scientist(index=2), and then Data Analyst(index=1) \n",
    "    #(ranking is based on how specific each name is)\n",
    "    df = df.drop_duplicates(subset=['Job ID'], keep='last')\n",
    "    \n",
    "    #set job id as index (now unique)\n",
    "    df = df.set_index(\"Job ID\")\n",
    "    \n",
    "    #df to csv \n",
    "    df.to_csv(f\"../Transformed Data/{x}-JobMarket-Transformed.csv\")\n"
   ]
  },
  {
   "cell_type": "code",
   "execution_count": null,
   "metadata": {},
   "outputs": [],
   "source": [
    "    filepath = f\"../Clean Data/{x}-JobMarket.csv\"\n",
    "    df = pd.read_csv(filepath, index_col=0)"
   ]
  }
 ],
 "metadata": {
  "kernelspec": {
   "display_name": "Python 3",
   "language": "python",
   "name": "python3"
  },
  "language_info": {
   "codemirror_mode": {
    "name": "ipython",
    "version": 3
   },
   "file_extension": ".py",
   "mimetype": "text/x-python",
   "name": "python",
   "nbconvert_exporter": "python",
   "pygments_lexer": "ipython3",
   "version": "3.8.3"
  }
 },
 "nbformat": 4,
 "nbformat_minor": 4
}
